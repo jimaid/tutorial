{
 "cells": [
  {
   "cell_type": "code",
   "execution_count": 27,
   "metadata": {},
   "outputs": [],
   "source": [
    "import geopandas as gpd\n",
    "import pandas as pd\n",
    "import numpy as np\n",
    "import folium\n",
    "from geopandas.tools import geocode\n",
    "from folium import Marker"
   ]
  },
  {
   "cell_type": "code",
   "execution_count": 9,
   "metadata": {},
   "outputs": [
    {
     "data": {
      "text/html": [
       "<div>\n",
       "<style scoped>\n",
       "    .dataframe tbody tr th:only-of-type {\n",
       "        vertical-align: middle;\n",
       "    }\n",
       "\n",
       "    .dataframe tbody tr th {\n",
       "        vertical-align: top;\n",
       "    }\n",
       "\n",
       "    .dataframe thead th {\n",
       "        text-align: right;\n",
       "    }\n",
       "</style>\n",
       "<table border=\"1\" class=\"dataframe\">\n",
       "  <thead>\n",
       "    <tr style=\"text-align: right;\">\n",
       "      <th></th>\n",
       "      <th>Name</th>\n",
       "    </tr>\n",
       "  </thead>\n",
       "  <tbody>\n",
       "    <tr>\n",
       "      <th>0</th>\n",
       "      <td>University of Oxford</td>\n",
       "    </tr>\n",
       "    <tr>\n",
       "      <th>1</th>\n",
       "      <td>University of Cambridge</td>\n",
       "    </tr>\n",
       "    <tr>\n",
       "      <th>2</th>\n",
       "      <td>Imperial College London</td>\n",
       "    </tr>\n",
       "    <tr>\n",
       "      <th>3</th>\n",
       "      <td>ETH Zurich</td>\n",
       "    </tr>\n",
       "    <tr>\n",
       "      <th>4</th>\n",
       "      <td>UCL</td>\n",
       "    </tr>\n",
       "  </tbody>\n",
       "</table>\n",
       "</div>"
      ],
      "text/plain": [
       "                      Name\n",
       "0     University of Oxford\n",
       "1  University of Cambridge\n",
       "2  Imperial College London\n",
       "3               ETH Zurich\n",
       "4                      UCL"
      ]
     },
     "execution_count": 9,
     "metadata": {},
     "output_type": "execute_result"
    }
   ],
   "source": [
    "uni = pd.read_csv('top_universities.csv')\n",
    "uni.head()"
   ]
  },
  {
   "cell_type": "code",
   "execution_count": 8,
   "metadata": {},
   "outputs": [],
   "source": [
    "UG ='University of Ghana'\n",
    "SA = 'University of Pretoria'\n",
    "MA = 'Makerere Univeristy'\n",
    "NG = 'University of Ibadan'\n",
    "KE = 'University of Nairobi'"
   ]
  },
  {
   "cell_type": "code",
   "execution_count": 11,
   "metadata": {},
   "outputs": [
    {
     "data": {
      "text/html": [
       "<div>\n",
       "<style scoped>\n",
       "    .dataframe tbody tr th:only-of-type {\n",
       "        vertical-align: middle;\n",
       "    }\n",
       "\n",
       "    .dataframe tbody tr th {\n",
       "        vertical-align: top;\n",
       "    }\n",
       "\n",
       "    .dataframe thead th {\n",
       "        text-align: right;\n",
       "    }\n",
       "</style>\n",
       "<table border=\"1\" class=\"dataframe\">\n",
       "  <thead>\n",
       "    <tr style=\"text-align: right;\">\n",
       "      <th></th>\n",
       "      <th>Name</th>\n",
       "    </tr>\n",
       "  </thead>\n",
       "  <tbody>\n",
       "    <tr>\n",
       "      <th>0</th>\n",
       "      <td>University of Oxford</td>\n",
       "    </tr>\n",
       "    <tr>\n",
       "      <th>1</th>\n",
       "      <td>University of Cambridge</td>\n",
       "    </tr>\n",
       "    <tr>\n",
       "      <th>2</th>\n",
       "      <td>Imperial College London</td>\n",
       "    </tr>\n",
       "    <tr>\n",
       "      <th>3</th>\n",
       "      <td>ETH Zurich</td>\n",
       "    </tr>\n",
       "    <tr>\n",
       "      <th>4</th>\n",
       "      <td>UCL</td>\n",
       "    </tr>\n",
       "  </tbody>\n",
       "</table>\n",
       "</div>"
      ],
      "text/plain": [
       "                      Name\n",
       "0     University of Oxford\n",
       "1  University of Cambridge\n",
       "2  Imperial College London\n",
       "3               ETH Zurich\n",
       "4                      UCL"
      ]
     },
     "execution_count": 11,
     "metadata": {},
     "output_type": "execute_result"
    }
   ],
   "source": [
    "top_uni = uni.append(pd.DataFrame([UG,SA,MA,NG,KE], columns=uni.columns), ignore_index=True)\n",
    "top_uni.head()"
   ]
  },
  {
   "cell_type": "code",
   "execution_count": 12,
   "metadata": {},
   "outputs": [
    {
     "data": {
      "text/html": [
       "<div>\n",
       "<style scoped>\n",
       "    .dataframe tbody tr th:only-of-type {\n",
       "        vertical-align: middle;\n",
       "    }\n",
       "\n",
       "    .dataframe tbody tr th {\n",
       "        vertical-align: top;\n",
       "    }\n",
       "\n",
       "    .dataframe thead th {\n",
       "        text-align: right;\n",
       "    }\n",
       "</style>\n",
       "<table border=\"1\" class=\"dataframe\">\n",
       "  <thead>\n",
       "    <tr style=\"text-align: right;\">\n",
       "      <th></th>\n",
       "      <th>Name</th>\n",
       "      <th>Latitude</th>\n",
       "      <th>Longitude</th>\n",
       "      <th>Geometry</th>\n",
       "    </tr>\n",
       "  </thead>\n",
       "  <tbody>\n",
       "    <tr>\n",
       "      <th>0</th>\n",
       "      <td>University of Oxford</td>\n",
       "      <td>51.758708</td>\n",
       "      <td>-1.255668</td>\n",
       "      <td>POINT (-1.255668482609204 51.75870755)</td>\n",
       "    </tr>\n",
       "    <tr>\n",
       "      <th>1</th>\n",
       "      <td>University of Cambridge</td>\n",
       "      <td>52.199852</td>\n",
       "      <td>0.119739</td>\n",
       "      <td>POINT (0.1197386574107438 52.1998523)</td>\n",
       "    </tr>\n",
       "    <tr>\n",
       "      <th>2</th>\n",
       "      <td>Imperial College London</td>\n",
       "      <td>51.498871</td>\n",
       "      <td>-0.175608</td>\n",
       "      <td>POINT (-0.175607955839404 51.49887085)</td>\n",
       "    </tr>\n",
       "    <tr>\n",
       "      <th>3</th>\n",
       "      <td>ETH Zurich</td>\n",
       "      <td>47.377327</td>\n",
       "      <td>8.547509</td>\n",
       "      <td>POINT (8.5475089 47.3773269)</td>\n",
       "    </tr>\n",
       "    <tr>\n",
       "      <th>4</th>\n",
       "      <td>UCL</td>\n",
       "      <td>51.524126</td>\n",
       "      <td>-0.132930</td>\n",
       "      <td>POINT (-0.1329302373595478 51.52412645)</td>\n",
       "    </tr>\n",
       "  </tbody>\n",
       "</table>\n",
       "</div>"
      ],
      "text/plain": [
       "                      Name   Latitude  Longitude  \\\n",
       "0     University of Oxford  51.758708  -1.255668   \n",
       "1  University of Cambridge  52.199852   0.119739   \n",
       "2  Imperial College London  51.498871  -0.175608   \n",
       "3               ETH Zurich  47.377327   8.547509   \n",
       "4                      UCL  51.524126  -0.132930   \n",
       "\n",
       "                                  Geometry  \n",
       "0   POINT (-1.255668482609204 51.75870755)  \n",
       "1    POINT (0.1197386574107438 52.1998523)  \n",
       "2   POINT (-0.175607955839404 51.49887085)  \n",
       "3             POINT (8.5475089 47.3773269)  \n",
       "4  POINT (-0.1329302373595478 51.52412645)  "
      ]
     },
     "execution_count": 12,
     "metadata": {},
     "output_type": "execute_result"
    }
   ],
   "source": [
    "def coder(row):\n",
    "    try:\n",
    "        point = geocode(row, provider='nominatim').geometry.iloc[0]\n",
    "        return pd.Series({'Lat':point.y, 'Long':point.x,'geometry':point})\n",
    "    except:\n",
    "        None\n",
    "top_uni[['Latitude','Longitude','Geometry']]=top_uni.apply(lambda x: coder(x['Name']), axis=1)\n",
    "top_uni.head()"
   ]
  },
  {
   "cell_type": "code",
   "execution_count": 15,
   "metadata": {},
   "outputs": [
    {
     "name": "stdout",
     "output_type": "stream",
     "text": [
      "90.47619047619048% of universities were loaded\n"
     ]
    }
   ],
   "source": [
    "#what percentage of universities were successfully loaded\n",
    "print(\"{}% of universities were loaded\".format(\n",
    "    (1-sum(np.isnan(top_uni['Latitude']))/len(top_uni))*100)\n",
    ")"
   ]
  },
  {
   "cell_type": "code",
   "execution_count": 23,
   "metadata": {},
   "outputs": [
    {
     "data": {
      "text/html": [
       "<div>\n",
       "<style scoped>\n",
       "    .dataframe tbody tr th:only-of-type {\n",
       "        vertical-align: middle;\n",
       "    }\n",
       "\n",
       "    .dataframe tbody tr th {\n",
       "        vertical-align: top;\n",
       "    }\n",
       "\n",
       "    .dataframe thead th {\n",
       "        text-align: right;\n",
       "    }\n",
       "</style>\n",
       "<table border=\"1\" class=\"dataframe\">\n",
       "  <thead>\n",
       "    <tr style=\"text-align: right;\">\n",
       "      <th></th>\n",
       "      <th>Name</th>\n",
       "      <th>Latitude</th>\n",
       "      <th>Longitude</th>\n",
       "      <th>Geometry</th>\n",
       "    </tr>\n",
       "  </thead>\n",
       "  <tbody>\n",
       "    <tr>\n",
       "      <th>0</th>\n",
       "      <td>University of Oxford</td>\n",
       "      <td>51.758708</td>\n",
       "      <td>-1.255668</td>\n",
       "      <td>POINT (-1.255668482609204 51.75870755)</td>\n",
       "    </tr>\n",
       "    <tr>\n",
       "      <th>1</th>\n",
       "      <td>University of Cambridge</td>\n",
       "      <td>52.199852</td>\n",
       "      <td>0.119739</td>\n",
       "      <td>POINT (0.1197386574107438 52.1998523)</td>\n",
       "    </tr>\n",
       "    <tr>\n",
       "      <th>2</th>\n",
       "      <td>Imperial College London</td>\n",
       "      <td>51.498871</td>\n",
       "      <td>-0.175608</td>\n",
       "      <td>POINT (-0.175607955839404 51.49887085)</td>\n",
       "    </tr>\n",
       "    <tr>\n",
       "      <th>3</th>\n",
       "      <td>ETH Zurich</td>\n",
       "      <td>47.377327</td>\n",
       "      <td>8.547509</td>\n",
       "      <td>POINT (8.5475089 47.3773269)</td>\n",
       "    </tr>\n",
       "    <tr>\n",
       "      <th>4</th>\n",
       "      <td>UCL</td>\n",
       "      <td>51.524126</td>\n",
       "      <td>-0.132930</td>\n",
       "      <td>POINT (-0.1329302373595478 51.52412645)</td>\n",
       "    </tr>\n",
       "  </tbody>\n",
       "</table>\n",
       "</div>"
      ],
      "text/plain": [
       "                      Name   Latitude  Longitude  \\\n",
       "0     University of Oxford  51.758708  -1.255668   \n",
       "1  University of Cambridge  52.199852   0.119739   \n",
       "2  Imperial College London  51.498871  -0.175608   \n",
       "3               ETH Zurich  47.377327   8.547509   \n",
       "4                      UCL  51.524126  -0.132930   \n",
       "\n",
       "                                  Geometry  \n",
       "0   POINT (-1.255668482609204 51.75870755)  \n",
       "1    POINT (0.1197386574107438 52.1998523)  \n",
       "2   POINT (-0.175607955839404 51.49887085)  \n",
       "3             POINT (8.5475089 47.3773269)  \n",
       "4  POINT (-0.1329302373595478 51.52412645)  "
      ]
     },
     "execution_count": 23,
     "metadata": {},
     "output_type": "execute_result"
    }
   ],
   "source": [
    "#Drop all unloaded universities\n",
    "top_uni=top_uni.loc[~np.isnan(top_uni['Latitude'])]\n",
    "top_uni.head()"
   ]
  },
  {
   "cell_type": "code",
   "execution_count": 25,
   "metadata": {},
   "outputs": [
    {
     "data": {
      "text/html": [
       "<div>\n",
       "<style scoped>\n",
       "    .dataframe tbody tr th:only-of-type {\n",
       "        vertical-align: middle;\n",
       "    }\n",
       "\n",
       "    .dataframe tbody tr th {\n",
       "        vertical-align: top;\n",
       "    }\n",
       "\n",
       "    .dataframe thead th {\n",
       "        text-align: right;\n",
       "    }\n",
       "</style>\n",
       "<table border=\"1\" class=\"dataframe\">\n",
       "  <thead>\n",
       "    <tr style=\"text-align: right;\">\n",
       "      <th></th>\n",
       "      <th>Name</th>\n",
       "      <th>Latitude</th>\n",
       "      <th>Longitude</th>\n",
       "      <th>Geometry</th>\n",
       "      <th>geometry</th>\n",
       "    </tr>\n",
       "  </thead>\n",
       "  <tbody>\n",
       "    <tr>\n",
       "      <th>0</th>\n",
       "      <td>University of Oxford</td>\n",
       "      <td>51.758708</td>\n",
       "      <td>-1.255668</td>\n",
       "      <td>POINT (-1.255668482609204 51.75870755)</td>\n",
       "      <td>POINT (-1.25567 51.75871)</td>\n",
       "    </tr>\n",
       "    <tr>\n",
       "      <th>1</th>\n",
       "      <td>University of Cambridge</td>\n",
       "      <td>52.199852</td>\n",
       "      <td>0.119739</td>\n",
       "      <td>POINT (0.1197386574107438 52.1998523)</td>\n",
       "      <td>POINT (0.11974 52.19985)</td>\n",
       "    </tr>\n",
       "    <tr>\n",
       "      <th>2</th>\n",
       "      <td>Imperial College London</td>\n",
       "      <td>51.498871</td>\n",
       "      <td>-0.175608</td>\n",
       "      <td>POINT (-0.175607955839404 51.49887085)</td>\n",
       "      <td>POINT (-0.17561 51.49887)</td>\n",
       "    </tr>\n",
       "    <tr>\n",
       "      <th>3</th>\n",
       "      <td>ETH Zurich</td>\n",
       "      <td>47.377327</td>\n",
       "      <td>8.547509</td>\n",
       "      <td>POINT (8.5475089 47.3773269)</td>\n",
       "      <td>POINT (8.54751 47.37733)</td>\n",
       "    </tr>\n",
       "    <tr>\n",
       "      <th>4</th>\n",
       "      <td>UCL</td>\n",
       "      <td>51.524126</td>\n",
       "      <td>-0.132930</td>\n",
       "      <td>POINT (-0.1329302373595478 51.52412645)</td>\n",
       "      <td>POINT (-0.13293 51.52413)</td>\n",
       "    </tr>\n",
       "  </tbody>\n",
       "</table>\n",
       "</div>"
      ],
      "text/plain": [
       "                      Name   Latitude  Longitude  \\\n",
       "0     University of Oxford  51.758708  -1.255668   \n",
       "1  University of Cambridge  52.199852   0.119739   \n",
       "2  Imperial College London  51.498871  -0.175608   \n",
       "3               ETH Zurich  47.377327   8.547509   \n",
       "4                      UCL  51.524126  -0.132930   \n",
       "\n",
       "                                  Geometry                   geometry  \n",
       "0   POINT (-1.255668482609204 51.75870755)  POINT (-1.25567 51.75871)  \n",
       "1    POINT (0.1197386574107438 52.1998523)   POINT (0.11974 52.19985)  \n",
       "2   POINT (-0.175607955839404 51.49887085)  POINT (-0.17561 51.49887)  \n",
       "3             POINT (8.5475089 47.3773269)   POINT (8.54751 47.37733)  \n",
       "4  POINT (-0.1329302373595478 51.52412645)  POINT (-0.13293 51.52413)  "
      ]
     },
     "execution_count": 25,
     "metadata": {},
     "output_type": "execute_result"
    }
   ],
   "source": [
    "#convert to GeoDataFrame\n",
    "univ = gpd.GeoDataFrame(top_uni, geometry=top_uni.Geometry)\n",
    "univ.crs={'init':'4326'}\n",
    "univ.head()"
   ]
  },
  {
   "cell_type": "code",
   "execution_count": 30,
   "metadata": {},
   "outputs": [
    {
     "data": {
      "text/html": [
       "<div style=\"width:100%;\"><div style=\"position:relative;width:100%;height:0;padding-bottom:60%;\"><iframe src=\"data:text/html;charset=utf-8;base64,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\" style=\"position:absolute;width:100%;height:100%;left:0;top:0;border:none !important;\" allowfullscreen webkitallowfullscreen mozallowfullscreen></iframe></div></div>"
      ],
      "text/plain": [
       "<folium.folium.Map at 0x2d8de517828>"
      ]
     },
     "execution_count": 30,
     "metadata": {},
     "output_type": "execute_result"
    }
   ],
   "source": [
    "#Map Europe\n",
    "map=folium.Map(location=[54,15], tiles='cartodbpositron',zoom_start=5)\n",
    "\n",
    "#Add universities\n",
    "for idx, row in univ.iterrows():\n",
    "    Marker([row['Latitude'], row['Longitude']], popup=row['Name']).add_to(map)\n",
    "map"
   ]
  },
  {
   "cell_type": "code",
   "execution_count": null,
   "metadata": {},
   "outputs": [],
   "source": []
  }
 ],
 "metadata": {
  "kernelspec": {
   "display_name": "Python 3",
   "language": "python",
   "name": "python3"
  },
  "language_info": {
   "codemirror_mode": {
    "name": "ipython",
    "version": 3
   },
   "file_extension": ".py",
   "mimetype": "text/x-python",
   "name": "python",
   "nbconvert_exporter": "python",
   "pygments_lexer": "ipython3",
   "version": "3.7.3"
  },
  "toc": {
   "base_numbering": 1,
   "nav_menu": {},
   "number_sections": true,
   "sideBar": true,
   "skip_h1_title": false,
   "title_cell": "Table of Contents",
   "title_sidebar": "Contents",
   "toc_cell": false,
   "toc_position": {},
   "toc_section_display": true,
   "toc_window_display": false
  }
 },
 "nbformat": 4,
 "nbformat_minor": 4
}

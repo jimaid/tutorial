{
 "cells": [
  {
   "cell_type": "code",
   "execution_count": 2,
   "metadata": {},
   "outputs": [],
   "source": [
    "import geopandas as gpd\n",
    "import pandas as pd\n",
    "import numpy as np\n",
    "import folium\n",
    "from geopandas.tools import geocode\n",
    "from folium import Marker\n",
    "from folium.plugins import MarkerCluster"
   ]
  },
  {
   "cell_type": "markdown",
   "metadata": {},
   "source": [
    "You'll use the `embed_map()` function from the previous exercise to visualize your maps."
   ]
  },
  {
   "cell_type": "code",
   "execution_count": 3,
   "metadata": {},
   "outputs": [],
   "source": [
    "def embed_map(m, file_name):\n",
    "    from IPython.display import IFrame\n",
    "    m.save(file_name)\n",
    "    return IFrame(file_name, width='100%', height='500px')"
   ]
  },
  {
   "cell_type": "code",
   "execution_count": 4,
   "metadata": {},
   "outputs": [
    {
     "data": {
      "text/html": [
       "<div>\n",
       "<style scoped>\n",
       "    .dataframe tbody tr th:only-of-type {\n",
       "        vertical-align: middle;\n",
       "    }\n",
       "\n",
       "    .dataframe tbody tr th {\n",
       "        vertical-align: top;\n",
       "    }\n",
       "\n",
       "    .dataframe thead th {\n",
       "        text-align: right;\n",
       "    }\n",
       "</style>\n",
       "<table border=\"1\" class=\"dataframe\">\n",
       "  <thead>\n",
       "    <tr style=\"text-align: right;\">\n",
       "      <th></th>\n",
       "      <th>Name</th>\n",
       "    </tr>\n",
       "  </thead>\n",
       "  <tbody>\n",
       "    <tr>\n",
       "      <th>0</th>\n",
       "      <td>University of Oxford</td>\n",
       "    </tr>\n",
       "    <tr>\n",
       "      <th>1</th>\n",
       "      <td>University of Cambridge</td>\n",
       "    </tr>\n",
       "    <tr>\n",
       "      <th>2</th>\n",
       "      <td>Imperial College London</td>\n",
       "    </tr>\n",
       "    <tr>\n",
       "      <th>3</th>\n",
       "      <td>ETH Zurich</td>\n",
       "    </tr>\n",
       "    <tr>\n",
       "      <th>4</th>\n",
       "      <td>UCL</td>\n",
       "    </tr>\n",
       "  </tbody>\n",
       "</table>\n",
       "</div>"
      ],
      "text/plain": [
       "                      Name\n",
       "0     University of Oxford\n",
       "1  University of Cambridge\n",
       "2  Imperial College London\n",
       "3               ETH Zurich\n",
       "4                      UCL"
      ]
     },
     "execution_count": 4,
     "metadata": {},
     "output_type": "execute_result"
    }
   ],
   "source": [
    "uni = pd.read_csv('top_universities.csv')\n",
    "uni.head()"
   ]
  },
  {
   "cell_type": "markdown",
   "metadata": {},
   "source": [
    "Adding some African Universities"
   ]
  },
  {
   "cell_type": "code",
   "execution_count": 5,
   "metadata": {},
   "outputs": [],
   "source": [
    "GH ='University of Ghana'\n",
    "SA = 'University of Pretoria'\n",
    "UG = 'Makerere Univeristy'\n",
    "NG = 'University of Ibadan'\n",
    "KE = 'University of Nairobi'"
   ]
  },
  {
   "cell_type": "code",
   "execution_count": 6,
   "metadata": {},
   "outputs": [
    {
     "data": {
      "text/html": [
       "<div>\n",
       "<style scoped>\n",
       "    .dataframe tbody tr th:only-of-type {\n",
       "        vertical-align: middle;\n",
       "    }\n",
       "\n",
       "    .dataframe tbody tr th {\n",
       "        vertical-align: top;\n",
       "    }\n",
       "\n",
       "    .dataframe thead th {\n",
       "        text-align: right;\n",
       "    }\n",
       "</style>\n",
       "<table border=\"1\" class=\"dataframe\">\n",
       "  <thead>\n",
       "    <tr style=\"text-align: right;\">\n",
       "      <th></th>\n",
       "      <th>Name</th>\n",
       "    </tr>\n",
       "  </thead>\n",
       "  <tbody>\n",
       "    <tr>\n",
       "      <th>0</th>\n",
       "      <td>University of Oxford</td>\n",
       "    </tr>\n",
       "    <tr>\n",
       "      <th>1</th>\n",
       "      <td>University of Cambridge</td>\n",
       "    </tr>\n",
       "    <tr>\n",
       "      <th>2</th>\n",
       "      <td>Imperial College London</td>\n",
       "    </tr>\n",
       "    <tr>\n",
       "      <th>3</th>\n",
       "      <td>ETH Zurich</td>\n",
       "    </tr>\n",
       "    <tr>\n",
       "      <th>4</th>\n",
       "      <td>UCL</td>\n",
       "    </tr>\n",
       "  </tbody>\n",
       "</table>\n",
       "</div>"
      ],
      "text/plain": [
       "                      Name\n",
       "0     University of Oxford\n",
       "1  University of Cambridge\n",
       "2  Imperial College London\n",
       "3               ETH Zurich\n",
       "4                      UCL"
      ]
     },
     "execution_count": 6,
     "metadata": {},
     "output_type": "execute_result"
    }
   ],
   "source": [
    "top_uni = uni.append(pd.DataFrame([GH,SA,UG,NG,KE], columns=uni.columns), ignore_index=True)\n",
    "top_uni.head()"
   ]
  },
  {
   "cell_type": "code",
   "execution_count": 7,
   "metadata": {},
   "outputs": [
    {
     "data": {
      "text/html": [
       "<div>\n",
       "<style scoped>\n",
       "    .dataframe tbody tr th:only-of-type {\n",
       "        vertical-align: middle;\n",
       "    }\n",
       "\n",
       "    .dataframe tbody tr th {\n",
       "        vertical-align: top;\n",
       "    }\n",
       "\n",
       "    .dataframe thead th {\n",
       "        text-align: right;\n",
       "    }\n",
       "</style>\n",
       "<table border=\"1\" class=\"dataframe\">\n",
       "  <thead>\n",
       "    <tr style=\"text-align: right;\">\n",
       "      <th></th>\n",
       "      <th>Name</th>\n",
       "      <th>Latitude</th>\n",
       "      <th>Longitude</th>\n",
       "      <th>Geometry</th>\n",
       "    </tr>\n",
       "  </thead>\n",
       "  <tbody>\n",
       "    <tr>\n",
       "      <th>0</th>\n",
       "      <td>University of Oxford</td>\n",
       "      <td>51.758708</td>\n",
       "      <td>-1.255668</td>\n",
       "      <td>POINT (-1.255668482609204 51.75870755)</td>\n",
       "    </tr>\n",
       "    <tr>\n",
       "      <th>1</th>\n",
       "      <td>University of Cambridge</td>\n",
       "      <td>52.199852</td>\n",
       "      <td>0.119739</td>\n",
       "      <td>POINT (0.1197386574107438 52.1998523)</td>\n",
       "    </tr>\n",
       "    <tr>\n",
       "      <th>2</th>\n",
       "      <td>Imperial College London</td>\n",
       "      <td>51.498871</td>\n",
       "      <td>-0.175608</td>\n",
       "      <td>POINT (-0.175607955839404 51.49887085)</td>\n",
       "    </tr>\n",
       "    <tr>\n",
       "      <th>3</th>\n",
       "      <td>ETH Zurich</td>\n",
       "      <td>47.377327</td>\n",
       "      <td>8.547509</td>\n",
       "      <td>POINT (8.5475089 47.3773269)</td>\n",
       "    </tr>\n",
       "    <tr>\n",
       "      <th>4</th>\n",
       "      <td>UCL</td>\n",
       "      <td>51.524126</td>\n",
       "      <td>-0.132930</td>\n",
       "      <td>POINT (-0.1329302373595478 51.52412645)</td>\n",
       "    </tr>\n",
       "  </tbody>\n",
       "</table>\n",
       "</div>"
      ],
      "text/plain": [
       "                      Name   Latitude  Longitude  \\\n",
       "0     University of Oxford  51.758708  -1.255668   \n",
       "1  University of Cambridge  52.199852   0.119739   \n",
       "2  Imperial College London  51.498871  -0.175608   \n",
       "3               ETH Zurich  47.377327   8.547509   \n",
       "4                      UCL  51.524126  -0.132930   \n",
       "\n",
       "                                  Geometry  \n",
       "0   POINT (-1.255668482609204 51.75870755)  \n",
       "1    POINT (0.1197386574107438 52.1998523)  \n",
       "2   POINT (-0.175607955839404 51.49887085)  \n",
       "3             POINT (8.5475089 47.3773269)  \n",
       "4  POINT (-0.1329302373595478 51.52412645)  "
      ]
     },
     "execution_count": 7,
     "metadata": {},
     "output_type": "execute_result"
    }
   ],
   "source": [
    "def coder(row):\n",
    "    try:\n",
    "        point = geocode(row, provider='nominatim').geometry.iloc[0]\n",
    "        return pd.Series({'Lat':point.y, 'Long':point.x,'geometry':point})\n",
    "    except:\n",
    "        None\n",
    "top_uni[['Latitude','Longitude','Geometry']]=top_uni.apply(lambda x: coder(x['Name']), axis=1)\n",
    "top_uni.head()"
   ]
  },
  {
   "cell_type": "code",
   "execution_count": 8,
   "metadata": {},
   "outputs": [
    {
     "name": "stdout",
     "output_type": "stream",
     "text": [
      "90.47619047619048% of universities were loaded\n"
     ]
    }
   ],
   "source": [
    "#what percentage of universities were successfully loaded\n",
    "print(\"{}% of universities were loaded\".format(\n",
    "    (1-sum(np.isnan(top_uni['Latitude']))/len(top_uni))*100)\n",
    ")"
   ]
  },
  {
   "cell_type": "code",
   "execution_count": 9,
   "metadata": {},
   "outputs": [
    {
     "data": {
      "text/html": [
       "<div>\n",
       "<style scoped>\n",
       "    .dataframe tbody tr th:only-of-type {\n",
       "        vertical-align: middle;\n",
       "    }\n",
       "\n",
       "    .dataframe tbody tr th {\n",
       "        vertical-align: top;\n",
       "    }\n",
       "\n",
       "    .dataframe thead th {\n",
       "        text-align: right;\n",
       "    }\n",
       "</style>\n",
       "<table border=\"1\" class=\"dataframe\">\n",
       "  <thead>\n",
       "    <tr style=\"text-align: right;\">\n",
       "      <th></th>\n",
       "      <th>Name</th>\n",
       "      <th>Latitude</th>\n",
       "      <th>Longitude</th>\n",
       "      <th>Geometry</th>\n",
       "    </tr>\n",
       "  </thead>\n",
       "  <tbody>\n",
       "    <tr>\n",
       "      <th>0</th>\n",
       "      <td>University of Oxford</td>\n",
       "      <td>51.758708</td>\n",
       "      <td>-1.255668</td>\n",
       "      <td>POINT (-1.255668482609204 51.75870755)</td>\n",
       "    </tr>\n",
       "    <tr>\n",
       "      <th>1</th>\n",
       "      <td>University of Cambridge</td>\n",
       "      <td>52.199852</td>\n",
       "      <td>0.119739</td>\n",
       "      <td>POINT (0.1197386574107438 52.1998523)</td>\n",
       "    </tr>\n",
       "    <tr>\n",
       "      <th>2</th>\n",
       "      <td>Imperial College London</td>\n",
       "      <td>51.498871</td>\n",
       "      <td>-0.175608</td>\n",
       "      <td>POINT (-0.175607955839404 51.49887085)</td>\n",
       "    </tr>\n",
       "    <tr>\n",
       "      <th>3</th>\n",
       "      <td>ETH Zurich</td>\n",
       "      <td>47.377327</td>\n",
       "      <td>8.547509</td>\n",
       "      <td>POINT (8.5475089 47.3773269)</td>\n",
       "    </tr>\n",
       "    <tr>\n",
       "      <th>4</th>\n",
       "      <td>UCL</td>\n",
       "      <td>51.524126</td>\n",
       "      <td>-0.132930</td>\n",
       "      <td>POINT (-0.1329302373595478 51.52412645)</td>\n",
       "    </tr>\n",
       "  </tbody>\n",
       "</table>\n",
       "</div>"
      ],
      "text/plain": [
       "                      Name   Latitude  Longitude  \\\n",
       "0     University of Oxford  51.758708  -1.255668   \n",
       "1  University of Cambridge  52.199852   0.119739   \n",
       "2  Imperial College London  51.498871  -0.175608   \n",
       "3               ETH Zurich  47.377327   8.547509   \n",
       "4                      UCL  51.524126  -0.132930   \n",
       "\n",
       "                                  Geometry  \n",
       "0   POINT (-1.255668482609204 51.75870755)  \n",
       "1    POINT (0.1197386574107438 52.1998523)  \n",
       "2   POINT (-0.175607955839404 51.49887085)  \n",
       "3             POINT (8.5475089 47.3773269)  \n",
       "4  POINT (-0.1329302373595478 51.52412645)  "
      ]
     },
     "execution_count": 9,
     "metadata": {},
     "output_type": "execute_result"
    }
   ],
   "source": [
    "#Drop all unloaded universities\n",
    "top_uni=top_uni.loc[~np.isnan(top_uni['Latitude'])]\n",
    "top_uni.head()"
   ]
  },
  {
   "cell_type": "code",
   "execution_count": 10,
   "metadata": {},
   "outputs": [
    {
     "data": {
      "text/html": [
       "<div>\n",
       "<style scoped>\n",
       "    .dataframe tbody tr th:only-of-type {\n",
       "        vertical-align: middle;\n",
       "    }\n",
       "\n",
       "    .dataframe tbody tr th {\n",
       "        vertical-align: top;\n",
       "    }\n",
       "\n",
       "    .dataframe thead th {\n",
       "        text-align: right;\n",
       "    }\n",
       "</style>\n",
       "<table border=\"1\" class=\"dataframe\">\n",
       "  <thead>\n",
       "    <tr style=\"text-align: right;\">\n",
       "      <th></th>\n",
       "      <th>Name</th>\n",
       "      <th>Latitude</th>\n",
       "      <th>Longitude</th>\n",
       "      <th>Geometry</th>\n",
       "      <th>geometry</th>\n",
       "    </tr>\n",
       "  </thead>\n",
       "  <tbody>\n",
       "    <tr>\n",
       "      <th>0</th>\n",
       "      <td>University of Oxford</td>\n",
       "      <td>51.758708</td>\n",
       "      <td>-1.255668</td>\n",
       "      <td>POINT (-1.255668482609204 51.75870755)</td>\n",
       "      <td>POINT (-1.25567 51.75871)</td>\n",
       "    </tr>\n",
       "    <tr>\n",
       "      <th>1</th>\n",
       "      <td>University of Cambridge</td>\n",
       "      <td>52.199852</td>\n",
       "      <td>0.119739</td>\n",
       "      <td>POINT (0.1197386574107438 52.1998523)</td>\n",
       "      <td>POINT (0.11974 52.19985)</td>\n",
       "    </tr>\n",
       "    <tr>\n",
       "      <th>2</th>\n",
       "      <td>Imperial College London</td>\n",
       "      <td>51.498871</td>\n",
       "      <td>-0.175608</td>\n",
       "      <td>POINT (-0.175607955839404 51.49887085)</td>\n",
       "      <td>POINT (-0.17561 51.49887)</td>\n",
       "    </tr>\n",
       "    <tr>\n",
       "      <th>3</th>\n",
       "      <td>ETH Zurich</td>\n",
       "      <td>47.377327</td>\n",
       "      <td>8.547509</td>\n",
       "      <td>POINT (8.5475089 47.3773269)</td>\n",
       "      <td>POINT (8.54751 47.37733)</td>\n",
       "    </tr>\n",
       "    <tr>\n",
       "      <th>4</th>\n",
       "      <td>UCL</td>\n",
       "      <td>51.524126</td>\n",
       "      <td>-0.132930</td>\n",
       "      <td>POINT (-0.1329302373595478 51.52412645)</td>\n",
       "      <td>POINT (-0.13293 51.52413)</td>\n",
       "    </tr>\n",
       "  </tbody>\n",
       "</table>\n",
       "</div>"
      ],
      "text/plain": [
       "                      Name   Latitude  Longitude  \\\n",
       "0     University of Oxford  51.758708  -1.255668   \n",
       "1  University of Cambridge  52.199852   0.119739   \n",
       "2  Imperial College London  51.498871  -0.175608   \n",
       "3               ETH Zurich  47.377327   8.547509   \n",
       "4                      UCL  51.524126  -0.132930   \n",
       "\n",
       "                                  Geometry                   geometry  \n",
       "0   POINT (-1.255668482609204 51.75870755)  POINT (-1.25567 51.75871)  \n",
       "1    POINT (0.1197386574107438 52.1998523)   POINT (0.11974 52.19985)  \n",
       "2   POINT (-0.175607955839404 51.49887085)  POINT (-0.17561 51.49887)  \n",
       "3             POINT (8.5475089 47.3773269)   POINT (8.54751 47.37733)  \n",
       "4  POINT (-0.1329302373595478 51.52412645)  POINT (-0.13293 51.52413)  "
      ]
     },
     "execution_count": 10,
     "metadata": {},
     "output_type": "execute_result"
    }
   ],
   "source": [
    "#convert to GeoDataFrame\n",
    "univ = gpd.GeoDataFrame(top_uni, geometry=top_uni.Geometry)\n",
    "univ.crs={'init':'4326'}\n",
    "univ.head()"
   ]
  },
  {
   "cell_type": "code",
   "execution_count": 11,
   "metadata": {},
   "outputs": [
    {
     "data": {
      "text/html": [
       "<div style=\"width:100%;\"><div style=\"position:relative;width:100%;height:0;padding-bottom:60%;\"><iframe src=\"data:text/html;charset=utf-8;base64,PCFET0NUWVBFIGh0bWw+CjxoZWFkPiAgICAKICAgIDxtZXRhIGh0dHAtZXF1aXY9ImNvbnRlbnQtdHlwZSIgY29udGVudD0idGV4dC9odG1sOyBjaGFyc2V0PVVURi04IiAvPgogICAgCiAgICAgICAgPHNjcmlwdD4KICAgICAgICAgICAgTF9OT19UT1VDSCA9IGZhbHNlOwogICAgICAgICAgICBMX0RJU0FCTEVfM0QgPSBmYWxzZTsKICAgICAgICA8L3NjcmlwdD4KICAgIAogICAgPHNjcmlwdCBzcmM9Imh0dHBzOi8vY2RuLmpzZGVsaXZyLm5ldC9ucG0vbGVhZmxldEAxLjUuMS9kaXN0L2xlYWZsZXQuanMiPjwvc2NyaXB0PgogICAgPHNjcmlwdCBzcmM9Imh0dHBzOi8vY29kZS5qcXVlcnkuY29tL2pxdWVyeS0xLjEyLjQubWluLmpzIj48L3NjcmlwdD4KICAgIDxzY3JpcHQgc3JjPSJodHRwczovL21heGNkbi5ib290c3RyYXBjZG4uY29tL2Jvb3RzdHJhcC8zLjIuMC9qcy9ib290c3RyYXAubWluLmpzIj48L3NjcmlwdD4KICAgIDxzY3JpcHQgc3JjPSJodHRwczovL2NkbmpzLmNsb3VkZmxhcmUuY29tL2FqYXgvbGlicy9MZWFmbGV0LmF3ZXNvbWUtbWFya2Vycy8yLjAuMi9sZWFmbGV0LmF3ZXNvbWUtbWFya2Vycy5qcyI+PC9zY3JpcHQ+CiAgICA8bGluayByZWw9InN0eWxlc2hlZXQiIGhyZWY9Imh0dHBzOi8vY2RuLmpzZGVsaXZyLm5ldC9ucG0vbGVhZmxldEAxLjUuMS9kaXN0L2xlYWZsZXQuY3NzIi8+CiAgICA8bGluayByZWw9InN0eWxlc2hlZXQiIGhyZWY9Imh0dHBzOi8vbWF4Y2RuLmJvb3RzdHJhcGNkbi5jb20vYm9vdHN0cmFwLzMuMi4wL2Nzcy9ib290c3RyYXAubWluLmNzcyIvPgogICAgPGxpbmsgcmVsPSJzdHlsZXNoZWV0IiBocmVmPSJodHRwczovL21heGNkbi5ib290c3RyYXBjZG4uY29tL2Jvb3RzdHJhcC8zLjIuMC9jc3MvYm9vdHN0cmFwLXRoZW1lLm1pbi5jc3MiLz4KICAgIDxsaW5rIHJlbD0ic3R5bGVzaGVldCIgaHJlZj0iaHR0cHM6Ly9tYXhjZG4uYm9vdHN0cmFwY2RuLmNvbS9mb250LWF3ZXNvbWUvNC42LjMvY3NzL2ZvbnQtYXdlc29tZS5taW4uY3NzIi8+CiAgICA8bGluayByZWw9InN0eWxlc2hlZXQiIGhyZWY9Imh0dHBzOi8vY2RuanMuY2xvdWRmbGFyZS5jb20vYWpheC9saWJzL0xlYWZsZXQuYXdlc29tZS1tYXJrZXJzLzIuMC4yL2xlYWZsZXQuYXdlc29tZS1tYXJrZXJzLmNzcyIvPgogICAgPGxpbmsgcmVsPSJzdHlsZXNoZWV0IiBocmVmPSJodHRwczovL3Jhd2Nkbi5naXRoYWNrLmNvbS9weXRob24tdmlzdWFsaXphdGlvbi9mb2xpdW0vbWFzdGVyL2ZvbGl1bS90ZW1wbGF0ZXMvbGVhZmxldC5hd2Vzb21lLnJvdGF0ZS5jc3MiLz4KICAgIDxzdHlsZT5odG1sLCBib2R5IHt3aWR0aDogMTAwJTtoZWlnaHQ6IDEwMCU7bWFyZ2luOiAwO3BhZGRpbmc6IDA7fTwvc3R5bGU+CiAgICA8c3R5bGU+I21hcCB7cG9zaXRpb246YWJzb2x1dGU7dG9wOjA7Ym90dG9tOjA7cmlnaHQ6MDtsZWZ0OjA7fTwvc3R5bGU+CiAgICAKICAgICAgICAgICAgPG1ldGEgbmFtZT0idmlld3BvcnQiIGNvbnRlbnQ9IndpZHRoPWRldmljZS13aWR0aCwKICAgICAgICAgICAgICAgIGluaXRpYWwtc2NhbGU9MS4wLCBtYXhpbXVtLXNjYWxlPTEuMCwgdXNlci1zY2FsYWJsZT1ubyIgLz4KICAgICAgICAgICAgPHN0eWxlPgogICAgICAgICAgICAgICAgI21hcF8yMzI2NmVjYmJlNzA0NDdhODBjYjc2MDMxM2Y5MDgwOSB7CiAgICAgICAgICAgICAgICAgICAgcG9zaXRpb246IHJlbGF0aXZlOwogICAgICAgICAgICAgICAgICAgIHdpZHRoOiAxMDAuMCU7CiAgICAgICAgICAgICAgICAgICAgaGVpZ2h0OiAxMDAuMCU7CiAgICAgICAgICAgICAgICAgICAgbGVmdDogMC4wJTsKICAgICAgICAgICAgICAgICAgICB0b3A6IDAuMCU7CiAgICAgICAgICAgICAgICB9CiAgICAgICAgICAgIDwvc3R5bGU+CiAgICAgICAgCjwvaGVhZD4KPGJvZHk+ICAgIAogICAgCiAgICAgICAgICAgIDxkaXYgY2xhc3M9ImZvbGl1bS1tYXAiIGlkPSJtYXBfMjMyNjZlY2JiZTcwNDQ3YTgwY2I3NjAzMTNmOTA4MDkiID48L2Rpdj4KICAgICAgICAKPC9ib2R5Pgo8c2NyaXB0PiAgICAKICAgIAogICAgICAgICAgICB2YXIgbWFwXzIzMjY2ZWNiYmU3MDQ0N2E4MGNiNzYwMzEzZjkwODA5ID0gTC5tYXAoCiAgICAgICAgICAgICAgICAibWFwXzIzMjY2ZWNiYmU3MDQ0N2E4MGNiNzYwMzEzZjkwODA5IiwKICAgICAgICAgICAgICAgIHsKICAgICAgICAgICAgICAgICAgICBjZW50ZXI6IFs1NC4wLCAxNS4wXSwKICAgICAgICAgICAgICAgICAgICBjcnM6IEwuQ1JTLkVQU0czODU3LAogICAgICAgICAgICAgICAgICAgIHpvb206IDUsCiAgICAgICAgICAgICAgICAgICAgem9vbUNvbnRyb2w6IHRydWUsCiAgICAgICAgICAgICAgICAgICAgcHJlZmVyQ2FudmFzOiBmYWxzZSwKICAgICAgICAgICAgICAgIH0KICAgICAgICAgICAgKTsKCiAgICAgICAgICAgIAoKICAgICAgICAKICAgIAogICAgICAgICAgICB2YXIgdGlsZV9sYXllcl84M2NiNTY3NjhkZjI0NDk1YWY2ODdjYzdiZDdlMmRhZCA9IEwudGlsZUxheWVyKAogICAgICAgICAgICAgICAgImh0dHBzOi8vY2FydG9kYi1iYXNlbWFwcy17c30uZ2xvYmFsLnNzbC5mYXN0bHkubmV0L2xpZ2h0X2FsbC97en0ve3h9L3t5fS5wbmciLAogICAgICAgICAgICAgICAgeyJhdHRyaWJ1dGlvbiI6ICJcdTAwMjZjb3B5OyBcdTAwM2NhIGhyZWY9XCJodHRwOi8vd3d3Lm9wZW5zdHJlZXRtYXAub3JnL2NvcHlyaWdodFwiXHUwMDNlT3BlblN0cmVldE1hcFx1MDAzYy9hXHUwMDNlIGNvbnRyaWJ1dG9ycyBcdTAwMjZjb3B5OyBcdTAwM2NhIGhyZWY9XCJodHRwOi8vY2FydG9kYi5jb20vYXR0cmlidXRpb25zXCJcdTAwM2VDYXJ0b0RCXHUwMDNjL2FcdTAwM2UsIENhcnRvREIgXHUwMDNjYSBocmVmID1cImh0dHA6Ly9jYXJ0b2RiLmNvbS9hdHRyaWJ1dGlvbnNcIlx1MDAzZWF0dHJpYnV0aW9uc1x1MDAzYy9hXHUwMDNlIiwgImRldGVjdFJldGluYSI6IGZhbHNlLCAibWF4TmF0aXZlWm9vbSI6IDE4LCAibWF4Wm9vbSI6IDE4LCAibWluWm9vbSI6IDAsICJub1dyYXAiOiBmYWxzZSwgIm9wYWNpdHkiOiAxLCAic3ViZG9tYWlucyI6ICJhYmMiLCAidG1zIjogZmFsc2V9CiAgICAgICAgICAgICkuYWRkVG8obWFwXzIzMjY2ZWNiYmU3MDQ0N2E4MGNiNzYwMzEzZjkwODA5KTsKICAgICAgICAKICAgIAogICAgICAgICAgICB2YXIgbWFya2VyXzZhMzU4YmI3NjVmMDQ2NTRiNzI0MmI4Y2IzNWIwNGM2ID0gTC5tYXJrZXIoCiAgICAgICAgICAgICAgICBbNTEuNzU4NzA3NTUsIC0xLjI1NTY2ODQ4MjYwOTIwMzddLAogICAgICAgICAgICAgICAge30KICAgICAgICAgICAgKS5hZGRUbyhtYXBfMjMyNjZlY2JiZTcwNDQ3YTgwY2I3NjAzMTNmOTA4MDkpOwogICAgICAgIAogICAgCiAgICAgICAgdmFyIHBvcHVwXzU4MTUwMmYyMjM5NjRlNzA5ODIwOTUyMzU3ZGQ3MDZiID0gTC5wb3B1cCh7Im1heFdpZHRoIjogIjEwMCUifSk7CgogICAgICAgIAogICAgICAgICAgICB2YXIgaHRtbF9mZWFhYjRjNTllMjk0OTk2OTRjYmM4OWI0NTNjOTM2ZiA9ICQoYDxkaXYgaWQ9Imh0bWxfZmVhYWI0YzU5ZTI5NDk5Njk0Y2JjODliNDUzYzkzNmYiIHN0eWxlPSJ3aWR0aDogMTAwLjAlOyBoZWlnaHQ6IDEwMC4wJTsiPlVuaXZlcnNpdHkgb2YgT3hmb3JkPC9kaXY+YClbMF07CiAgICAgICAgICAgIHBvcHVwXzU4MTUwMmYyMjM5NjRlNzA5ODIwOTUyMzU3ZGQ3MDZiLnNldENvbnRlbnQoaHRtbF9mZWFhYjRjNTllMjk0OTk2OTRjYmM4OWI0NTNjOTM2Zik7CiAgICAgICAgCgogICAgICAgIG1hcmtlcl82YTM1OGJiNzY1ZjA0NjU0YjcyNDJiOGNiMzViMDRjNi5iaW5kUG9wdXAocG9wdXBfNTgxNTAyZjIyMzk2NGU3MDk4MjA5NTIzNTdkZDcwNmIpCiAgICAgICAgOwoKICAgICAgICAKICAgIAogICAgCiAgICAgICAgICAgIHZhciBtYXJrZXJfODRiNTZhMzZhZTJkNGEyMjk0MGRiYTYzMWU5MTU1YTIgPSBMLm1hcmtlcigKICAgICAgICAgICAgICAgIFs1Mi4xOTk4NTIzLCAwLjExOTczODY1NzQxMDc0MzgzXSwKICAgICAgICAgICAgICAgIHt9CiAgICAgICAgICAgICkuYWRkVG8obWFwXzIzMjY2ZWNiYmU3MDQ0N2E4MGNiNzYwMzEzZjkwODA5KTsKICAgICAgICAKICAgIAogICAgICAgIHZhciBwb3B1cF9iZDZiOGUwNDgxNDI0MzQ4OTQwN2Q2OTUwYTIwMDE3NyA9IEwucG9wdXAoeyJtYXhXaWR0aCI6ICIxMDAlIn0pOwoKICAgICAgICAKICAgICAgICAgICAgdmFyIGh0bWxfMmYzNjA3MzgzNWUxNDM1ODljOTVkODZmZjczZGYxMWMgPSAkKGA8ZGl2IGlkPSJodG1sXzJmMzYwNzM4MzVlMTQzNTg5Yzk1ZDg2ZmY3M2RmMTFjIiBzdHlsZT0id2lkdGg6IDEwMC4wJTsgaGVpZ2h0OiAxMDAuMCU7Ij5Vbml2ZXJzaXR5IG9mIENhbWJyaWRnZTwvZGl2PmApWzBdOwogICAgICAgICAgICBwb3B1cF9iZDZiOGUwNDgxNDI0MzQ4OTQwN2Q2OTUwYTIwMDE3Ny5zZXRDb250ZW50KGh0bWxfMmYzNjA3MzgzNWUxNDM1ODljOTVkODZmZjczZGYxMWMpOwogICAgICAgIAoKICAgICAgICBtYXJrZXJfODRiNTZhMzZhZTJkNGEyMjk0MGRiYTYzMWU5MTU1YTIuYmluZFBvcHVwKHBvcHVwX2JkNmI4ZTA0ODE0MjQzNDg5NDA3ZDY5NTBhMjAwMTc3KQogICAgICAgIDsKCiAgICAgICAgCiAgICAKICAgIAogICAgICAgICAgICB2YXIgbWFya2VyXzFlZWJjYTViODA3MTRiZjBhZDZmNGVkZjQ2MzA1NTBjID0gTC5tYXJrZXIoCiAgICAgICAgICAgICAgICBbNTEuNDk4ODcwODUsIC0wLjE3NTYwNzk1NTgzOTQwMzk3XSwKICAgICAgICAgICAgICAgIHt9CiAgICAgICAgICAgICkuYWRkVG8obWFwXzIzMjY2ZWNiYmU3MDQ0N2E4MGNiNzYwMzEzZjkwODA5KTsKICAgICAgICAKICAgIAogICAgICAgIHZhciBwb3B1cF84YTUxNmU2MzVjMWY0OTc0OWQ4YjUyMWU4NzlkYWViZiA9IEwucG9wdXAoeyJtYXhXaWR0aCI6ICIxMDAlIn0pOwoKICAgICAgICAKICAgICAgICAgICAgdmFyIGh0bWxfMjVmMmFkZTYzMDVjNGU0Yjg1MzIxOTgyMTUzYWExNjEgPSAkKGA8ZGl2IGlkPSJodG1sXzI1ZjJhZGU2MzA1YzRlNGI4NTMyMTk4MjE1M2FhMTYxIiBzdHlsZT0id2lkdGg6IDEwMC4wJTsgaGVpZ2h0OiAxMDAuMCU7Ij5JbXBlcmlhbCBDb2xsZWdlIExvbmRvbjwvZGl2PmApWzBdOwogICAgICAgICAgICBwb3B1cF84YTUxNmU2MzVjMWY0OTc0OWQ4YjUyMWU4NzlkYWViZi5zZXRDb250ZW50KGh0bWxfMjVmMmFkZTYzMDVjNGU0Yjg1MzIxOTgyMTUzYWExNjEpOwogICAgICAgIAoKICAgICAgICBtYXJrZXJfMWVlYmNhNWI4MDcxNGJmMGFkNmY0ZWRmNDYzMDU1MGMuYmluZFBvcHVwKHBvcHVwXzhhNTE2ZTYzNWMxZjQ5NzQ5ZDhiNTIxZTg3OWRhZWJmKQogICAgICAgIDsKCiAgICAgICAgCiAgICAKICAgIAogICAgICAgICAgICB2YXIgbWFya2VyXzIxZGUzNTQ4ZWViYzRmZTU4YjcyNTU0NTVmYzg2NDE2ID0gTC5tYXJrZXIoCiAgICAgICAgICAgICAgICBbNDcuMzc3MzI2OSwgOC41NDc1MDg5XSwKICAgICAgICAgICAgICAgIHt9CiAgICAgICAgICAgICkuYWRkVG8obWFwXzIzMjY2ZWNiYmU3MDQ0N2E4MGNiNzYwMzEzZjkwODA5KTsKICAgICAgICAKICAgIAogICAgICAgIHZhciBwb3B1cF9iNTg5ZTkyMTkzY2Q0MmNkOTY0NTZkYmQ5M2YxZGJkMiA9IEwucG9wdXAoeyJtYXhXaWR0aCI6ICIxMDAlIn0pOwoKICAgICAgICAKICAgICAgICAgICAgdmFyIGh0bWxfNzZlYjczNDI5ZTI4NGE5MThmMTAyNGYwZmVlOWRmZDIgPSAkKGA8ZGl2IGlkPSJodG1sXzc2ZWI3MzQyOWUyODRhOTE4ZjEwMjRmMGZlZTlkZmQyIiBzdHlsZT0id2lkdGg6IDEwMC4wJTsgaGVpZ2h0OiAxMDAuMCU7Ij5FVEggWnVyaWNoPC9kaXY+YClbMF07CiAgICAgICAgICAgIHBvcHVwX2I1ODllOTIxOTNjZDQyY2Q5NjQ1NmRiZDkzZjFkYmQyLnNldENvbnRlbnQoaHRtbF83NmViNzM0MjllMjg0YTkxOGYxMDI0ZjBmZWU5ZGZkMik7CiAgICAgICAgCgogICAgICAgIG1hcmtlcl8yMWRlMzU0OGVlYmM0ZmU1OGI3MjU1NDU1ZmM4NjQxNi5iaW5kUG9wdXAocG9wdXBfYjU4OWU5MjE5M2NkNDJjZDk2NDU2ZGJkOTNmMWRiZDIpCiAgICAgICAgOwoKICAgICAgICAKICAgIAogICAgCiAgICAgICAgICAgIHZhciBtYXJrZXJfOTI2ZGY0MTkyZmM0NDIyMmI2Yzg0Y2Y2NzcyYTFjZDkgPSBMLm1hcmtlcigKICAgICAgICAgICAgICAgIFs1MS41MjQxMjY0NSwgLTAuMTMyOTMwMjM3MzU5NTQ3ODRdLAogICAgICAgICAgICAgICAge30KICAgICAgICAgICAgKS5hZGRUbyhtYXBfMjMyNjZlY2JiZTcwNDQ3YTgwY2I3NjAzMTNmOTA4MDkpOwogICAgICAgIAogICAgCiAgICAgICAgdmFyIHBvcHVwX2QxMGQwMmUyODMxOTQzNDJhYjk0MjVmNDg2NTM1MjM5ID0gTC5wb3B1cCh7Im1heFdpZHRoIjogIjEwMCUifSk7CgogICAgICAgIAogICAgICAgICAgICB2YXIgaHRtbF8zNjdjODMyNGQ5YjE0OGY1YmFmNTViMzFiNzhhMzc4ZiA9ICQoYDxkaXYgaWQ9Imh0bWxfMzY3YzgzMjRkOWIxNDhmNWJhZjU1YjMxYjc4YTM3OGYiIHN0eWxlPSJ3aWR0aDogMTAwLjAlOyBoZWlnaHQ6IDEwMC4wJTsiPlVDTDwvZGl2PmApWzBdOwogICAgICAgICAgICBwb3B1cF9kMTBkMDJlMjgzMTk0MzQyYWI5NDI1ZjQ4NjUzNTIzOS5zZXRDb250ZW50KGh0bWxfMzY3YzgzMjRkOWIxNDhmNWJhZjU1YjMxYjc4YTM3OGYpOwogICAgICAgIAoKICAgICAgICBtYXJrZXJfOTI2ZGY0MTkyZmM0NDIyMmI2Yzg0Y2Y2NzcyYTFjZDkuYmluZFBvcHVwKHBvcHVwX2QxMGQwMmUyODMxOTQzNDJhYjk0MjVmNDg2NTM1MjM5KQogICAgICAgIDsKCiAgICAgICAgCiAgICAKICAgIAogICAgICAgICAgICB2YXIgbWFya2VyX2I5ZjhmMTkxNjM3ZDQ3NGE5Mjc0ZjM5MDRjYTJjMDM0ID0gTC5tYXJrZXIoCiAgICAgICAgICAgICAgICBbNTEuNTE0NDI5MDUwMDAwMDA0LCAtMC4xMTY1ODg0MDMzNjUzNzU1N10sCiAgICAgICAgICAgICAgICB7fQogICAgICAgICAgICApLmFkZFRvKG1hcF8yMzI2NmVjYmJlNzA0NDdhODBjYjc2MDMxM2Y5MDgwOSk7CiAgICAgICAgCiAgICAKICAgICAgICB2YXIgcG9wdXBfYWVlNzRmYWU2ZmU4NGRlZWJlYjNiMWY5NWI3ZTk3NjkgPSBMLnBvcHVwKHsibWF4V2lkdGgiOiAiMTAwJSJ9KTsKCiAgICAgICAgCiAgICAgICAgICAgIHZhciBodG1sXzMxNTA1MmZkZGE0NTRlNjlhNjdlNzc2YzhkMWQyYTgzID0gJChgPGRpdiBpZD0iaHRtbF8zMTUwNTJmZGRhNDU0ZTY5YTY3ZTc3NmM4ZDFkMmE4MyIgc3R5bGU9IndpZHRoOiAxMDAuMCU7IGhlaWdodDogMTAwLjAlOyI+TG9uZG9uIFNjaG9vbCBvZiBFY29ub21pY3MgYW5kIFBvbGl0aWNhbCBTY2llbmNlPC9kaXY+YClbMF07CiAgICAgICAgICAgIHBvcHVwX2FlZTc0ZmFlNmZlODRkZWViZWIzYjFmOTViN2U5NzY5LnNldENvbnRlbnQoaHRtbF8zMTUwNTJmZGRhNDU0ZTY5YTY3ZTc3NmM4ZDFkMmE4Myk7CiAgICAgICAgCgogICAgICAgIG1hcmtlcl9iOWY4ZjE5MTYzN2Q0NzRhOTI3NGYzOTA0Y2EyYzAzNC5iaW5kUG9wdXAocG9wdXBfYWVlNzRmYWU2ZmU4NGRlZWJlYjNiMWY5NWI3ZTk3NjkpCiAgICAgICAgOwoKICAgICAgICAKICAgIAogICAgCiAgICAgICAgICAgIHZhciBtYXJrZXJfNzkzZmJhMjMzYjI2NDI4ZjlkMzQ5YTYyODE0YmI2YzggPSBMLm1hcmtlcigKICAgICAgICAgICAgICAgIFs1NS45NDQxMjgzLCAtMy4xODg0MDYzNjEyMzc3MjE2XSwKICAgICAgICAgICAgICAgIHt9CiAgICAgICAgICAgICkuYWRkVG8obWFwXzIzMjY2ZWNiYmU3MDQ0N2E4MGNiNzYwMzEzZjkwODA5KTsKICAgICAgICAKICAgIAogICAgICAgIHZhciBwb3B1cF81YWNkMmNmYjk4NTY0NDY3ODM0YTg5NDQ4MDdiZWZhZSA9IEwucG9wdXAoeyJtYXhXaWR0aCI6ICIxMDAlIn0pOwoKICAgICAgICAKICAgICAgICAgICAgdmFyIGh0bWxfMTQzOWFhODFkOTJkNGQ5ZGE4Nzg3MGUzMGQ0OWI3ZDAgPSAkKGA8ZGl2IGlkPSJodG1sXzE0MzlhYTgxZDkyZDRkOWRhODc4NzBlMzBkNDliN2QwIiBzdHlsZT0id2lkdGg6IDEwMC4wJTsgaGVpZ2h0OiAxMDAuMCU7Ij5Vbml2ZXJzaXR5IG9mIEVkaW5idXJnaDwvZGl2PmApWzBdOwogICAgICAgICAgICBwb3B1cF81YWNkMmNmYjk4NTY0NDY3ODM0YTg5NDQ4MDdiZWZhZS5zZXRDb250ZW50KGh0bWxfMTQzOWFhODFkOTJkNGQ5ZGE4Nzg3MGUzMGQ0OWI3ZDApOwogICAgICAgIAoKICAgICAgICBtYXJrZXJfNzkzZmJhMjMzYjI2NDI4ZjlkMzQ5YTYyODE0YmI2YzguYmluZFBvcHVwKHBvcHVwXzVhY2QyY2ZiOTg1NjQ0Njc4MzRhODk0NDgwN2JlZmFlKQogICAgICAgIDsKCiAgICAgICAgCiAgICAKICAgIAogICAgICAgICAgICB2YXIgbWFya2VyXzYwNzhlZTM5ODRkNzQ4NzQ4ODg1MDI1ZTY4Yzg0ODU0ID0gTC5tYXJrZXIoCiAgICAgICAgICAgICAgICBbNDguMTQ5NzAzLCAxMS41ODA1MzM4XSwKICAgICAgICAgICAgICAgIHt9CiAgICAgICAgICAgICkuYWRkVG8obWFwXzIzMjY2ZWNiYmU3MDQ0N2E4MGNiNzYwMzEzZjkwODA5KTsKICAgICAgICAKICAgIAogICAgICAgIHZhciBwb3B1cF84YTZhYjJiMjY1ZmE0ZTQyOGFiYmM3YWNmZjUwOGUzMyA9IEwucG9wdXAoeyJtYXhXaWR0aCI6ICIxMDAlIn0pOwoKICAgICAgICAKICAgICAgICAgICAgdmFyIGh0bWxfNzU0MTVjODVkZGNiNDE5MWE1ODY4OWIwYTBhM2UwNmYgPSAkKGA8ZGl2IGlkPSJodG1sXzc1NDE1Yzg1ZGRjYjQxOTFhNTg2ODliMGEwYTNlMDZmIiBzdHlsZT0id2lkdGg6IDEwMC4wJTsgaGVpZ2h0OiAxMDAuMCU7Ij5MTVUgTXVuaWNoPC9kaXY+YClbMF07CiAgICAgICAgICAgIHBvcHVwXzhhNmFiMmIyNjVmYTRlNDI4YWJiYzdhY2ZmNTA4ZTMzLnNldENvbnRlbnQoaHRtbF83NTQxNWM4NWRkY2I0MTkxYTU4Njg5YjBhMGEzZTA2Zik7CiAgICAgICAgCgogICAgICAgIG1hcmtlcl82MDc4ZWUzOTg0ZDc0ODc0ODg4NTAyNWU2OGM4NDg1NC5iaW5kUG9wdXAocG9wdXBfOGE2YWIyYjI2NWZhNGU0MjhhYmJjN2FjZmY1MDhlMzMpCiAgICAgICAgOwoKICAgICAgICAKICAgIAogICAgCiAgICAgICAgICAgIHZhciBtYXJrZXJfYTdhMGRhYTBkNWJlNDJlNzhkYzY5OTBkMTU5YmU5OWUgPSBMLm1hcmtlcigKICAgICAgICAgICAgICAgIFs0Ni41MTg2NTk0MDAwMDAwMDQsIDYuNTY2NTYxNTA1MTQ4MDAxXSwKICAgICAgICAgICAgICAgIHt9CiAgICAgICAgICAgICkuYWRkVG8obWFwXzIzMjY2ZWNiYmU3MDQ0N2E4MGNiNzYwMzEzZjkwODA5KTsKICAgICAgICAKICAgIAogICAgICAgIHZhciBwb3B1cF8xZDA2ZTNhNmU0OWI0NjIyOGIyYWEzOTAwN2NmMTdkMCA9IEwucG9wdXAoeyJtYXhXaWR0aCI6ICIxMDAlIn0pOwoKICAgICAgICAKICAgICAgICAgICAgdmFyIGh0bWxfMmNjYjhmZDQ0MDdmNGM1MGEwMmQ4MWVkMzRlYmE2ZGYgPSAkKGA8ZGl2IGlkPSJodG1sXzJjY2I4ZmQ0NDA3ZjRjNTBhMDJkODFlZDM0ZWJhNmRmIiBzdHlsZT0id2lkdGg6IDEwMC4wJTsgaGVpZ2h0OiAxMDAuMCU7Ij7DiWNvbGUgUG9seXRlY2huaXF1ZSBGw6lkw6lyYWxlIGRlIExhdXNhbm5lPC9kaXY+YClbMF07CiAgICAgICAgICAgIHBvcHVwXzFkMDZlM2E2ZTQ5YjQ2MjI4YjJhYTM5MDA3Y2YxN2QwLnNldENvbnRlbnQoaHRtbF8yY2NiOGZkNDQwN2Y0YzUwYTAyZDgxZWQzNGViYTZkZik7CiAgICAgICAgCgogICAgICAgIG1hcmtlcl9hN2EwZGFhMGQ1YmU0MmU3OGRjNjk5MGQxNTliZTk5ZS5iaW5kUG9wdXAocG9wdXBfMWQwNmUzYTZlNDliNDYyMjhiMmFhMzkwMDdjZjE3ZDApCiAgICAgICAgOwoKICAgICAgICAKICAgIAogICAgCiAgICAgICAgICAgIHZhciBtYXJrZXJfM2U5OTMyMjllNjMxNDQxODk0ZWNmMzMzYzkzNTkxODEgPSBMLm1hcmtlcigKICAgICAgICAgICAgICAgIFs1MS41MTUxMDc2LCAtMC4xMTA2NzI1MjQ3ODMyOTM3M10sCiAgICAgICAgICAgICAgICB7fQogICAgICAgICAgICApLmFkZFRvKG1hcF8yMzI2NmVjYmJlNzA0NDdhODBjYjc2MDMxM2Y5MDgwOSk7CiAgICAgICAgCiAgICAKICAgICAgICB2YXIgcG9wdXBfYTk3OGVkOTQ4NjJiNGI1ZmEwYjFkMjIzZjQ5ZmQ2YWIgPSBMLnBvcHVwKHsibWF4V2lkdGgiOiAiMTAwJSJ9KTsKCiAgICAgICAgCiAgICAgICAgICAgIHZhciBodG1sX2VhNTFiNDcwOGJkMTRkZGE5ZWI0MmM1OGYzYzI5MWFkID0gJChgPGRpdiBpZD0iaHRtbF9lYTUxYjQ3MDhiZDE0ZGRhOWViNDJjNThmM2MyOTFhZCIgc3R5bGU9IndpZHRoOiAxMDAuMCU7IGhlaWdodDogMTAwLjAlOyI+S2luZ+KAmXMgQ29sbGVnZSBMb25kb248L2Rpdj5gKVswXTsKICAgICAgICAgICAgcG9wdXBfYTk3OGVkOTQ4NjJiNGI1ZmEwYjFkMjIzZjQ5ZmQ2YWIuc2V0Q29udGVudChodG1sX2VhNTFiNDcwOGJkMTRkZGE5ZWI0MmM1OGYzYzI5MWFkKTsKICAgICAgICAKCiAgICAgICAgbWFya2VyXzNlOTkzMjI5ZTYzMTQ0MTg5NGVjZjMzM2M5MzU5MTgxLmJpbmRQb3B1cChwb3B1cF9hOTc4ZWQ5NDg2MmI0YjVmYTBiMWQyMjNmNDlmZDZhYikKICAgICAgICA7CgogICAgICAgIAogICAgCiAgICAKICAgICAgICAgICAgdmFyIG1hcmtlcl9lNTgwNjdjMjYzNGE0ZDhmYWY3ZWJhMzQzZWFhZTI2NyA9IEwubWFya2VyKAogICAgICAgICAgICAgICAgWzQ4LjI2NTU2OTYsIDExLjY2OTM0NzA0MjA1MDE2M10sCiAgICAgICAgICAgICAgICB7fQogICAgICAgICAgICApLmFkZFRvKG1hcF8yMzI2NmVjYmJlNzA0NDdhODBjYjc2MDMxM2Y5MDgwOSk7CiAgICAgICAgCiAgICAKICAgICAgICB2YXIgcG9wdXBfZWM4NzQ0ODNiM2QxNGE0YThhMTk1ZjcyMWU3OTIyZTEgPSBMLnBvcHVwKHsibWF4V2lkdGgiOiAiMTAwJSJ9KTsKCiAgICAgICAgCiAgICAgICAgICAgIHZhciBodG1sX2Y5MjdlZmYzYmI2ZTQ5MDE5MmQ2ZmNkODM3MDcxMWIwID0gJChgPGRpdiBpZD0iaHRtbF9mOTI3ZWZmM2JiNmU0OTAxOTJkNmZjZDgzNzA3MTFiMCIgc3R5bGU9IndpZHRoOiAxMDAuMCU7IGhlaWdodDogMTAwLjAlOyI+VGVjaG5pY2FsIFVuaXZlcnNpdHkgb2YgTXVuaWNoPC9kaXY+YClbMF07CiAgICAgICAgICAgIHBvcHVwX2VjODc0NDgzYjNkMTRhNGE4YTE5NWY3MjFlNzkyMmUxLnNldENvbnRlbnQoaHRtbF9mOTI3ZWZmM2JiNmU0OTAxOTJkNmZjZDgzNzA3MTFiMCk7CiAgICAgICAgCgogICAgICAgIG1hcmtlcl9lNTgwNjdjMjYzNGE0ZDhmYWY3ZWJhMzQzZWFhZTI2Ny5iaW5kUG9wdXAocG9wdXBfZWM4NzQ0ODNiM2QxNGE0YThhMTk1ZjcyMWU3OTIyZTEpCiAgICAgICAgOwoKICAgICAgICAKICAgIAogICAgCiAgICAgICAgICAgIHZhciBtYXJrZXJfM2UxYzEwYmU3NzJhNGU5NmFlOTQ2YzM1MTJjOWFiMzkgPSBMLm1hcmtlcigKICAgICAgICAgICAgICAgIFs0MS4xMTQ0NTUwNTAwMDAwMDQsIC04My4xNjY5MTcxODE4MTM2M10sCiAgICAgICAgICAgICAgICB7fQogICAgICAgICAgICApLmFkZFRvKG1hcF8yMzI2NmVjYmJlNzA0NDdhODBjYjc2MDMxM2Y5MDgwOSk7CiAgICAgICAgCiAgICAKICAgICAgICB2YXIgcG9wdXBfMmVmOTJhNzFjZjMxNGFmNmE5YTQ5MmNkMTZiNzU1MDYgPSBMLnBvcHVwKHsibWF4V2lkdGgiOiAiMTAwJSJ9KTsKCiAgICAgICAgCiAgICAgICAgICAgIHZhciBodG1sXzQzN2Q4OTQxZjljMjQwNjhhZmE3ZDcxYjhjYWQxYmM0ID0gJChgPGRpdiBpZD0iaHRtbF80MzdkODk0MWY5YzI0MDY4YWZhN2Q3MWI4Y2FkMWJjNCIgc3R5bGU9IndpZHRoOiAxMDAuMCU7IGhlaWdodDogMTAwLjAlOyI+SGVpZGVsYmVyZyBVbml2ZXJzaXR5PC9kaXY+YClbMF07CiAgICAgICAgICAgIHBvcHVwXzJlZjkyYTcxY2YzMTRhZjZhOWE0OTJjZDE2Yjc1NTA2LnNldENvbnRlbnQoaHRtbF80MzdkODk0MWY5YzI0MDY4YWZhN2Q3MWI4Y2FkMWJjNCk7CiAgICAgICAgCgogICAgICAgIG1hcmtlcl8zZTFjMTBiZTc3MmE0ZTk2YWU5NDZjMzUxMmM5YWIzOS5iaW5kUG9wdXAocG9wdXBfMmVmOTJhNzFjZjMxNGFmNmE5YTQ5MmNkMTZiNzU1MDYpCiAgICAgICAgOwoKICAgICAgICAKICAgIAogICAgCiAgICAgICAgICAgIHZhciBtYXJrZXJfOGEwNTU4MTkwMDJkNDk3M2FmYjRkMmQwMTA4MjUwMWMgPSBMLm1hcmtlcigKICAgICAgICAgICAgICAgIFs1MC44NzYxNTQ3LCA0LjcwODA4NjU4OTg1MzU1OF0sCiAgICAgICAgICAgICAgICB7fQogICAgICAgICAgICApLmFkZFRvKG1hcF8yMzI2NmVjYmJlNzA0NDdhODBjYjc2MDMxM2Y5MDgwOSk7CiAgICAgICAgCiAgICAKICAgICAgICB2YXIgcG9wdXBfZWJkNzc4ZWE4NjkyNGQ5NTgwNjNhMmEwZmIwM2MwNDAgPSBMLnBvcHVwKHsibWF4V2lkdGgiOiAiMTAwJSJ9KTsKCiAgICAgICAgCiAgICAgICAgICAgIHZhciBodG1sXzJkMGZmY2Q5M2E1NzQwOTg5N2MxODE3M2RkZjU1OGYzID0gJChgPGRpdiBpZD0iaHRtbF8yZDBmZmNkOTNhNTc0MDk4OTdjMTgxNzNkZGY1NThmMyIgc3R5bGU9IndpZHRoOiAxMDAuMCU7IGhlaWdodDogMTAwLjAlOyI+S1UgTGV1dmVuPC9kaXY+YClbMF07CiAgICAgICAgICAgIHBvcHVwX2ViZDc3OGVhODY5MjRkOTU4MDYzYTJhMGZiMDNjMDQwLnNldENvbnRlbnQoaHRtbF8yZDBmZmNkOTNhNTc0MDk4OTdjMTgxNzNkZGY1NThmMyk7CiAgICAgICAgCgogICAgICAgIG1hcmtlcl84YTA1NTgxOTAwMmQ0OTczYWZiNGQyZDAxMDgyNTAxYy5iaW5kUG9wdXAocG9wdXBfZWJkNzc4ZWE4NjkyNGQ5NTgwNjNhMmEwZmIwM2MwNDApCiAgICAgICAgOwoKICAgICAgICAKICAgIAogICAgCiAgICAgICAgICAgIHZhciBtYXJrZXJfZjdkYTY0YTI4M2Q0NGUzN2EyZGY3NWM1NDhiODlkOTMgPSBMLm1hcmtlcigKICAgICAgICAgICAgICAgIFs1My40NzM5NjI0NSwgLTIuMjM1MTE4NjY5NjYzMjU3Ml0sCiAgICAgICAgICAgICAgICB7fQogICAgICAgICAgICApLmFkZFRvKG1hcF8yMzI2NmVjYmJlNzA0NDdhODBjYjc2MDMxM2Y5MDgwOSk7CiAgICAgICAgCiAgICAKICAgICAgICB2YXIgcG9wdXBfNGY5MGMzYjYwMjA5NDFkMmJiMzBjNGU4OGRkMGE2ODggPSBMLnBvcHVwKHsibWF4V2lkdGgiOiAiMTAwJSJ9KTsKCiAgICAgICAgCiAgICAgICAgICAgIHZhciBodG1sXzc2Njg2NGNlMzJiMzQwMDc4MzU5MTZjODQ4OWU3MmE3ID0gJChgPGRpdiBpZD0iaHRtbF83NjY4NjRjZTMyYjM0MDA3ODM1OTE2Yzg0ODllNzJhNyIgc3R5bGU9IndpZHRoOiAxMDAuMCU7IGhlaWdodDogMTAwLjAlOyI+VW5pdmVyc2l0eSBvZiBNYW5jaGVzdGVyPC9kaXY+YClbMF07CiAgICAgICAgICAgIHBvcHVwXzRmOTBjM2I2MDIwOTQxZDJiYjMwYzRlODhkZDBhNjg4LnNldENvbnRlbnQoaHRtbF83NjY4NjRjZTMyYjM0MDA3ODM1OTE2Yzg0ODllNzJhNyk7CiAgICAgICAgCgogICAgICAgIG1hcmtlcl9mN2RhNjRhMjgzZDQ0ZTM3YTJkZjc1YzU0OGI4OWQ5My5iaW5kUG9wdXAocG9wdXBfNGY5MGMzYjYwMjA5NDFkMmJiMzBjNGU4OGRkMGE2ODgpCiAgICAgICAgOwoKICAgICAgICAKICAgIAogICAgCiAgICAgICAgICAgIHZhciBtYXJrZXJfNTM0ZTgxZTlkOTczNGUxNDgyODY3ZGYwM2MwZWI3NTcgPSBMLm1hcmtlcigKICAgICAgICAgICAgICAgIFs1MS45OTg4MjczNSwgNC4zNzM5NjAzNjgxNTQwNDFdLAogICAgICAgICAgICAgICAge30KICAgICAgICAgICAgKS5hZGRUbyhtYXBfMjMyNjZlY2JiZTcwNDQ3YTgwY2I3NjAzMTNmOTA4MDkpOwogICAgICAgIAogICAgCiAgICAgICAgdmFyIHBvcHVwXzNhYzVmNGRlNTc5MzQxZTRhYjg4YWY3YjJhMDBiMGYzID0gTC5wb3B1cCh7Im1heFdpZHRoIjogIjEwMCUifSk7CgogICAgICAgIAogICAgICAgICAgICB2YXIgaHRtbF9mMjBkYmRiYzkyOTI0MGYzYmZhNWVhZjljNGVhNGYzOSA9ICQoYDxkaXYgaWQ9Imh0bWxfZjIwZGJkYmM5MjkyNDBmM2JmYTVlYWY5YzRlYTRmMzkiIHN0eWxlPSJ3aWR0aDogMTAwLjAlOyBoZWlnaHQ6IDEwMC4wJTsiPkRlbGZ0IFVuaXZlcnNpdHkgb2YgVGVjaG5vbG9neTwvZGl2PmApWzBdOwogICAgICAgICAgICBwb3B1cF8zYWM1ZjRkZTU3OTM0MWU0YWI4OGFmN2IyYTAwYjBmMy5zZXRDb250ZW50KGh0bWxfZjIwZGJkYmM5MjkyNDBmM2JmYTVlYWY5YzRlYTRmMzkpOwogICAgICAgIAoKICAgICAgICBtYXJrZXJfNTM0ZTgxZTlkOTczNGUxNDgyODY3ZGYwM2MwZWI3NTcuYmluZFBvcHVwKHBvcHVwXzNhYzVmNGRlNTc5MzQxZTRhYjg4YWY3YjJhMDBiMGYzKQogICAgICAgIDsKCiAgICAgICAgCiAgICAKICAgIAogICAgICAgICAgICB2YXIgbWFya2VyX2YyYjY4ZDE5MjllMDQyMDE4ZDhmYTQ3YzNmYjIzYzRjID0gTC5tYXJrZXIoCiAgICAgICAgICAgICAgICBbNTEuOTg1MjgxMzQ5OTk5OTk0LCA1LjY2Mjg3MDgyOTIyODA0XSwKICAgICAgICAgICAgICAgIHt9CiAgICAgICAgICAgICkuYWRkVG8obWFwXzIzMjY2ZWNiYmU3MDQ0N2E4MGNiNzYwMzEzZjkwODA5KTsKICAgICAgICAKICAgIAogICAgICAgIHZhciBwb3B1cF8wMDg2MGE1NWMzYzM0MmFiYmFiN2U1ZGY2ZTEzZWY1NSA9IEwucG9wdXAoeyJtYXhXaWR0aCI6ICIxMDAlIn0pOwoKICAgICAgICAKICAgICAgICAgICAgdmFyIGh0bWxfYzkzYzhlMDA1Y2U2NDhmODhmNWE1ZWFjZmE5NGEzYmUgPSAkKGA8ZGl2IGlkPSJodG1sX2M5M2M4ZTAwNWNlNjQ4Zjg4ZjVhNWVhY2ZhOTRhM2JlIiBzdHlsZT0id2lkdGg6IDEwMC4wJTsgaGVpZ2h0OiAxMDAuMCU7Ij5XYWdlbmluZ2VuIFVuaXZlcnNpdHkgJiBSZXNlYXJjaDwvZGl2PmApWzBdOwogICAgICAgICAgICBwb3B1cF8wMDg2MGE1NWMzYzM0MmFiYmFiN2U1ZGY2ZTEzZWY1NS5zZXRDb250ZW50KGh0bWxfYzkzYzhlMDA1Y2U2NDhmODhmNWE1ZWFjZmE5NGEzYmUpOwogICAgICAgIAoKICAgICAgICBtYXJrZXJfZjJiNjhkMTkyOWUwNDIwMThkOGZhNDdjM2ZiMjNjNGMuYmluZFBvcHVwKHBvcHVwXzAwODYwYTU1YzNjMzQyYWJiYWI3ZTVkZjZlMTNlZjU1KQogICAgICAgIDsKCiAgICAgICAgCiAgICAKICAgIAogICAgICAgICAgICB2YXIgbWFya2VyX2EyZDBmZTQ1MmI0ZTQ4NDBiNTBkMDA4NmY1NWYxMzFkID0gTC5tYXJrZXIoCiAgICAgICAgICAgICAgICBbNTIuMzU1MDUzMiwgNC45NTA5NzgzNV0sCiAgICAgICAgICAgICAgICB7fQogICAgICAgICAgICApLmFkZFRvKG1hcF8yMzI2NmVjYmJlNzA0NDdhODBjYjc2MDMxM2Y5MDgwOSk7CiAgICAgICAgCiAgICAKICAgICAgICB2YXIgcG9wdXBfMDg2MjA3NTcyM2M3NDhhNWIwNjM1OGI4OTU5MjkzNzYgPSBMLnBvcHVwKHsibWF4V2lkdGgiOiAiMTAwJSJ9KTsKCiAgICAgICAgCiAgICAgICAgICAgIHZhciBodG1sXzJhMDE2OGQ1M2YxMDRkNjRhNmNkYzE1NTYwNGMyZjIxID0gJChgPGRpdiBpZD0iaHRtbF8yYTAxNjhkNTNmMTA0ZDY0YTZjZGMxNTU2MDRjMmYyMSIgc3R5bGU9IndpZHRoOiAxMDAuMCU7IGhlaWdodDogMTAwLjAlOyI+VW5pdmVyc2l0eSBvZiBBbXN0ZXJkYW08L2Rpdj5gKVswXTsKICAgICAgICAgICAgcG9wdXBfMDg2MjA3NTcyM2M3NDhhNWIwNjM1OGI4OTU5MjkzNzYuc2V0Q29udGVudChodG1sXzJhMDE2OGQ1M2YxMDRkNjRhNmNkYzE1NTYwNGMyZjIxKTsKICAgICAgICAKCiAgICAgICAgbWFya2VyX2EyZDBmZTQ1MmI0ZTQ4NDBiNTBkMDA4NmY1NWYxMzFkLmJpbmRQb3B1cChwb3B1cF8wODYyMDc1NzIzYzc0OGE1YjA2MzU4Yjg5NTkyOTM3NikKICAgICAgICA7CgogICAgICAgIAogICAgCiAgICAKICAgICAgICAgICAgdmFyIG1hcmtlcl82ZmE3OTFkYzdmYTQ0NjI2YmMyNjFjNzNkNjNjM2VlOSA9IEwubWFya2VyKAogICAgICAgICAgICAgICAgWzUyLjUxODU4MTQ1LCAxMy4zOTI4Nzg0MDI0NTA0Ml0sCiAgICAgICAgICAgICAgICB7fQogICAgICAgICAgICApLmFkZFRvKG1hcF8yMzI2NmVjYmJlNzA0NDdhODBjYjc2MDMxM2Y5MDgwOSk7CiAgICAgICAgCiAgICAKICAgICAgICB2YXIgcG9wdXBfODI5NjMwOWZmNTI1NDEwNGEyOGI5OGFiN2ZiMmVmZjUgPSBMLnBvcHVwKHsibWF4V2lkdGgiOiAiMTAwJSJ9KTsKCiAgICAgICAgCiAgICAgICAgICAgIHZhciBodG1sXzk1NGNhN2Y4OTE5NTQ0OTBhY2Q0ZjVjNzNhYzkyN2JlID0gJChgPGRpdiBpZD0iaHRtbF85NTRjYTdmODkxOTU0NDkwYWNkNGY1YzczYWM5MjdiZSIgc3R5bGU9IndpZHRoOiAxMDAuMCU7IGhlaWdodDogMTAwLjAlOyI+SHVtYm9sZHQgVW5pdmVyc2l0eSBvZiBCZXJsaW48L2Rpdj5gKVswXTsKICAgICAgICAgICAgcG9wdXBfODI5NjMwOWZmNTI1NDEwNGEyOGI5OGFiN2ZiMmVmZjUuc2V0Q29udGVudChodG1sXzk1NGNhN2Y4OTE5NTQ0OTBhY2Q0ZjVjNzNhYzkyN2JlKTsKICAgICAgICAKCiAgICAgICAgbWFya2VyXzZmYTc5MWRjN2ZhNDQ2MjZiYzI2MWM3M2Q2M2MzZWU5LmJpbmRQb3B1cChwb3B1cF84Mjk2MzA5ZmY1MjU0MTA0YTI4Yjk4YWI3ZmIyZWZmNSkKICAgICAgICA7CgogICAgICAgIAogICAgCiAgICAKICAgICAgICAgICAgdmFyIG1hcmtlcl8xZjM2OGIyYjE0ODg0YTdkODdiNjljZWFhNGVkNjIwMSA9IEwubWFya2VyKAogICAgICAgICAgICAgICAgWzUyLjE2ODYzNjY0OTk5OTk5NiwgNC40NTk3NDc5MTI3NDE3ODFdLAogICAgICAgICAgICAgICAge30KICAgICAgICAgICAgKS5hZGRUbyhtYXBfMjMyNjZlY2JiZTcwNDQ3YTgwY2I3NjAzMTNmOTA4MDkpOwogICAgICAgIAogICAgCiAgICAgICAgdmFyIHBvcHVwXzQzMWIyMTZjZjY4ZTQwOTVhZGNlZDg3NzIwN2EzNzVhID0gTC5wb3B1cCh7Im1heFdpZHRoIjogIjEwMCUifSk7CgogICAgICAgIAogICAgICAgICAgICB2YXIgaHRtbF83NjdhMTg4ZjgzZmQ0MGMyYTY2Y2Q5NGM0YTZhNWI2MyA9ICQoYDxkaXYgaWQ9Imh0bWxfNzY3YTE4OGY4M2ZkNDBjMmE2NmNkOTRjNGE2YTViNjMiIHN0eWxlPSJ3aWR0aDogMTAwLjAlOyBoZWlnaHQ6IDEwMC4wJTsiPkxlaWRlbiBVbml2ZXJzaXR5PC9kaXY+YClbMF07CiAgICAgICAgICAgIHBvcHVwXzQzMWIyMTZjZjY4ZTQwOTVhZGNlZDg3NzIwN2EzNzVhLnNldENvbnRlbnQoaHRtbF83NjdhMTg4ZjgzZmQ0MGMyYTY2Y2Q5NGM0YTZhNWI2Myk7CiAgICAgICAgCgogICAgICAgIG1hcmtlcl8xZjM2OGIyYjE0ODg0YTdkODdiNjljZWFhNGVkNjIwMS5iaW5kUG9wdXAocG9wdXBfNDMxYjIxNmNmNjhlNDA5NWFkY2VkODc3MjA3YTM3NWEpCiAgICAgICAgOwoKICAgICAgICAKICAgIAogICAgCiAgICAgICAgICAgIHZhciBtYXJrZXJfNjFlN2ZlOGRkOWQ0NDQwMDgzYzhhYjQ4N2FkNmU0ODEgPSBMLm1hcmtlcigKICAgICAgICAgICAgICAgIFs1MS45MjI4Njk2LCA0LjQ4NzQ5ODU2ODUyODM2Nl0sCiAgICAgICAgICAgICAgICB7fQogICAgICAgICAgICApLmFkZFRvKG1hcF8yMzI2NmVjYmJlNzA0NDdhODBjYjc2MDMxM2Y5MDgwOSk7CiAgICAgICAgCiAgICAKICAgICAgICB2YXIgcG9wdXBfMjkzMjJhY2Y3MTU2NDA0NmIwNDcwMzJlMjcyYmExZjMgPSBMLnBvcHVwKHsibWF4V2lkdGgiOiAiMTAwJSJ9KTsKCiAgICAgICAgCiAgICAgICAgICAgIHZhciBodG1sXzYwM2VhZTQxZjIzMjQ5MGVhODdlODFiYTkxMWViYTQ5ID0gJChgPGRpdiBpZD0iaHRtbF82MDNlYWU0MWYyMzI0OTBlYTg3ZTgxYmE5MTFlYmE0OSIgc3R5bGU9IndpZHRoOiAxMDAuMCU7IGhlaWdodDogMTAwLjAlOyI+RXJhc211cyBVbml2ZXJzaXR5IFJvdHRlcmRhbTwvZGl2PmApWzBdOwogICAgICAgICAgICBwb3B1cF8yOTMyMmFjZjcxNTY0MDQ2YjA0NzAzMmUyNzJiYTFmMy5zZXRDb250ZW50KGh0bWxfNjAzZWFlNDFmMjMyNDkwZWE4N2U4MWJhOTExZWJhNDkpOwogICAgICAgIAoKICAgICAgICBtYXJrZXJfNjFlN2ZlOGRkOWQ0NDQwMDgzYzhhYjQ4N2FkNmU0ODEuYmluZFBvcHVwKHBvcHVwXzI5MzIyYWNmNzE1NjQwNDZiMDQ3MDMyZTI3MmJhMWYzKQogICAgICAgIDsKCiAgICAgICAgCiAgICAKICAgIAogICAgICAgICAgICB2YXIgbWFya2VyX2U2MGM1MzFlNTQwNjRhNGVhNzNjODQyOTNiZTRlN2Q4ID0gTC5tYXJrZXIoCiAgICAgICAgICAgICAgICBbNDguODQ2ODk5Njk5OTk5OTk0LCAyLjM1NzQ0ODY1MzExNTg3NV0sCiAgICAgICAgICAgICAgICB7fQogICAgICAgICAgICApLmFkZFRvKG1hcF8yMzI2NmVjYmJlNzA0NDdhODBjYjc2MDMxM2Y5MDgwOSk7CiAgICAgICAgCiAgICAKICAgICAgICB2YXIgcG9wdXBfOWM3NzM1OWJhYTYzNDIzN2EzMGZjYTMzNmZmOGM1OTIgPSBMLnBvcHVwKHsibWF4V2lkdGgiOiAiMTAwJSJ9KTsKCiAgICAgICAgCiAgICAgICAgICAgIHZhciBodG1sXzYwM2U2YmVhODdmZjQ2Mjc5NTMzMTA2Y2M3M2Q3ZWFlID0gJChgPGRpdiBpZD0iaHRtbF82MDNlNmJlYTg3ZmY0NjI3OTUzMzEwNmNjNzNkN2VhZSIgc3R5bGU9IndpZHRoOiAxMDAuMCU7IGhlaWdodDogMTAwLjAlOyI+U29yYm9ubmUgVW5pdmVyc2l0eTwvZGl2PmApWzBdOwogICAgICAgICAgICBwb3B1cF85Yzc3MzU5YmFhNjM0MjM3YTMwZmNhMzM2ZmY4YzU5Mi5zZXRDb250ZW50KGh0bWxfNjAzZTZiZWE4N2ZmNDYyNzk1MzMxMDZjYzczZDdlYWUpOwogICAgICAgIAoKICAgICAgICBtYXJrZXJfZTYwYzUzMWU1NDA2NGE0ZWE3M2M4NDI5M2JlNGU3ZDguYmluZFBvcHVwKHBvcHVwXzljNzczNTliYWE2MzQyMzdhMzBmY2EzMzZmZjhjNTkyKQogICAgICAgIDsKCiAgICAgICAgCiAgICAKICAgIAogICAgICAgICAgICB2YXIgbWFya2VyX2FkYWY5M2ZkZTc5OTQxN2ZiZDdmODY1ZTcyNWFjYTQyID0gTC5tYXJrZXIoCiAgICAgICAgICAgICAgICBbNTIuMDg1MTYyMywgNS4xNzQxMDY0XSwKICAgICAgICAgICAgICAgIHt9CiAgICAgICAgICAgICkuYWRkVG8obWFwXzIzMjY2ZWNiYmU3MDQ0N2E4MGNiNzYwMzEzZjkwODA5KTsKICAgICAgICAKICAgIAogICAgICAgIHZhciBwb3B1cF8yNTZmNGU0M2UyZjc0MDlhYTlmMzg4ZTJjZDZjY2U5ZiA9IEwucG9wdXAoeyJtYXhXaWR0aCI6ICIxMDAlIn0pOwoKICAgICAgICAKICAgICAgICAgICAgdmFyIGh0bWxfNDI3MTliNDlhNzZiNDgyN2IyYTk4MDcxMTZiODJmNTcgPSAkKGA8ZGl2IGlkPSJodG1sXzQyNzE5YjQ5YTc2YjQ4MjdiMmE5ODA3MTE2YjgyZjU3IiBzdHlsZT0id2lkdGg6IDEwMC4wJTsgaGVpZ2h0OiAxMDAuMCU7Ij5VdHJlY2h0IFVuaXZlcnNpdHk8L2Rpdj5gKVswXTsKICAgICAgICAgICAgcG9wdXBfMjU2ZjRlNDNlMmY3NDA5YWE5ZjM4OGUyY2Q2Y2NlOWYuc2V0Q29udGVudChodG1sXzQyNzE5YjQ5YTc2YjQ4MjdiMmE5ODA3MTE2YjgyZjU3KTsKICAgICAgICAKCiAgICAgICAgbWFya2VyX2FkYWY5M2ZkZTc5OTQxN2ZiZDdmODY1ZTcyNWFjYTQyLmJpbmRQb3B1cChwb3B1cF8yNTZmNGU0M2UyZjc0MDlhYTlmMzg4ZTJjZDZjY2U5ZikKICAgICAgICA7CgogICAgICAgIAogICAgCiAgICAKICAgICAgICAgICAgdmFyIG1hcmtlcl9kNDk3ZTU5YzkwZTM0MDYwOTU3M2VjNjRmODE5YTAyMiA9IEwubWFya2VyKAogICAgICAgICAgICAgICAgWzUxLjQ1ODc0MzUsIC0yLjYwMzk5N10sCiAgICAgICAgICAgICAgICB7fQogICAgICAgICAgICApLmFkZFRvKG1hcF8yMzI2NmVjYmJlNzA0NDdhODBjYjc2MDMxM2Y5MDgwOSk7CiAgICAgICAgCiAgICAKICAgICAgICB2YXIgcG9wdXBfOWVhYTZiYTZjNDc1NDY4OWI4NzQzN2EwNGYyMWIxZDIgPSBMLnBvcHVwKHsibWF4V2lkdGgiOiAiMTAwJSJ9KTsKCiAgICAgICAgCiAgICAgICAgICAgIHZhciBodG1sXzI0OTE4YWM0MWEwZjQwOTI5NDY2MGM1NzA1MzRiMWE3ID0gJChgPGRpdiBpZD0iaHRtbF8yNDkxOGFjNDFhMGY0MDkyOTQ2NjBjNTcwNTM0YjFhNyIgc3R5bGU9IndpZHRoOiAxMDAuMCU7IGhlaWdodDogMTAwLjAlOyI+VW5pdmVyc2l0eSBvZiBCcmlzdG9sPC9kaXY+YClbMF07CiAgICAgICAgICAgIHBvcHVwXzllYWE2YmE2YzQ3NTQ2ODliODc0MzdhMDRmMjFiMWQyLnNldENvbnRlbnQoaHRtbF8yNDkxOGFjNDFhMGY0MDkyOTQ2NjBjNTcwNTM0YjFhNyk7CiAgICAgICAgCgogICAgICAgIG1hcmtlcl9kNDk3ZTU5YzkwZTM0MDYwOTU3M2VjNjRmODE5YTAyMi5iaW5kUG9wdXAocG9wdXBfOWVhYTZiYTZjNDc1NDY4OWI4NzQzN2EwNGYyMWIxZDIpCiAgICAgICAgOwoKICAgICAgICAKICAgIAogICAgCiAgICAgICAgICAgIHZhciBtYXJrZXJfOWI5MGEzMWJkZWI2NGI4NTg3NzJmMzk1NDBlNDA2NGYgPSBMLm1hcmtlcigKICAgICAgICAgICAgICAgIFs1My4yMTk2NzgyNSwgNi41NjI1MTQ4MjIwNjU0MThdLAogICAgICAgICAgICAgICAge30KICAgICAgICAgICAgKS5hZGRUbyhtYXBfMjMyNjZlY2JiZTcwNDQ3YTgwY2I3NjAzMTNmOTA4MDkpOwogICAgICAgIAogICAgCiAgICAgICAgdmFyIHBvcHVwX2ViMmRiMGE4YzY0YjRhOWViZGY4YTU3ZTVhMDdhOTc0ID0gTC5wb3B1cCh7Im1heFdpZHRoIjogIjEwMCUifSk7CgogICAgICAgIAogICAgICAgICAgICB2YXIgaHRtbF8xMzczODNmYmE1NTQ0MzRlOWExZDM0ODIyZGRiN2Y4ZSA9ICQoYDxkaXYgaWQ9Imh0bWxfMTM3MzgzZmJhNTU0NDM0ZTlhMWQzNDgyMmRkYjdmOGUiIHN0eWxlPSJ3aWR0aDogMTAwLjAlOyBoZWlnaHQ6IDEwMC4wJTsiPlVuaXZlcnNpdHkgb2YgR3JvbmluZ2VuPC9kaXY+YClbMF07CiAgICAgICAgICAgIHBvcHVwX2ViMmRiMGE4YzY0YjRhOWViZGY4YTU3ZTVhMDdhOTc0LnNldENvbnRlbnQoaHRtbF8xMzczODNmYmE1NTQ0MzRlOWExZDM0ODIyZGRiN2Y4ZSk7CiAgICAgICAgCgogICAgICAgIG1hcmtlcl85YjkwYTMxYmRlYjY0Yjg1ODc3MmYzOTU0MGU0MDY0Zi5iaW5kUG9wdXAocG9wdXBfZWIyZGIwYThjNjRiNGE5ZWJkZjhhNTdlNWEwN2E5NzQpCiAgICAgICAgOwoKICAgICAgICAKICAgIAogICAgCiAgICAgICAgICAgIHZhciBtYXJrZXJfYTRiYWU5Y2Q5ZDJmNGRmMGIxZjg1NjNkMTAzMjQ2ZDYgPSBMLm1hcmtlcigKICAgICAgICAgICAgICAgIFs1Mi4zODEzMDczLCAtMS41NjM5MzY5NDU2NjQwNTI4XSwKICAgICAgICAgICAgICAgIHt9CiAgICAgICAgICAgICkuYWRkVG8obWFwXzIzMjY2ZWNiYmU3MDQ0N2E4MGNiNzYwMzEzZjkwODA5KTsKICAgICAgICAKICAgIAogICAgICAgIHZhciBwb3B1cF83ZDMyODg3YTg5M2Y0ODUxYmJmMWY3NjlmOGYzZTMwZCA9IEwucG9wdXAoeyJtYXhXaWR0aCI6ICIxMDAlIn0pOwoKICAgICAgICAKICAgICAgICAgICAgdmFyIGh0bWxfYzQzYWE1NzllNzA2NGNjOWI3Y2VjNDFjYzVjNGM1ZDAgPSAkKGA8ZGl2IGlkPSJodG1sX2M0M2FhNTc5ZTcwNjRjYzliN2NlYzQxY2M1YzRjNWQwIiBzdHlsZT0id2lkdGg6IDEwMC4wJTsgaGVpZ2h0OiAxMDAuMCU7Ij5Vbml2ZXJzaXR5IG9mIFdhcndpY2s8L2Rpdj5gKVswXTsKICAgICAgICAgICAgcG9wdXBfN2QzMjg4N2E4OTNmNDg1MWJiZjFmNzY5ZjhmM2UzMGQuc2V0Q29udGVudChodG1sX2M0M2FhNTc5ZTcwNjRjYzliN2NlYzQxY2M1YzRjNWQwKTsKICAgICAgICAKCiAgICAgICAgbWFya2VyX2E0YmFlOWNkOWQyZjRkZjBiMWY4NTYzZDEwMzI0NmQ2LmJpbmRQb3B1cChwb3B1cF83ZDMyODg3YTg5M2Y0ODUxYmJmMWY3NjlmOGYzZTMwZCkKICAgICAgICA7CgogICAgICAgIAogICAgCiAgICAKICAgICAgICAgICAgdmFyIG1hcmtlcl81NTQ4YjJhOTYyNjM0MmRhYTJhNzZhZmI5ZGZkYmE3OCA9IEwubWFya2VyKAogICAgICAgICAgICAgICAgWzUwLjc3OTE3MDMwMDAwMDAwNCwgNi4wNjg5MjA3OTkwMDg4MjldLAogICAgICAgICAgICAgICAge30KICAgICAgICAgICAgKS5hZGRUbyhtYXBfMjMyNjZlY2JiZTcwNDQ3YTgwY2I3NjAzMTNmOTA4MDkpOwogICAgICAgIAogICAgCiAgICAgICAgdmFyIHBvcHVwXzk0ZWI3OWEyYTk1MzRmZDNiNWIzMzk0MjM3ZDA1OTJmID0gTC5wb3B1cCh7Im1heFdpZHRoIjogIjEwMCUifSk7CgogICAgICAgIAogICAgICAgICAgICB2YXIgaHRtbF81MGMxMzAxOGI4NmI0Y2I5YTFjOTA4MGJiMTg5N2Y1YSA9ICQoYDxkaXYgaWQ9Imh0bWxfNTBjMTMwMThiODZiNGNiOWExYzkwODBiYjE4OTdmNWEiIHN0eWxlPSJ3aWR0aDogMTAwLjAlOyBoZWlnaHQ6IDEwMC4wJTsiPlJXVEggQWFjaGVuIFVuaXZlcnNpdHk8L2Rpdj5gKVswXTsKICAgICAgICAgICAgcG9wdXBfOTRlYjc5YTJhOTUzNGZkM2I1YjMzOTQyMzdkMDU5MmYuc2V0Q29udGVudChodG1sXzUwYzEzMDE4Yjg2YjRjYjlhMWM5MDgwYmIxODk3ZjVhKTsKICAgICAgICAKCiAgICAgICAgbWFya2VyXzU1NDhiMmE5NjI2MzQyZGFhMmE3NmFmYjlkZmRiYTc4LmJpbmRQb3B1cChwb3B1cF85NGViNzlhMmE5NTM0ZmQzYjViMzM5NDIzN2QwNTkyZikKICAgICAgICA7CgogICAgICAgIAogICAgCiAgICAKICAgICAgICAgICAgdmFyIG1hcmtlcl9hOWZjZDk3MDdlNjE0NjFiOTM5YjcyNWZiNzE1NTFhZiA9IEwubWFya2VyKAogICAgICAgICAgICAgICAgWzU5Ljg1MTk0MjQsIDE3LjY5NTY5ODVdLAogICAgICAgICAgICAgICAge30KICAgICAgICAgICAgKS5hZGRUbyhtYXBfMjMyNjZlY2JiZTcwNDQ3YTgwY2I3NjAzMTNmOTA4MDkpOwogICAgICAgIAogICAgCiAgICAgICAgdmFyIHBvcHVwXzgyZDExMTU1NzUyYzQ0MDI5NmNiYWY2MDNkOGFjNDRlID0gTC5wb3B1cCh7Im1heFdpZHRoIjogIjEwMCUifSk7CgogICAgICAgIAogICAgICAgICAgICB2YXIgaHRtbF81ZmU0NTk1NGRjYmM0ZGFjOTIwNTQwYjg1ZTk2OTgwNCA9ICQoYDxkaXYgaWQ9Imh0bWxfNWZlNDU5NTRkY2JjNGRhYzkyMDU0MGI4NWU5Njk4MDQiIHN0eWxlPSJ3aWR0aDogMTAwLjAlOyBoZWlnaHQ6IDEwMC4wJTsiPlVwcHNhbGEgVW5pdmVyc2l0eTwvZGl2PmApWzBdOwogICAgICAgICAgICBwb3B1cF84MmQxMTE1NTc1MmM0NDAyOTZjYmFmNjAzZDhhYzQ0ZS5zZXRDb250ZW50KGh0bWxfNWZlNDU5NTRkY2JjNGRhYzkyMDU0MGI4NWU5Njk4MDQpOwogICAgICAgIAoKICAgICAgICBtYXJrZXJfYTlmY2Q5NzA3ZTYxNDYxYjkzOWI3MjVmYjcxNTUxYWYuYmluZFBvcHVwKHBvcHVwXzgyZDExMTU1NzUyYzQ0MDI5NmNiYWY2MDNkOGFjNDRlKQogICAgICAgIDsKCiAgICAgICAgCiAgICAKICAgIAogICAgICAgICAgICB2YXIgbWFya2VyXzhiZjFjMWUxZTEyZDRjODU4MDRhMzYyMTQ5ODgzYzgzID0gTC5tYXJrZXIoCiAgICAgICAgICAgICAgICBbNDguNTM0MDU5NDUsIDkuMDcxMjQ0NDI5MjM0ODA4XSwKICAgICAgICAgICAgICAgIHt9CiAgICAgICAgICAgICkuYWRkVG8obWFwXzIzMjY2ZWNiYmU3MDQ0N2E4MGNiNzYwMzEzZjkwODA5KTsKICAgICAgICAKICAgIAogICAgICAgIHZhciBwb3B1cF8yMDlhZDQwY2U1ZDA0YTZhODA2ZjhlZTM2Y2UzNmFiYiA9IEwucG9wdXAoeyJtYXhXaWR0aCI6ICIxMDAlIn0pOwoKICAgICAgICAKICAgICAgICAgICAgdmFyIGh0bWxfNWI2ZDhkMGJmODQ0NDMzNDhiZTZjNGU2NTBkMzlkMDcgPSAkKGA8ZGl2IGlkPSJodG1sXzViNmQ4ZDBiZjg0NDQzMzQ4YmU2YzRlNjUwZDM5ZDA3IiBzdHlsZT0id2lkdGg6IDEwMC4wJTsgaGVpZ2h0OiAxMDAuMCU7Ij5Vbml2ZXJzaXR5IG9mIFTDvGJpbmdlbjwvZGl2PmApWzBdOwogICAgICAgICAgICBwb3B1cF8yMDlhZDQwY2U1ZDA0YTZhODA2ZjhlZTM2Y2UzNmFiYi5zZXRDb250ZW50KGh0bWxfNWI2ZDhkMGJmODQ0NDMzNDhiZTZjNGU2NTBkMzlkMDcpOwogICAgICAgIAoKICAgICAgICBtYXJrZXJfOGJmMWMxZTFlMTJkNGM4NTgwNGEzNjIxNDk4ODNjODMuYmluZFBvcHVwKHBvcHVwXzIwOWFkNDBjZTVkMDRhNmE4MDZmOGVlMzZjZTM2YWJiKQogICAgICAgIDsKCiAgICAgICAgCiAgICAKICAgIAogICAgICAgICAgICB2YXIgbWFya2VyXzFiNjFiOGM0OGIwMDQwNTM5OTU2N2EwMmYwYWJlYWRjID0gTC5tYXJrZXIoCiAgICAgICAgICAgICAgICBbNTIuNTI1ODUxMjUsIDEzLjM3NzczOTU3NzkzMjczNl0sCiAgICAgICAgICAgICAgICB7fQogICAgICAgICAgICApLmFkZFRvKG1hcF8yMzI2NmVjYmJlNzA0NDdhODBjYjc2MDMxM2Y5MDgwOSk7CiAgICAgICAgCiAgICAKICAgICAgICB2YXIgcG9wdXBfYzg3YjllMjc0Yjc3NDU0MGFhYzU2ZmE1ZWFkNGY0ZmUgPSBMLnBvcHVwKHsibWF4V2lkdGgiOiAiMTAwJSJ9KTsKCiAgICAgICAgCiAgICAgICAgICAgIHZhciBodG1sX2NjZmM0YzJkMGI5MzQ5NDNhZTEwMmY2MGU0MDA2ZGMwID0gJChgPGRpdiBpZD0iaHRtbF9jY2ZjNGMyZDBiOTM0OTQzYWUxMDJmNjBlNDAwNmRjMCIgc3R5bGU9IndpZHRoOiAxMDAuMCU7IGhlaWdodDogMTAwLjAlOyI+Q2hhcml0w6kgLSBVbml2ZXJzaXTDpHRzbWVkaXppbiBCZXJsaW48L2Rpdj5gKVswXTsKICAgICAgICAgICAgcG9wdXBfYzg3YjllMjc0Yjc3NDU0MGFhYzU2ZmE1ZWFkNGY0ZmUuc2V0Q29udGVudChodG1sX2NjZmM0YzJkMGI5MzQ5NDNhZTEwMmY2MGU0MDA2ZGMwKTsKICAgICAgICAKCiAgICAgICAgbWFya2VyXzFiNjFiOGM0OGIwMDQwNTM5OTU2N2EwMmYwYWJlYWRjLmJpbmRQb3B1cChwb3B1cF9jODdiOWUyNzRiNzc0NTQwYWFjNTZmYTVlYWQ0ZjRmZSkKICAgICAgICA7CgogICAgICAgIAogICAgCiAgICAKICAgICAgICAgICAgdmFyIG1hcmtlcl9kYjVkZTFlMzA4NmI0YTYwYWZiNTRjZTM0MGJmN2YyMCA9IEwubWFya2VyKAogICAgICAgICAgICAgICAgWzQ3LjQ5Njg0MzQ1LCA4LjcyOTgwNzE2ODA5NDk4XSwKICAgICAgICAgICAgICAgIHt9CiAgICAgICAgICAgICkuYWRkVG8obWFwXzIzMjY2ZWNiYmU3MDQ0N2E4MGNiNzYwMzEzZjkwODA5KTsKICAgICAgICAKICAgIAogICAgICAgIHZhciBwb3B1cF80ZWViNTgyM2I0NzI0MjhhOTgyMDAwYjIwYTE0N2Q0YiA9IEwucG9wdXAoeyJtYXhXaWR0aCI6ICIxMDAlIn0pOwoKICAgICAgICAKICAgICAgICAgICAgdmFyIGh0bWxfODZlYTVlNmQ2NTI0NGRmMzgwMzkxNTE5YWIwZTQ0MTQgPSAkKGA8ZGl2IGlkPSJodG1sXzg2ZWE1ZTZkNjUyNDRkZjM4MDM5MTUxOWFiMGU0NDE0IiBzdHlsZT0id2lkdGg6IDEwMC4wJTsgaGVpZ2h0OiAxMDAuMCU7Ij5Vbml2ZXJzaXR5IG9mIFp1cmljaDwvZGl2PmApWzBdOwogICAgICAgICAgICBwb3B1cF80ZWViNTgyM2I0NzI0MjhhOTgyMDAwYjIwYTE0N2Q0Yi5zZXRDb250ZW50KGh0bWxfODZlYTVlNmQ2NTI0NGRmMzgwMzkxNTE5YWIwZTQ0MTQpOwogICAgICAgIAoKICAgICAgICBtYXJrZXJfZGI1ZGUxZTMwODZiNGE2MGFmYjU0Y2UzNDBiZjdmMjAuYmluZFBvcHVwKHBvcHVwXzRlZWI1ODIzYjQ3MjQyOGE5ODIwMDBiMjBhMTQ3ZDRiKQogICAgICAgIDsKCiAgICAgICAgCiAgICAKICAgIAogICAgICAgICAgICB2YXIgbWFya2VyX2M5NGYwZmE2YTBhYTQ4ZWU5N2EwYzdlZWM1OTNkNDY4ID0gTC5tYXJrZXIoCiAgICAgICAgICAgICAgICBbNTUuODcyMzE1MzQ5OTk5OTk0LCAtNC4yODkyMTkxMTI5ODE4MjNdLAogICAgICAgICAgICAgICAge30KICAgICAgICAgICAgKS5hZGRUbyhtYXBfMjMyNjZlY2JiZTcwNDQ3YTgwY2I3NjAzMTNmOTA4MDkpOwogICAgICAgIAogICAgCiAgICAgICAgdmFyIHBvcHVwXzYwZjFmMzUzZDU1MDRmZDg5ZWZhMjg0ODU5NjA0MzBjID0gTC5wb3B1cCh7Im1heFdpZHRoIjogIjEwMCUifSk7CgogICAgICAgIAogICAgICAgICAgICB2YXIgaHRtbF9lN2M5YjdkODdlZDQ0Mzg5YmZjYmMyY2IxYzhmOTVmYyA9ICQoYDxkaXYgaWQ9Imh0bWxfZTdjOWI3ZDg3ZWQ0NDM4OWJmY2JjMmNiMWM4Zjk1ZmMiIHN0eWxlPSJ3aWR0aDogMTAwLjAlOyBoZWlnaHQ6IDEwMC4wJTsiPlVuaXZlcnNpdHkgb2YgR2xhc2dvdzwvZGl2PmApWzBdOwogICAgICAgICAgICBwb3B1cF82MGYxZjM1M2Q1NTA0ZmQ4OWVmYTI4NDg1OTYwNDMwYy5zZXRDb250ZW50KGh0bWxfZTdjOWI3ZDg3ZWQ0NDM4OWJmY2JjMmNiMWM4Zjk1ZmMpOwogICAgICAgIAoKICAgICAgICBtYXJrZXJfYzk0ZjBmYTZhMGFhNDhlZTk3YTBjN2VlYzU5M2Q0NjguYmluZFBvcHVwKHBvcHVwXzYwZjFmMzUzZDU1MDRmZDg5ZWZhMjg0ODU5NjA0MzBjKQogICAgICAgIDsKCiAgICAgICAgCiAgICAKICAgIAogICAgICAgICAgICB2YXIgbWFya2VyX2UxMzM4N2RiZmNlMzQ3OWE5NmY4ZTQyYWZlNzRiOWE1ID0gTC5tYXJrZXIoCiAgICAgICAgICAgICAgICBbNTUuNzA1ODEyNDQ5OTk5OTk2LCAxMy4xOTMzNjExNDgyNzU4NzNdLAogICAgICAgICAgICAgICAge30KICAgICAgICAgICAgKS5hZGRUbyhtYXBfMjMyNjZlY2JiZTcwNDQ3YTgwY2I3NjAzMTNmOTA4MDkpOwogICAgICAgIAogICAgCiAgICAgICAgdmFyIHBvcHVwXzRiYWI1YjljNTc5MzRjNjM4MDMzOTNiZjY3YWI0NThlID0gTC5wb3B1cCh7Im1heFdpZHRoIjogIjEwMCUifSk7CgogICAgICAgIAogICAgICAgICAgICB2YXIgaHRtbF82ZGZjZDQ3MjEwZGI0MWVmOGRiZjlhYmM2ZDNiYTM4OSA9ICQoYDxkaXYgaWQ9Imh0bWxfNmRmY2Q0NzIxMGRiNDFlZjhkYmY5YWJjNmQzYmEzODkiIHN0eWxlPSJ3aWR0aDogMTAwLjAlOyBoZWlnaHQ6IDEwMC4wJTsiPkx1bmQgVW5pdmVyc2l0eTwvZGl2PmApWzBdOwogICAgICAgICAgICBwb3B1cF80YmFiNWI5YzU3OTM0YzYzODAzMzkzYmY2N2FiNDU4ZS5zZXRDb250ZW50KGh0bWxfNmRmY2Q0NzIxMGRiNDFlZjhkYmY5YWJjNmQzYmEzODkpOwogICAgICAgIAoKICAgICAgICBtYXJrZXJfZTEzMzg3ZGJmY2UzNDc5YTk2ZjhlNDJhZmU3NGI5YTUuYmluZFBvcHVwKHBvcHVwXzRiYWI1YjljNTc5MzRjNjM4MDMzOTNiZjY3YWI0NThlKQogICAgICAgIDsKCiAgICAgICAgCiAgICAKICAgIAogICAgICAgICAgICB2YXIgbWFya2VyXzljMjMxODFjMjIwYzQzOTQ5NGIxODdhYThmYzM5MzQ0ID0gTC5tYXJrZXIoCiAgICAgICAgICAgICAgICBbNjAuMTcxMDM5MzAwMDAwMDA0LCAyNC45NDkxNTA0NjExNjQzNV0sCiAgICAgICAgICAgICAgICB7fQogICAgICAgICAgICApLmFkZFRvKG1hcF8yMzI2NmVjYmJlNzA0NDdhODBjYjc2MDMxM2Y5MDgwOSk7CiAgICAgICAgCiAgICAKICAgICAgICB2YXIgcG9wdXBfNGJjNTE2MTEzNzEwNGMxYmFmMThjZTQzNjJkNTIyMjUgPSBMLnBvcHVwKHsibWF4V2lkdGgiOiAiMTAwJSJ9KTsKCiAgICAgICAgCiAgICAgICAgICAgIHZhciBodG1sX2ExNDQzYTUxMTMzZDQ2NDdiZWUxZTZlNGRiNmZlZjk4ID0gJChgPGRpdiBpZD0iaHRtbF9hMTQ0M2E1MTEzM2Q0NjQ3YmVlMWU2ZTRkYjZmZWY5OCIgc3R5bGU9IndpZHRoOiAxMDAuMCU7IGhlaWdodDogMTAwLjAlOyI+VW5pdmVyc2l0eSBvZiBIZWxzaW5raTwvZGl2PmApWzBdOwogICAgICAgICAgICBwb3B1cF80YmM1MTYxMTM3MTA0YzFiYWYxOGNlNDM2MmQ1MjIyNS5zZXRDb250ZW50KGh0bWxfYTE0NDNhNTExMzNkNDY0N2JlZTFlNmU0ZGI2ZmVmOTgpOwogICAgICAgIAoKICAgICAgICBtYXJrZXJfOWMyMzE4MWMyMjBjNDM5NDk0YjE4N2FhOGZjMzkzNDQuYmluZFBvcHVwKHBvcHVwXzRiYzUxNjExMzcxMDRjMWJhZjE4Y2U0MzYyZDUyMjI1KQogICAgICAgIDsKCiAgICAgICAgCiAgICAKICAgIAogICAgICAgICAgICB2YXIgbWFya2VyX2Y4NzU0YWJjZmE5MTRkYjQ4NTJjMzgxNjE4NTE2ZDgzID0gTC5tYXJrZXIoCiAgICAgICAgICAgICAgICBbNDcuNTYxMjY1MSwgNy41NzUyOTYxXSwKICAgICAgICAgICAgICAgIHt9CiAgICAgICAgICAgICkuYWRkVG8obWFwXzIzMjY2ZWNiYmU3MDQ0N2E4MGNiNzYwMzEzZjkwODA5KTsKICAgICAgICAKICAgIAogICAgICAgIHZhciBwb3B1cF9mNWE1ZTc1OTg4YjQ0N2VjOWY1ZTAxODA5OThkYjNiNCA9IEwucG9wdXAoeyJtYXhXaWR0aCI6ICIxMDAlIn0pOwoKICAgICAgICAKICAgICAgICAgICAgdmFyIGh0bWxfZDQ1ZGQyOGFlMDc3NGE0OTk0MDVkMTYxOWJkNjMxZTggPSAkKGA8ZGl2IGlkPSJodG1sX2Q0NWRkMjhhZTA3NzRhNDk5NDA1ZDE2MTliZDYzMWU4IiBzdHlsZT0id2lkdGg6IDEwMC4wJTsgaGVpZ2h0OiAxMDAuMCU7Ij5Vbml2ZXJzaXR5IG9mIEJhc2VsPC9kaXY+YClbMF07CiAgICAgICAgICAgIHBvcHVwX2Y1YTVlNzU5ODhiNDQ3ZWM5ZjVlMDE4MDk5OGRiM2I0LnNldENvbnRlbnQoaHRtbF9kNDVkZDI4YWUwNzc0YTQ5OTQwNWQxNjE5YmQ2MzFlOCk7CiAgICAgICAgCgogICAgICAgIG1hcmtlcl9mODc1NGFiY2ZhOTE0ZGI0ODUyYzM4MTYxODUxNmQ4My5iaW5kUG9wdXAocG9wdXBfZjVhNWU3NTk4OGI0NDdlYzlmNWUwMTgwOTk4ZGIzYjQpCiAgICAgICAgOwoKICAgICAgICAKICAgIAogICAgCiAgICAgICAgICAgIHZhciBtYXJrZXJfOGRiM2JjZmQ4MWNmNDUwYWE5N2U1MzdjODkwYTMyOTQgPSBMLm1hcmtlcigKICAgICAgICAgICAgICAgIFs1My4zODE1MjQ4LCAtMS40ODA2ODE0MjVdLAogICAgICAgICAgICAgICAge30KICAgICAgICAgICAgKS5hZGRUbyhtYXBfMjMyNjZlY2JiZTcwNDQ3YTgwY2I3NjAzMTNmOTA4MDkpOwogICAgICAgIAogICAgCiAgICAgICAgdmFyIHBvcHVwXzgxYzI3OTk5ZjQ1ZDRlZmFiZDVjM2IzZmE1NDk4MjQ0ID0gTC5wb3B1cCh7Im1heFdpZHRoIjogIjEwMCUifSk7CgogICAgICAgIAogICAgICAgICAgICB2YXIgaHRtbF8xYzFjN2Q5YzUwMTE0ZjBjOWQxZDIzYjliMzRkMDFhZCA9ICQoYDxkaXYgaWQ9Imh0bWxfMWMxYzdkOWM1MDExNGYwYzlkMWQyM2I5YjM0ZDAxYWQiIHN0eWxlPSJ3aWR0aDogMTAwLjAlOyBoZWlnaHQ6IDEwMC4wJTsiPlVuaXZlcnNpdHkgb2YgU2hlZmZpZWxkPC9kaXY+YClbMF07CiAgICAgICAgICAgIHBvcHVwXzgxYzI3OTk5ZjQ1ZDRlZmFiZDVjM2IzZmE1NDk4MjQ0LnNldENvbnRlbnQoaHRtbF8xYzFjN2Q5YzUwMTE0ZjBjOWQxZDIzYjliMzRkMDFhZCk7CiAgICAgICAgCgogICAgICAgIG1hcmtlcl84ZGIzYmNmZDgxY2Y0NTBhYTk3ZTUzN2M4OTBhMzI5NC5iaW5kUG9wdXAocG9wdXBfODFjMjc5OTlmNDVkNGVmYWJkNWMzYjNmYTU0OTgyNDQpCiAgICAgICAgOwoKICAgICAgICAKICAgIAogICAgCiAgICAgICAgICAgIHZhciBtYXJrZXJfNDUwN2MxOGU0YjI2NGQ1Mzk1YjI3OGNkMTI5Y2MxMDQgPSBMLm1hcmtlcigKICAgICAgICAgICAgICAgIFszNi43MjMzNTkwNSwgMy4xNTA1OTIwODE5MjIyNzNdLAogICAgICAgICAgICAgICAge30KICAgICAgICAgICAgKS5hZGRUbyhtYXBfMjMyNjZlY2JiZTcwNDQ3YTgwY2I3NjAzMTNmOTA4MDkpOwogICAgICAgIAogICAgCiAgICAgICAgdmFyIHBvcHVwXzdlMDk2YTUyZjU3ODRmYjY5ZTk2NGNmMmE5OGI5ZTAzID0gTC5wb3B1cCh7Im1heFdpZHRoIjogIjEwMCUifSk7CgogICAgICAgIAogICAgICAgICAgICB2YXIgaHRtbF8yNmE2YWYwZjI5OGQ0NTBkYTQzMjVhMWExY2JiZGZhZSA9ICQoYDxkaXYgaWQ9Imh0bWxfMjZhNmFmMGYyOThkNDUwZGE0MzI1YTFhMWNiYmRmYWUiIHN0eWxlPSJ3aWR0aDogMTAwLjAlOyBoZWlnaHQ6IDEwMC4wJTsiPsOJY29sZSBQb2x5dGVjaG5pcXVlPC9kaXY+YClbMF07CiAgICAgICAgICAgIHBvcHVwXzdlMDk2YTUyZjU3ODRmYjY5ZTk2NGNmMmE5OGI5ZTAzLnNldENvbnRlbnQoaHRtbF8yNmE2YWYwZjI5OGQ0NTBkYTQzMjVhMWExY2JiZGZhZSk7CiAgICAgICAgCgogICAgICAgIG1hcmtlcl80NTA3YzE4ZTRiMjY0ZDUzOTViMjc4Y2QxMjljYzEwNC5iaW5kUG9wdXAocG9wdXBfN2UwOTZhNTJmNTc4NGZiNjllOTY0Y2YyYTk4YjllMDMpCiAgICAgICAgOwoKICAgICAgICAKICAgIAogICAgCiAgICAgICAgICAgIHZhciBtYXJrZXJfMjkzMWEwYjgzNGZkNGYzZGJlYjg2ZjIyNmQyM2I4YjUgPSBMLm1hcmtlcigKICAgICAgICAgICAgICAgIFs0Ni45NTA5MDIzLCA3LjQzODY3NjIzOTcwNDE2Ml0sCiAgICAgICAgICAgICAgICB7fQogICAgICAgICAgICApLmFkZFRvKG1hcF8yMzI2NmVjYmJlNzA0NDdhODBjYjc2MDMxM2Y5MDgwOSk7CiAgICAgICAgCiAgICAKICAgICAgICB2YXIgcG9wdXBfMmI0MjE1ZjgxZDhmNDNhZDkzZGU3MjMxZWNjMThmOTcgPSBMLnBvcHVwKHsibWF4V2lkdGgiOiAiMTAwJSJ9KTsKCiAgICAgICAgCiAgICAgICAgICAgIHZhciBodG1sXzRhNGY5N2E3NzY3NDQ3ODJiM2E5NmFkYTdkOWFlZjY4ID0gJChgPGRpdiBpZD0iaHRtbF80YTRmOTdhNzc2NzQ0NzgyYjNhOTZhZGE3ZDlhZWY2OCIgc3R5bGU9IndpZHRoOiAxMDAuMCU7IGhlaWdodDogMTAwLjAlOyI+VW5pdmVyc2l0eSBvZiBCZXJuPC9kaXY+YClbMF07CiAgICAgICAgICAgIHBvcHVwXzJiNDIxNWY4MWQ4ZjQzYWQ5M2RlNzIzMWVjYzE4Zjk3LnNldENvbnRlbnQoaHRtbF80YTRmOTdhNzc2NzQ0NzgyYjNhOTZhZGE3ZDlhZWY2OCk7CiAgICAgICAgCgogICAgICAgIG1hcmtlcl8yOTMxYTBiODM0ZmQ0ZjNkYmViODZmMjI2ZDIzYjhiNS5iaW5kUG9wdXAocG9wdXBfMmI0MjE1ZjgxZDhmNDNhZDkzZGU3MjMxZWNjMThmOTcpCiAgICAgICAgOwoKICAgICAgICAKICAgIAogICAgCiAgICAgICAgICAgIHZhciBtYXJrZXJfM2I3ZWNjYTAyMGU5NDA3Yjg2ZmY3ZDgxNjIxOTAwOTcgPSBMLm1hcmtlcigKICAgICAgICAgICAgICAgIFs1MC43MzM4MTI0LCA3LjEwMjI0NjVdLAogICAgICAgICAgICAgICAge30KICAgICAgICAgICAgKS5hZGRUbyhtYXBfMjMyNjZlY2JiZTcwNDQ3YTgwY2I3NjAzMTNmOTA4MDkpOwogICAgICAgIAogICAgCiAgICAgICAgdmFyIHBvcHVwXzc0ZjgxZWNlMWZmODQxNWViOWY3Mzg4OWFlYzJkNDJkID0gTC5wb3B1cCh7Im1heFdpZHRoIjogIjEwMCUifSk7CgogICAgICAgIAogICAgICAgICAgICB2YXIgaHRtbF85N2Q2MmE2MmQ2Yzc0ZGQ5Yjc1NWNhOTljZjcxNTZmYyA9ICQoYDxkaXYgaWQ9Imh0bWxfOTdkNjJhNjJkNmM3NGRkOWI3NTVjYTk5Y2Y3MTU2ZmMiIHN0eWxlPSJ3aWR0aDogMTAwLjAlOyBoZWlnaHQ6IDEwMC4wJTsiPlVuaXZlcnNpdHkgb2YgQm9ubjwvZGl2PmApWzBdOwogICAgICAgICAgICBwb3B1cF83NGY4MWVjZTFmZjg0MTVlYjlmNzM4ODlhZWMyZDQyZC5zZXRDb250ZW50KGh0bWxfOTdkNjJhNjJkNmM3NGRkOWI3NTVjYTk5Y2Y3MTU2ZmMpOwogICAgICAgIAoKICAgICAgICBtYXJrZXJfM2I3ZWNjYTAyMGU5NDA3Yjg2ZmY3ZDgxNjIxOTAwOTcuYmluZFBvcHVwKHBvcHVwXzc0ZjgxZWNlMWZmODQxNWViOWY3Mzg4OWFlYzJkNDJkKQogICAgICAgIDsKCiAgICAgICAgCiAgICAKICAgIAogICAgICAgICAgICB2YXIgbWFya2VyXzUyYmI3OWNjMTE5ODRkOWFiN2Y2OGJlYTBmZTFiZjkwID0gTC5tYXJrZXIoCiAgICAgICAgICAgICAgICBbNTQuNzY4NjMzNywgLTEuNTcyMDg5NF0sCiAgICAgICAgICAgICAgICB7fQogICAgICAgICAgICApLmFkZFRvKG1hcF8yMzI2NmVjYmJlNzA0NDdhODBjYjc2MDMxM2Y5MDgwOSk7CiAgICAgICAgCiAgICAKICAgICAgICB2YXIgcG9wdXBfNDhlZWNhNTEzY2Y2NDVmMTljZmU2ZmEyYTQ2ZTMyNmQgPSBMLnBvcHVwKHsibWF4V2lkdGgiOiAiMTAwJSJ9KTsKCiAgICAgICAgCiAgICAgICAgICAgIHZhciBodG1sXzI3ODcwZThhNWJmMjRjZDliZDc4ZjhkMTc3ZmQ2OWI4ID0gJChgPGRpdiBpZD0iaHRtbF8yNzg3MGU4YTViZjI0Y2Q5YmQ3OGY4ZDE3N2ZkNjliOCIgc3R5bGU9IndpZHRoOiAxMDAuMCU7IGhlaWdodDogMTAwLjAlOyI+RHVyaGFtIFVuaXZlcnNpdHk8L2Rpdj5gKVswXTsKICAgICAgICAgICAgcG9wdXBfNDhlZWNhNTEzY2Y2NDVmMTljZmU2ZmEyYTQ2ZTMyNmQuc2V0Q29udGVudChodG1sXzI3ODcwZThhNWJmMjRjZDliZDc4ZjhkMTc3ZmQ2OWI4KTsKICAgICAgICAKCiAgICAgICAgbWFya2VyXzUyYmI3OWNjMTE5ODRkOWFiN2Y2OGJlYTBmZTFiZjkwLmJpbmRQb3B1cChwb3B1cF80OGVlY2E1MTNjZjY0NWYxOWNmZTZmYTJhNDZlMzI2ZCkKICAgICAgICA7CgogICAgICAgIAogICAgCiAgICAKICAgICAgICAgICAgdmFyIG1hcmtlcl8zZWEyZTdmMDY3YmU0YTNjODdmM2U4ZjFhMGRmMjNkNSA9IEwubWFya2VyKAogICAgICAgICAgICAgICAgWzUyLjQ1MTA0NzcsIC0xLjkyOTc0NzVdLAogICAgICAgICAgICAgICAge30KICAgICAgICAgICAgKS5hZGRUbyhtYXBfMjMyNjZlY2JiZTcwNDQ3YTgwY2I3NjAzMTNmOTA4MDkpOwogICAgICAgIAogICAgCiAgICAgICAgdmFyIHBvcHVwXzlkNGQ1NTkyOGI2OTRhYTNhYzBhY2IxNjkwMWU4ZWNmID0gTC5wb3B1cCh7Im1heFdpZHRoIjogIjEwMCUifSk7CgogICAgICAgIAogICAgICAgICAgICB2YXIgaHRtbF82ZmY0MzQ5ZGQzZWQ0YWZlYjgzOWYwOWFmM2YxN2MzNiA9ICQoYDxkaXYgaWQ9Imh0bWxfNmZmNDM0OWRkM2VkNGFmZWI4MzlmMDlhZjNmMTdjMzYiIHN0eWxlPSJ3aWR0aDogMTAwLjAlOyBoZWlnaHQ6IDEwMC4wJTsiPlVuaXZlcnNpdHkgb2YgQmlybWluZ2hhbTwvZGl2PmApWzBdOwogICAgICAgICAgICBwb3B1cF85ZDRkNTU5MjhiNjk0YWEzYWMwYWNiMTY5MDFlOGVjZi5zZXRDb250ZW50KGh0bWxfNmZmNDM0OWRkM2VkNGFmZWI4MzlmMDlhZjNmMTdjMzYpOwogICAgICAgIAoKICAgICAgICBtYXJrZXJfM2VhMmU3ZjA2N2JlNGEzYzg3ZjNlOGYxYTBkZjIzZDUuYmluZFBvcHVwKHBvcHVwXzlkNGQ1NTkyOGI2OTRhYTNhYzBhY2IxNjkwMWU4ZWNmKQogICAgICAgIDsKCiAgICAgICAgCiAgICAKICAgIAogICAgICAgICAgICB2YXIgbWFya2VyXzY4MzM1OWZkMTY5NjQzZWU5MGM0NzVhOGY5YmNmYWQ2ID0gTC5tYXJrZXIoCiAgICAgICAgICAgICAgICBbNTUuNjgwMTUwMiwgMTIuNTcyMzI3MDAxNDA2MjVdLAogICAgICAgICAgICAgICAge30KICAgICAgICAgICAgKS5hZGRUbyhtYXBfMjMyNjZlY2JiZTcwNDQ3YTgwY2I3NjAzMTNmOTA4MDkpOwogICAgICAgIAogICAgCiAgICAgICAgdmFyIHBvcHVwX2E4N2UyOTllMmUxMjQ4ZjE5NjE3YWIyYmNkMzllM2VkID0gTC5wb3B1cCh7Im1heFdpZHRoIjogIjEwMCUifSk7CgogICAgICAgIAogICAgICAgICAgICB2YXIgaHRtbF8xZjg2YTRmZGFjN2Y0Nzk3YWZiNGRlNjNhN2ExYjQxNiA9ICQoYDxkaXYgaWQ9Imh0bWxfMWY4NmE0ZmRhYzdmNDc5N2FmYjRkZTYzYTdhMWI0MTYiIHN0eWxlPSJ3aWR0aDogMTAwLjAlOyBoZWlnaHQ6IDEwMC4wJTsiPlVuaXZlcnNpdHkgb2YgQ29wZW5oYWdlbjwvZGl2PmApWzBdOwogICAgICAgICAgICBwb3B1cF9hODdlMjk5ZTJlMTI0OGYxOTYxN2FiMmJjZDM5ZTNlZC5zZXRDb250ZW50KGh0bWxfMWY4NmE0ZmRhYzdmNDc5N2FmYjRkZTYzYTdhMWI0MTYpOwogICAgICAgIAoKICAgICAgICBtYXJrZXJfNjgzMzU5ZmQxNjk2NDNlZTkwYzQ3NWE4ZjliY2ZhZDYuYmluZFBvcHVwKHBvcHVwX2E4N2UyOTllMmUxMjQ4ZjE5NjE3YWIyYmNkMzllM2VkKQogICAgICAgIDsKCiAgICAgICAgCiAgICAKICAgIAogICAgICAgICAgICB2YXIgbWFya2VyX2RjZTJiNGUxNWY3OTRiYmY4NzljYzc2MmI5NzQ0MTU0ID0gTC5tYXJrZXIoCiAgICAgICAgICAgICAgICBbMS40Mjk4OTMzNSwgMTAzLjYxMjIwNDY2Njc3OTEyXSwKICAgICAgICAgICAgICAgIHt9CiAgICAgICAgICAgICkuYWRkVG8obWFwXzIzMjY2ZWNiYmU3MDQ0N2E4MGNiNzYwMzEzZjkwODA5KTsKICAgICAgICAKICAgIAogICAgICAgIHZhciBwb3B1cF80OGM1NTdiNjUxNzU0MjI3YmQ3NzM0MTAwNTBmMTI4NiA9IEwucG9wdXAoeyJtYXhXaWR0aCI6ICIxMDAlIn0pOwoKICAgICAgICAKICAgICAgICAgICAgdmFyIGh0bWxfOTA0M2Q3MGY2MTIzNGE2NDk2NTcxZmIyZWU2Y2YzZmYgPSAkKGA8ZGl2IGlkPSJodG1sXzkwNDNkNzBmNjEyMzRhNjQ5NjU3MWZiMmVlNmNmM2ZmIiBzdHlsZT0id2lkdGg6IDEwMC4wJTsgaGVpZ2h0OiAxMDAuMCU7Ij5Vbml2ZXJzaXR5IG9mIFNvdXRoYW1wdG9uPC9kaXY+YClbMF07CiAgICAgICAgICAgIHBvcHVwXzQ4YzU1N2I2NTE3NTQyMjdiZDc3MzQxMDA1MGYxMjg2LnNldENvbnRlbnQoaHRtbF85MDQzZDcwZjYxMjM0YTY0OTY1NzFmYjJlZTZjZjNmZik7CiAgICAgICAgCgogICAgICAgIG1hcmtlcl9kY2UyYjRlMTVmNzk0YmJmODc5Y2M3NjJiOTc0NDE1NC5iaW5kUG9wdXAocG9wdXBfNDhjNTU3YjY1MTc1NDIyN2JkNzczNDEwMDUwZjEyODYpCiAgICAgICAgOwoKICAgICAgICAKICAgIAogICAgCiAgICAgICAgICAgIHZhciBtYXJrZXJfN2QyNDQxNGU0NzkwNDJiOGFiM2M1NzUyNTJlZjA5ZTEgPSBMLm1hcmtlcigKICAgICAgICAgICAgICAgIFs1My45NDUzOTAzLCAtMS4wMzE0NTkyOTQzMTA0Njc1XSwKICAgICAgICAgICAgICAgIHt9CiAgICAgICAgICAgICkuYWRkVG8obWFwXzIzMjY2ZWNiYmU3MDQ0N2E4MGNiNzYwMzEzZjkwODA5KTsKICAgICAgICAKICAgIAogICAgICAgIHZhciBwb3B1cF9lZWM2MmMyZWI0OTA0NjMzOTJlOGY0NWQyNjkyMmJjZSA9IEwucG9wdXAoeyJtYXhXaWR0aCI6ICIxMDAlIn0pOwoKICAgICAgICAKICAgICAgICAgICAgdmFyIGh0bWxfZTAxMGY3NzM0NTI4NDhlYWJlNTlhYzI3NTc5MTZkZTcgPSAkKGA8ZGl2IGlkPSJodG1sX2UwMTBmNzczNDUyODQ4ZWFiZTU5YWMyNzU3OTE2ZGU3IiBzdHlsZT0id2lkdGg6IDEwMC4wJTsgaGVpZ2h0OiAxMDAuMCU7Ij5Vbml2ZXJzaXR5IG9mIFlvcms8L2Rpdj5gKVswXTsKICAgICAgICAgICAgcG9wdXBfZWVjNjJjMmViNDkwNDYzMzkyZThmNDVkMjY5MjJiY2Uuc2V0Q29udGVudChodG1sX2UwMTBmNzczNDUyODQ4ZWFiZTU5YWMyNzU3OTE2ZGU3KTsKICAgICAgICAKCiAgICAgICAgbWFya2VyXzdkMjQ0MTRlNDc5MDQyYjhhYjNjNTc1MjUyZWYwOWUxLmJpbmRQb3B1cChwb3B1cF9lZWM2MmMyZWI0OTA0NjMzOTJlOGY0NWQyNjkyMmJjZSkKICAgICAgICA7CgogICAgICAgIAogICAgCiAgICAKICAgICAgICAgICAgdmFyIG1hcmtlcl9mMjIzOTk2ZWRlYjE0YjIwOTA0ZGU1ZTMwNjhmNThmMyA9IEwubWFya2VyKAogICAgICAgICAgICAgICAgWzUzLjM0MzY2NzQ1LCAtNi4yNTQ0NDQ3MjQ1MTE4MjJdLAogICAgICAgICAgICAgICAge30KICAgICAgICAgICAgKS5hZGRUbyhtYXBfMjMyNjZlY2JiZTcwNDQ3YTgwY2I3NjAzMTNmOTA4MDkpOwogICAgICAgIAogICAgCiAgICAgICAgdmFyIHBvcHVwXzkyMDc5YzcwMWFlNTQ0OTlhMWM2MmIyMTI1NDViM2ZkID0gTC5wb3B1cCh7Im1heFdpZHRoIjogIjEwMCUifSk7CgogICAgICAgIAogICAgICAgICAgICB2YXIgaHRtbF8zNzhjNzQ3NDY2ZDI0ZTdhOWE2OWQ4NjhhY2QxMDUwMyA9ICQoYDxkaXYgaWQ9Imh0bWxfMzc4Yzc0NzQ2NmQyNGU3YTlhNjlkODY4YWNkMTA1MDMiIHN0eWxlPSJ3aWR0aDogMTAwLjAlOyBoZWlnaHQ6IDEwMC4wJTsiPlRyaW5pdHkgQ29sbGVnZSBEdWJsaW48L2Rpdj5gKVswXTsKICAgICAgICAgICAgcG9wdXBfOTIwNzljNzAxYWU1NDQ5OWExYzYyYjIxMjU0NWIzZmQuc2V0Q29udGVudChodG1sXzM3OGM3NDc0NjZkMjRlN2E5YTY5ZDg2OGFjZDEwNTAzKTsKICAgICAgICAKCiAgICAgICAgbWFya2VyX2YyMjM5OTZlZGViMTRiMjA5MDRkZTVlMzA2OGY1OGYzLmJpbmRQb3B1cChwb3B1cF85MjA3OWM3MDFhZTU0NDk5YTFjNjJiMjEyNTQ1YjNmZCkKICAgICAgICA7CgogICAgICAgIAogICAgCiAgICAKICAgICAgICAgICAgdmFyIG1hcmtlcl80ZThjMGE2Mzk2MzQ0ZmEzOTRiYjA0NDU0YjhmZmRhMyA9IEwubWFya2VyKAogICAgICAgICAgICAgICAgWzU5LjkzODkxNjY0OTk5OTk5NiwgMTAuNzIxNzE4OTAxNzY5MTg3XSwKICAgICAgICAgICAgICAgIHt9CiAgICAgICAgICAgICkuYWRkVG8obWFwXzIzMjY2ZWNiYmU3MDQ0N2E4MGNiNzYwMzEzZjkwODA5KTsKICAgICAgICAKICAgIAogICAgICAgIHZhciBwb3B1cF9iZGY4N2VlMjBhNmE0NzIzOWNlYjUxY2I5MDFmNGU2YiA9IEwucG9wdXAoeyJtYXhXaWR0aCI6ICIxMDAlIn0pOwoKICAgICAgICAKICAgICAgICAgICAgdmFyIGh0bWxfYzhjMDIxNmRlZjA0NDk2YTg5NDM2NmNkYjY5YmZhZTMgPSAkKGA8ZGl2IGlkPSJodG1sX2M4YzAyMTZkZWYwNDQ5NmE4OTQzNjZjZGI2OWJmYWUzIiBzdHlsZT0id2lkdGg6IDEwMC4wJTsgaGVpZ2h0OiAxMDAuMCU7Ij5Vbml2ZXJzaXR5IG9mIE9zbG88L2Rpdj5gKVswXTsKICAgICAgICAgICAgcG9wdXBfYmRmODdlZTIwYTZhNDcyMzljZWI1MWNiOTAxZjRlNmIuc2V0Q29udGVudChodG1sX2M4YzAyMTZkZWYwNDQ5NmE4OTQzNjZjZGI2OWJmYWUzKTsKICAgICAgICAKCiAgICAgICAgbWFya2VyXzRlOGMwYTYzOTYzNDRmYTM5NGJiMDQ0NTRiOGZmZGEzLmJpbmRQb3B1cChwb3B1cF9iZGY4N2VlMjBhNmE0NzIzOWNlYjUxY2I5MDFmNGU2YikKICAgICAgICA7CgogICAgICAgIAogICAgCiAgICAKICAgICAgICAgICAgdmFyIG1hcmtlcl84ZTc2YWU4M2ZmMGU0OTRkODQ2NGQ0MmE3MDliOGQ3OCA9IEwubWFya2VyKAogICAgICAgICAgICAgICAgWzU2LjE2NzIwNTIsIDEwLjIwMjYwODg3MDk2NDA3XSwKICAgICAgICAgICAgICAgIHt9CiAgICAgICAgICAgICkuYWRkVG8obWFwXzIzMjY2ZWNiYmU3MDQ0N2E4MGNiNzYwMzEzZjkwODA5KTsKICAgICAgICAKICAgIAogICAgICAgIHZhciBwb3B1cF9lZWJhODY3YjlhN2M0YTdjOWU1YTc3YmQ1Zjg1Y2ZmZCA9IEwucG9wdXAoeyJtYXhXaWR0aCI6ICIxMDAlIn0pOwoKICAgICAgICAKICAgICAgICAgICAgdmFyIGh0bWxfOTNhMjc1YTQ0OTM3NGY5Yjk3OGI5ZTFmMTYxMjY3NDAgPSAkKGA8ZGl2IGlkPSJodG1sXzkzYTI3NWE0NDkzNzRmOWI5NzhiOWUxZjE2MTI2NzQwIiBzdHlsZT0id2lkdGg6IDEwMC4wJTsgaGVpZ2h0OiAxMDAuMCU7Ij5BYXJodXMgVW5pdmVyc2l0eTwvZGl2PmApWzBdOwogICAgICAgICAgICBwb3B1cF9lZWJhODY3YjlhN2M0YTdjOWU1YTc3YmQ1Zjg1Y2ZmZC5zZXRDb250ZW50KGh0bWxfOTNhMjc1YTQ0OTM3NGY5Yjk3OGI5ZTFmMTYxMjY3NDApOwogICAgICAgIAoKICAgICAgICBtYXJrZXJfOGU3NmFlODNmZjBlNDk0ZDg0NjRkNDJhNzA5YjhkNzguYmluZFBvcHVwKHBvcHVwX2VlYmE4NjdiOWE3YzRhN2M5ZTVhNzdiZDVmODVjZmZkKQogICAgICAgIDsKCiAgICAgICAgCiAgICAKICAgIAogICAgICAgICAgICB2YXIgbWFya2VyX2U5NjI0Mjc0OGYyZTQ0OTViMzUyMDI4ZDA2YTA2MGY0ID0gTC5tYXJrZXIoCiAgICAgICAgICAgICAgICBbNTEuNTI4NTA3OTUwMDAwMDA1LCA5LjkzMjMyNjA0MzQ4NTYxNV0sCiAgICAgICAgICAgICAgICB7fQogICAgICAgICAgICApLmFkZFRvKG1hcF8yMzI2NmVjYmJlNzA0NDdhODBjYjc2MDMxM2Y5MDgwOSk7CiAgICAgICAgCiAgICAKICAgICAgICB2YXIgcG9wdXBfZWJkZmE0N2E5YmZiNDVhNWIwZWZmYzkxNmJiOGM3ZWMgPSBMLnBvcHVwKHsibWF4V2lkdGgiOiAiMTAwJSJ9KTsKCiAgICAgICAgCiAgICAgICAgICAgIHZhciBodG1sX2UwM2ExY2U4MDE5ODQwZjQ5N2VjNDEwMjUwYzdlNzU1ID0gJChgPGRpdiBpZD0iaHRtbF9lMDNhMWNlODAxOTg0MGY0OTdlYzQxMDI1MGM3ZTc1NSIgc3R5bGU9IndpZHRoOiAxMDAuMCU7IGhlaWdodDogMTAwLjAlOyI+VW5pdmVyc2l0eSBvZiBHw7Z0dGluZ2VuPC9kaXY+YClbMF07CiAgICAgICAgICAgIHBvcHVwX2ViZGZhNDdhOWJmYjQ1YTViMGVmZmM5MTZiYjhjN2VjLnNldENvbnRlbnQoaHRtbF9lMDNhMWNlODAxOTg0MGY0OTdlYzQxMDI1MGM3ZTc1NSk7CiAgICAgICAgCgogICAgICAgIG1hcmtlcl9lOTYyNDI3NDhmMmU0NDk1YjM1MjAyOGQwNmEwNjBmNC5iaW5kUG9wdXAocG9wdXBfZWJkZmE0N2E5YmZiNDVhNWIwZWZmYzkxNmJiOGM3ZWMpCiAgICAgICAgOwoKICAgICAgICAKICAgIAogICAgCiAgICAgICAgICAgIHZhciBtYXJrZXJfYTkyYmVhNTdmNDcwNGQ5MDlkYjQxZDIzNmNkYjk4MTkgPSBMLm1hcmtlcigKICAgICAgICAgICAgICAgIFs0OS40Njk5NzY1LCA4LjQ4MTkwMjRdLAogICAgICAgICAgICAgICAge30KICAgICAgICAgICAgKS5hZGRUbyhtYXBfMjMyNjZlY2JiZTcwNDQ3YTgwY2I3NjAzMTNmOTA4MDkpOwogICAgICAgIAogICAgCiAgICAgICAgdmFyIHBvcHVwX2VjODM1YWYzMTQ5MTQ3MWY5MDYzN2ZlZGZiN2JjMzNjID0gTC5wb3B1cCh7Im1heFdpZHRoIjogIjEwMCUifSk7CgogICAgICAgIAogICAgICAgICAgICB2YXIgaHRtbF9mY2VkYThlMjUxOTE0MzA1OGJiYjNiYWM3NzRkZTljMiA9ICQoYDxkaXYgaWQ9Imh0bWxfZmNlZGE4ZTI1MTkxNDMwNThiYmIzYmFjNzc0ZGU5YzIiIHN0eWxlPSJ3aWR0aDogMTAwLjAlOyBoZWlnaHQ6IDEwMC4wJTsiPlVuaXZlcnNpdHkgb2YgTWFubmhlaW08L2Rpdj5gKVswXTsKICAgICAgICAgICAgcG9wdXBfZWM4MzVhZjMxNDkxNDcxZjkwNjM3ZmVkZmI3YmMzM2Muc2V0Q29udGVudChodG1sX2ZjZWRhOGUyNTE5MTQzMDU4YmJiM2JhYzc3NGRlOWMyKTsKICAgICAgICAKCiAgICAgICAgbWFya2VyX2E5MmJlYTU3ZjQ3MDRkOTA5ZGI0MWQyMzZjZGI5ODE5LmJpbmRQb3B1cChwb3B1cF9lYzgzNWFmMzE0OTE0NzFmOTA2MzdmZWRmYjdiYzMzYykKICAgICAgICA7CgogICAgICAgIAogICAgCiAgICAKICAgICAgICAgICAgdmFyIG1hcmtlcl85MzYyMTYwNDA3NDI0ODZlODMwMGM1NDVkYjZjM2Y3MyA9IEwubWFya2VyKAogICAgICAgICAgICAgICAgWzUxLjgyMTUxNzI1LCA1Ljg2MzQwMzQ0MjU0MTA0Ml0sCiAgICAgICAgICAgICAgICB7fQogICAgICAgICAgICApLmFkZFRvKG1hcF8yMzI2NmVjYmJlNzA0NDdhODBjYjc2MDMxM2Y5MDgwOSk7CiAgICAgICAgCiAgICAKICAgICAgICB2YXIgcG9wdXBfMGEwYzBlZGYzOWRiNDkxOWI4YWEwNWZiZjVkMzNmYWUgPSBMLnBvcHVwKHsibWF4V2lkdGgiOiAiMTAwJSJ9KTsKCiAgICAgICAgCiAgICAgICAgICAgIHZhciBodG1sX2Y0ZGE2MTY4YmUwMTQzY2M4NTc3ZGJmM2E3M2Y5NTViID0gJChgPGRpdiBpZD0iaHRtbF9mNGRhNjE2OGJlMDE0M2NjODU3N2RiZjNhNzNmOTU1YiIgc3R5bGU9IndpZHRoOiAxMDAuMCU7IGhlaWdodDogMTAwLjAlOyI+UmFkYm91ZCBVbml2ZXJzaXR5IE5pam1lZ2VuPC9kaXY+YClbMF07CiAgICAgICAgICAgIHBvcHVwXzBhMGMwZWRmMzlkYjQ5MTliOGFhMDVmYmY1ZDMzZmFlLnNldENvbnRlbnQoaHRtbF9mNGRhNjE2OGJlMDE0M2NjODU3N2RiZjNhNzNmOTU1Yik7CiAgICAgICAgCgogICAgICAgIG1hcmtlcl85MzYyMTYwNDA3NDI0ODZlODMwMGM1NDVkYjZjM2Y3My5iaW5kUG9wdXAocG9wdXBfMGEwYzBlZGYzOWRiNDkxOWI4YWEwNWZiZjVkMzNmYWUpCiAgICAgICAgOwoKICAgICAgICAKICAgIAogICAgCiAgICAgICAgICAgIHZhciBtYXJrZXJfMzhmMjRiZDQzNWU0NDQ3NzgzZGZiMTJmNDExYjYzOGEgPSBMLm1hcmtlcigKICAgICAgICAgICAgICAgIFs1MC42NjgyNTM4LCA0LjYyMDEwOTUyNjgxMTU5NV0sCiAgICAgICAgICAgICAgICB7fQogICAgICAgICAgICApLmFkZFRvKG1hcF8yMzI2NmVjYmJlNzA0NDdhODBjYjc2MDMxM2Y5MDgwOSk7CiAgICAgICAgCiAgICAKICAgICAgICB2YXIgcG9wdXBfZDkyMjY2ZjU4MjNiNGYyMmJjNjg0MDkzNTQ3MzNlMDYgPSBMLnBvcHVwKHsibWF4V2lkdGgiOiAiMTAwJSJ9KTsKCiAgICAgICAgCiAgICAgICAgICAgIHZhciBodG1sXzVlNWM3YTExMzk5ODQ2ZWVhMWY5NTRmYzI5N2E3NTE0ID0gJChgPGRpdiBpZD0iaHRtbF81ZTVjN2ExMTM5OTg0NmVlYTFmOTU0ZmMyOTdhNzUxNCIgc3R5bGU9IndpZHRoOiAxMDAuMCU7IGhlaWdodDogMTAwLjAlOyI+VW5pdmVyc2l0w6kgQ2F0aG9saXF1ZSBkZSBMb3V2YWluPC9kaXY+YClbMF07CiAgICAgICAgICAgIHBvcHVwX2Q5MjI2NmY1ODIzYjRmMjJiYzY4NDA5MzU0NzMzZTA2LnNldENvbnRlbnQoaHRtbF81ZTVjN2ExMTM5OTg0NmVlYTFmOTU0ZmMyOTdhNzUxNCk7CiAgICAgICAgCgogICAgICAgIG1hcmtlcl8zOGYyNGJkNDM1ZTQ0NDc3ODNkZmIxMmY0MTFiNjM4YS5iaW5kUG9wdXAocG9wdXBfZDkyMjY2ZjU4MjNiNGYyMmJjNjg0MDkzNTQ3MzNlMDYpCiAgICAgICAgOwoKICAgICAgICAKICAgIAogICAgCiAgICAgICAgICAgIHZhciBtYXJrZXJfZGYyYjA3NTUxZDE0NDFjYjk5ZGU1ZmUzNDBhYjY1YjQgPSBMLm1hcmtlcigKICAgICAgICAgICAgICAgIFs1MC44MzczNDY5LCA0LjQwNjE2NF0sCiAgICAgICAgICAgICAgICB7fQogICAgICAgICAgICApLmFkZFRvKG1hcF8yMzI2NmVjYmJlNzA0NDdhODBjYjc2MDMxM2Y5MDgwOSk7CiAgICAgICAgCiAgICAKICAgICAgICB2YXIgcG9wdXBfMmEyNzM1MDI3MGNjNDZjYTk5MjNlYzI3YWRjMGRkNWQgPSBMLnBvcHVwKHsibWF4V2lkdGgiOiAiMTAwJSJ9KTsKCiAgICAgICAgCiAgICAgICAgICAgIHZhciBodG1sX2YxMzQ4ODkzMGVjYjRkM2Q5ODlkY2EwZTUxNmJjYzlkID0gJChgPGRpdiBpZD0iaHRtbF9mMTM0ODg5MzBlY2I0ZDNkOTg5ZGNhMGU1MTZiY2M5ZCIgc3R5bGU9IndpZHRoOiAxMDAuMCU7IGhlaWdodDogMTAwLjAlOyI+TWFhc3RyaWNodCBVbml2ZXJzaXR5PC9kaXY+YClbMF07CiAgICAgICAgICAgIHBvcHVwXzJhMjczNTAyNzBjYzQ2Y2E5OTIzZWMyN2FkYzBkZDVkLnNldENvbnRlbnQoaHRtbF9mMTM0ODg5MzBlY2I0ZDNkOTg5ZGNhMGU1MTZiY2M5ZCk7CiAgICAgICAgCgogICAgICAgIG1hcmtlcl9kZjJiMDc1NTFkMTQ0MWNiOTlkZTVmZTM0MGFiNjViNC5iaW5kUG9wdXAocG9wdXBfMmEyNzM1MDI3MGNjNDZjYTk5MjNlYzI3YWRjMGRkNWQpCiAgICAgICAgOwoKICAgICAgICAKICAgIAogICAgCiAgICAgICAgICAgIHZhciBtYXJrZXJfZWY0NmIyOTFiMmQ5NDcyNWE2YmU4NjZkMTk4NmZjYmIgPSBMLm1hcmtlcigKICAgICAgICAgICAgICAgIFs1MS41MjQ3MjcyLCAtMC4wMzkzMTAzNDY2MzAxNjI0M10sCiAgICAgICAgICAgICAgICB7fQogICAgICAgICAgICApLmFkZFRvKG1hcF8yMzI2NmVjYmJlNzA0NDdhODBjYjc2MDMxM2Y5MDgwOSk7CiAgICAgICAgCiAgICAKICAgICAgICB2YXIgcG9wdXBfMzdlMGNmNDJlNTFmNGI3YjgzODBmYTNiMWJiNDlhOGYgPSBMLnBvcHVwKHsibWF4V2lkdGgiOiAiMTAwJSJ9KTsKCiAgICAgICAgCiAgICAgICAgICAgIHZhciBodG1sX2Y5OGQxMjE3ZWUwYTRmZTU4ODY4YzJiYmJkYmY3YWRjID0gJChgPGRpdiBpZD0iaHRtbF9mOThkMTIxN2VlMGE0ZmU1ODg2OGMyYmJiZGJmN2FkYyIgc3R5bGU9IndpZHRoOiAxMDAuMCU7IGhlaWdodDogMTAwLjAlOyI+UXVlZW4gTWFyeSBVbml2ZXJzaXR5IG9mIExvbmRvbjwvZGl2PmApWzBdOwogICAgICAgICAgICBwb3B1cF8zN2UwY2Y0MmU1MWY0YjdiODM4MGZhM2IxYmI0OWE4Zi5zZXRDb250ZW50KGh0bWxfZjk4ZDEyMTdlZTBhNGZlNTg4NjhjMmJiYmRiZjdhZGMpOwogICAgICAgIAoKICAgICAgICBtYXJrZXJfZWY0NmIyOTFiMmQ5NDcyNWE2YmU4NjZkMTk4NmZjYmIuYmluZFBvcHVwKHBvcHVwXzM3ZTBjZjQyZTUxZjRiN2I4MzgwZmEzYjFiYjQ5YThmKQogICAgICAgIDsKCiAgICAgICAgCiAgICAKICAgIAogICAgICAgICAgICB2YXIgbWFya2VyXzZhMjM2ZjU2OGI3NzQ0MmJiZmQ5ZmYzYjU2MTcxZjEwID0gTC5tYXJrZXIoCiAgICAgICAgICAgICAgICBbNDYuMTkzNTIxNSwgNi4xNTE1MTA4XSwKICAgICAgICAgICAgICAgIHt9CiAgICAgICAgICAgICkuYWRkVG8obWFwXzIzMjY2ZWNiYmU3MDQ0N2E4MGNiNzYwMzEzZjkwODA5KTsKICAgICAgICAKICAgIAogICAgICAgIHZhciBwb3B1cF9jMWZkZWFhOWY0ZWU0ZDBhOTk2ZTQxM2FiN2RlZWQ4YSA9IEwucG9wdXAoeyJtYXhXaWR0aCI6ICIxMDAlIn0pOwoKICAgICAgICAKICAgICAgICAgICAgdmFyIGh0bWxfYTMwNGFmN2UwNDVkNDlmMTlmNWI1MDIwZjVjYzAzZDIgPSAkKGA8ZGl2IGlkPSJodG1sX2EzMDRhZjdlMDQ1ZDQ5ZjE5ZjViNTAyMGY1Y2MwM2QyIiBzdHlsZT0id2lkdGg6IDEwMC4wJTsgaGVpZ2h0OiAxMDAuMCU7Ij5Vbml2ZXJzaXR5IG9mIEdlbmV2YTwvZGl2PmApWzBdOwogICAgICAgICAgICBwb3B1cF9jMWZkZWFhOWY0ZWU0ZDBhOTk2ZTQxM2FiN2RlZWQ4YS5zZXRDb250ZW50KGh0bWxfYTMwNGFmN2UwNDVkNDlmMTlmNWI1MDIwZjVjYzAzZDIpOwogICAgICAgIAoKICAgICAgICBtYXJrZXJfNmEyMzZmNTY4Yjc3NDQyYmJmZDlmZjNiNTYxNzFmMTAuYmluZFBvcHVwKHBvcHVwX2MxZmRlYWE5ZjRlZTRkMGE5OTZlNDEzYWI3ZGVlZDhhKQogICAgICAgIDsKCiAgICAgICAgCiAgICAKICAgIAogICAgICAgICAgICB2YXIgbWFya2VyX2I3MDI0NDRkODY2ZjQyYmFiMDI4YWNhYThlOGU3Njk0ID0gTC5tYXJrZXIoCiAgICAgICAgICAgICAgICBbNTMuNTY0MTAwNCwgOS45OTQ5Nzg5NzEyMDI3MDJdLAogICAgICAgICAgICAgICAge30KICAgICAgICAgICAgKS5hZGRUbyhtYXBfMjMyNjZlY2JiZTcwNDQ3YTgwY2I3NjAzMTNmOTA4MDkpOwogICAgICAgIAogICAgCiAgICAgICAgdmFyIHBvcHVwXzA3NjM4ZTUxYzg1OTQ3NTJiNTI5MGRiODUxZGMxODk0ID0gTC5wb3B1cCh7Im1heFdpZHRoIjogIjEwMCUifSk7CgogICAgICAgIAogICAgICAgICAgICB2YXIgaHRtbF8wNWZiYzI2ZmY0NDE0ZGFlYWVjMjU0YWNkZGFjMzMzOSA9ICQoYDxkaXYgaWQ9Imh0bWxfMDVmYmMyNmZmNDQxNGRhZWFlYzI1NGFjZGRhYzMzMzkiIHN0eWxlPSJ3aWR0aDogMTAwLjAlOyBoZWlnaHQ6IDEwMC4wJTsiPlVuaXZlcnNpdHkgb2YgSGFtYnVyZzwvZGl2PmApWzBdOwogICAgICAgICAgICBwb3B1cF8wNzYzOGU1MWM4NTk0NzUyYjUyOTBkYjg1MWRjMTg5NC5zZXRDb250ZW50KGh0bWxfMDVmYmMyNmZmNDQxNGRhZWFlYzI1NGFjZGRhYzMzMzkpOwogICAgICAgIAoKICAgICAgICBtYXJrZXJfYjcwMjQ0NGQ4NjZmNDJiYWIwMjhhY2FhOGU4ZTc2OTQuYmluZFBvcHVwKHBvcHVwXzA3NjM4ZTUxYzg1OTQ3NTJiNTI5MGRiODUxZGMxODk0KQogICAgICAgIDsKCiAgICAgICAgCiAgICAKICAgIAogICAgICAgICAgICB2YXIgbWFya2VyXzgzYmI5MDBjMjQzYTQwODJiYmM4OTRjOWI0MzljZTJhID0gTC5tYXJrZXIoCiAgICAgICAgICAgICAgICBbNDkuMTAxODQzNzUsIDguNDMzMTI1NTk2MjM4NzU3XSwKICAgICAgICAgICAgICAgIHt9CiAgICAgICAgICAgICkuYWRkVG8obWFwXzIzMjY2ZWNiYmU3MDQ0N2E4MGNiNzYwMzEzZjkwODA5KTsKICAgICAgICAKICAgIAogICAgICAgIHZhciBwb3B1cF8xMmQ4Y2I0NGM0ZTk0OGYzOTA4OGQ3ZDFiMDVmNTQzOSA9IEwucG9wdXAoeyJtYXhXaWR0aCI6ICIxMDAlIn0pOwoKICAgICAgICAKICAgICAgICAgICAgdmFyIGh0bWxfMTRhMWZjN2Q4YjlkNGYwYjk5ZmIyMGY0NDAxYjM5ZGQgPSAkKGA8ZGl2IGlkPSJodG1sXzE0YTFmYzdkOGI5ZDRmMGI5OWZiMjBmNDQwMWIzOWRkIiBzdHlsZT0id2lkdGg6IDEwMC4wJTsgaGVpZ2h0OiAxMDAuMCU7Ij5LYXJsc3J1aGUgSW5zdGl0dXRlIG9mIFRlY2hub2xvZ3k8L2Rpdj5gKVswXTsKICAgICAgICAgICAgcG9wdXBfMTJkOGNiNDRjNGU5NDhmMzkwODhkN2QxYjA1ZjU0Mzkuc2V0Q29udGVudChodG1sXzE0YTFmYzdkOGI5ZDRmMGI5OWZiMjBmNDQwMWIzOWRkKTsKICAgICAgICAKCiAgICAgICAgbWFya2VyXzgzYmI5MDBjMjQzYTQwODJiYmM4OTRjOWI0MzljZTJhLmJpbmRQb3B1cChwb3B1cF8xMmQ4Y2I0NGM0ZTk0OGYzOTA4OGQ3ZDFiMDVmNTQzOSkKICAgICAgICA7CgogICAgICAgIAogICAgCiAgICAKICAgICAgICAgICAgdmFyIG1hcmtlcl80MTgyNTc1OWRmMmI0YWZmOTdkOTM4YWEyNTUzYmZlYiA9IEwubWFya2VyKAogICAgICAgICAgICAgICAgWzQxLjczNjc2NTMsIDEuODI1MDczMDU2NDQ3Mzg3Nl0sCiAgICAgICAgICAgICAgICB7fQogICAgICAgICAgICApLmFkZFRvKG1hcF8yMzI2NmVjYmJlNzA0NDdhODBjYjc2MDMxM2Y5MDgwOSk7CiAgICAgICAgCiAgICAKICAgICAgICB2YXIgcG9wdXBfZDg5Zjk0ZWYyMTQ3NDI5YmFiZDY4MzFjNzlmYmZkZTcgPSBMLnBvcHVwKHsibWF4V2lkdGgiOiAiMTAwJSJ9KTsKCiAgICAgICAgCiAgICAgICAgICAgIHZhciBodG1sXzk4ZjQ5YmMzNjRjODQ5NjZhZDliYWJkNzU1NDNlNjQ1ID0gJChgPGRpdiBpZD0iaHRtbF85OGY0OWJjMzY0Yzg0OTY2YWQ5YmFiZDc1NTQzZTY0NSIgc3R5bGU9IndpZHRoOiAxMDAuMCU7IGhlaWdodDogMTAwLjAlOyI+UG9tcGV1IEZhYnJhIFVuaXZlcnNpdHk8L2Rpdj5gKVswXTsKICAgICAgICAgICAgcG9wdXBfZDg5Zjk0ZWYyMTQ3NDI5YmFiZDY4MzFjNzlmYmZkZTcuc2V0Q29udGVudChodG1sXzk4ZjQ5YmMzNjRjODQ5NjZhZDliYWJkNzU1NDNlNjQ1KTsKICAgICAgICAKCiAgICAgICAgbWFya2VyXzQxODI1NzU5ZGYyYjRhZmY5N2Q5MzhhYTI1NTNiZmViLmJpbmRQb3B1cChwb3B1cF9kODlmOTRlZjIxNDc0MjliYWJkNjgzMWM3OWZiZmRlNykKICAgICAgICA7CgogICAgICAgIAogICAgCiAgICAKICAgICAgICAgICAgdmFyIG1hcmtlcl81M2EzMTY1MzRlYTk0MTc2YjEyNGYzODhkM2U4YTRjYyA9IEwubWFya2VyKAogICAgICAgICAgICAgICAgWzUwLjczNjkzMDIsIC0zLjUzNjQ3NjcxNzAyMTY3MV0sCiAgICAgICAgICAgICAgICB7fQogICAgICAgICAgICApLmFkZFRvKG1hcF8yMzI2NmVjYmJlNzA0NDdhODBjYjc2MDMxM2Y5MDgwOSk7CiAgICAgICAgCiAgICAKICAgICAgICB2YXIgcG9wdXBfMzIzZjUxNGU3YjliNDc3MmJmYTk5ZjA3NzFhYzM2MzUgPSBMLnBvcHVwKHsibWF4V2lkdGgiOiAiMTAwJSJ9KTsKCiAgICAgICAgCiAgICAgICAgICAgIHZhciBodG1sXzU2MzMyYjJkYzc1MTQ3MTRhNjRiM2I5YzAzODQxODc1ID0gJChgPGRpdiBpZD0iaHRtbF81NjMzMmIyZGM3NTE0NzE0YTY0YjNiOWMwMzg0MTg3NSIgc3R5bGU9IndpZHRoOiAxMDAuMCU7IGhlaWdodDogMTAwLjAlOyI+VW5pdmVyc2l0eSBvZiBFeGV0ZXI8L2Rpdj5gKVswXTsKICAgICAgICAgICAgcG9wdXBfMzIzZjUxNGU3YjliNDc3MmJmYTk5ZjA3NzFhYzM2MzUuc2V0Q29udGVudChodG1sXzU2MzMyYjJkYzc1MTQ3MTRhNjRiM2I5YzAzODQxODc1KTsKICAgICAgICAKCiAgICAgICAgbWFya2VyXzUzYTMxNjUzNGVhOTQxNzZiMTI0ZjM4OGQzZThhNGNjLmJpbmRQb3B1cChwb3B1cF8zMjNmNTE0ZTdiOWI0NzcyYmZhOTlmMDc3MWFjMzYzNSkKICAgICAgICA7CgogICAgICAgIAogICAgCiAgICAKICAgICAgICAgICAgdmFyIG1hcmtlcl9hNzA2OTBiMjcwZjM0NjA3OWZhYTA5NDhiMTZjYjkxMyA9IEwubWFya2VyKAogICAgICAgICAgICAgICAgWzUxLjAyNTA4OTgsIDMuNzEzNTM5NDYwMDYwMDY1XSwKICAgICAgICAgICAgICAgIHt9CiAgICAgICAgICAgICkuYWRkVG8obWFwXzIzMjY2ZWNiYmU3MDQ0N2E4MGNiNzYwMzEzZjkwODA5KTsKICAgICAgICAKICAgIAogICAgICAgIHZhciBwb3B1cF81ZTM4YzM4NGZmNDU0YWNmYmEwNWYyOGIzZGJkM2JmYiA9IEwucG9wdXAoeyJtYXhXaWR0aCI6ICIxMDAlIn0pOwoKICAgICAgICAKICAgICAgICAgICAgdmFyIGh0bWxfMjQ1OTI0OWVjMmZiNGJlYzgwMDA4M2E1MDc2OThhNjUgPSAkKGA8ZGl2IGlkPSJodG1sXzI0NTkyNDllYzJmYjRiZWM4MDAwODNhNTA3Njk4YTY1IiBzdHlsZT0id2lkdGg6IDEwMC4wJTsgaGVpZ2h0OiAxMDAuMCU7Ij5HaGVudCBVbml2ZXJzaXR5PC9kaXY+YClbMF07CiAgICAgICAgICAgIHBvcHVwXzVlMzhjMzg0ZmY0NTRhY2ZiYTA1ZjI4YjNkYmQzYmZiLnNldENvbnRlbnQoaHRtbF8yNDU5MjQ5ZWMyZmI0YmVjODAwMDgzYTUwNzY5OGE2NSk7CiAgICAgICAgCgogICAgICAgIG1hcmtlcl9hNzA2OTBiMjcwZjM0NjA3OWZhYTA5NDhiMTZjYjkxMy5iaW5kUG9wdXAocG9wdXBfNWUzOGMzODRmZjQ1NGFjZmJhMDVmMjhiM2RiZDNiZmIpCiAgICAgICAgOwoKICAgICAgICAKICAgIAogICAgCiAgICAgICAgICAgIHZhciBtYXJrZXJfYmU2ZTVkZjRmODNhNGViNjhjYWZkYWUwNjI0ODA2ZmMgPSBMLm1hcmtlcigKICAgICAgICAgICAgICAgIFs0OC4yMTMxMzAyLCAxNi4zNjA2ODY1MzM4MDE2NDhdLAogICAgICAgICAgICAgICAge30KICAgICAgICAgICAgKS5hZGRUbyhtYXBfMjMyNjZlY2JiZTcwNDQ3YTgwY2I3NjAzMTNmOTA4MDkpOwogICAgICAgIAogICAgCiAgICAgICAgdmFyIHBvcHVwXzcxNmE2NTRiNjQxZTRjZmQ5YzcyODc0NDNhMzdiZTkxID0gTC5wb3B1cCh7Im1heFdpZHRoIjogIjEwMCUifSk7CgogICAgICAgIAogICAgICAgICAgICB2YXIgaHRtbF9jYTAwZmI2ZTM1ZjQ0NGQ1ODEwYmQ2ZTUwZGVkZTk0ZCA9ICQoYDxkaXYgaWQ9Imh0bWxfY2EwMGZiNmUzNWY0NDRkNTgxMGJkNmU1MGRlZGU5NGQiIHN0eWxlPSJ3aWR0aDogMTAwLjAlOyBoZWlnaHQ6IDEwMC4wJTsiPlVuaXZlcnNpdHkgb2YgVmllbm5hPC9kaXY+YClbMF07CiAgICAgICAgICAgIHBvcHVwXzcxNmE2NTRiNjQxZTRjZmQ5YzcyODc0NDNhMzdiZTkxLnNldENvbnRlbnQoaHRtbF9jYTAwZmI2ZTM1ZjQ0NGQ1ODEwYmQ2ZTUwZGVkZTk0ZCk7CiAgICAgICAgCgogICAgICAgIG1hcmtlcl9iZTZlNWRmNGY4M2E0ZWI2OGNhZmRhZTA2MjQ4MDZmYy5iaW5kUG9wdXAocG9wdXBfNzE2YTY1NGI2NDFlNGNmZDljNzI4NzQ0M2EzN2JlOTEpCiAgICAgICAgOwoKICAgICAgICAKICAgIAogICAgCiAgICAgICAgICAgIHZhciBtYXJrZXJfMzQ0NTY2ZTI0ZGI0NGYyNmI5YjUxMWM3MDI2OGI2YzIgPSBMLm1hcmtlcigKICAgICAgICAgICAgICAgIFs1MC45NTE4MzI3NDk5OTk5OTQsIDYuODk3OTQ4NjcyMjUwODE1XSwKICAgICAgICAgICAgICAgIHt9CiAgICAgICAgICAgICkuYWRkVG8obWFwXzIzMjY2ZWNiYmU3MDQ0N2E4MGNiNzYwMzEzZjkwODA5KTsKICAgICAgICAKICAgIAogICAgICAgIHZhciBwb3B1cF9kYzE4NjAzMjk3NGY0NzcyOWJhYzg2ZmE2M2VlYmM0MSA9IEwucG9wdXAoeyJtYXhXaWR0aCI6ICIxMDAlIn0pOwoKICAgICAgICAKICAgICAgICAgICAgdmFyIGh0bWxfOTg3OGU1MGU4OWM2NGE0YzliYmVjMDM3NDI3NWQ0MjAgPSAkKGA8ZGl2IGlkPSJodG1sXzk4NzhlNTBlODljNjRhNGM5YmJlYzAzNzQyNzVkNDIwIiBzdHlsZT0id2lkdGg6IDEwMC4wJTsgaGVpZ2h0OiAxMDAuMCU7Ij5Vbml2ZXJzaXR5IG9mIENvbG9nbmU8L2Rpdj5gKVswXTsKICAgICAgICAgICAgcG9wdXBfZGMxODYwMzI5NzRmNDc3MjliYWM4NmZhNjNlZWJjNDEuc2V0Q29udGVudChodG1sXzk4NzhlNTBlODljNjRhNGM5YmJlYzAzNzQyNzVkNDIwKTsKICAgICAgICAKCiAgICAgICAgbWFya2VyXzM0NDU2NmUyNGRiNDRmMjZiOWI1MTFjNzAyNjhiNmMyLmJpbmRQb3B1cChwb3B1cF9kYzE4NjAzMjk3NGY0NzcyOWJhYzg2ZmE2M2VlYmM0MSkKICAgICAgICA7CgogICAgICAgIAogICAgCiAgICAKICAgICAgICAgICAgdmFyIG1hcmtlcl8xNjZlM2RhN2NlODA0MmJjODNiY2IwNWEzYTRkYTk1MyA9IEwubWFya2VyKAogICAgICAgICAgICAgICAgWzU0LjAwOTM2ODksIC0yLjc4NTI0NDhdLAogICAgICAgICAgICAgICAge30KICAgICAgICAgICAgKS5hZGRUbyhtYXBfMjMyNjZlY2JiZTcwNDQ3YTgwY2I3NjAzMTNmOTA4MDkpOwogICAgICAgIAogICAgCiAgICAgICAgdmFyIHBvcHVwX2ZkMmNhOTQ1MTM1MzQ5ZWI4Nzc0YTEzNDc4YTMxOWFmID0gTC5wb3B1cCh7Im1heFdpZHRoIjogIjEwMCUifSk7CgogICAgICAgIAogICAgICAgICAgICB2YXIgaHRtbF83NzU2OWY3MDgxNTU0Zjc5YWY1OGNkYjM3ODY1OGFiZiA9ICQoYDxkaXYgaWQ9Imh0bWxfNzc1NjlmNzA4MTU1NGY3OWFmNThjZGIzNzg2NThhYmYiIHN0eWxlPSJ3aWR0aDogMTAwLjAlOyBoZWlnaHQ6IDEwMC4wJTsiPkxhbmNhc3RlciBVbml2ZXJzaXR5PC9kaXY+YClbMF07CiAgICAgICAgICAgIHBvcHVwX2ZkMmNhOTQ1MTM1MzQ5ZWI4Nzc0YTEzNDc4YTMxOWFmLnNldENvbnRlbnQoaHRtbF83NzU2OWY3MDgxNTU0Zjc5YWY1OGNkYjM3ODY1OGFiZik7CiAgICAgICAgCgogICAgICAgIG1hcmtlcl8xNjZlM2RhN2NlODA0MmJjODNiY2IwNWEzYTRkYTk1My5iaW5kUG9wdXAocG9wdXBfZmQyY2E5NDUxMzUzNDllYjg3NzRhMTM0NzhhMzE5YWYpCiAgICAgICAgOwoKICAgICAgICAKICAgIAogICAgCiAgICAgICAgICAgIHZhciBtYXJrZXJfNjlmZTZlOTA0Mzc2NGUwOWJkNGFlODMyNDZkNWRjMWMgPSBMLm1hcmtlcigKICAgICAgICAgICAgICAgIFs1Mi45Mzg3NDI4LCAtMS4yMDAyOTU2OTI3NDU3NDI3XSwKICAgICAgICAgICAgICAgIHt9CiAgICAgICAgICAgICkuYWRkVG8obWFwXzIzMjY2ZWNiYmU3MDQ0N2E4MGNiNzYwMzEzZjkwODA5KTsKICAgICAgICAKICAgIAogICAgICAgIHZhciBwb3B1cF9hYTcxMWRlN2VlM2U0NjFmOGY0MjczYTIzMTg4ZmYwNCA9IEwucG9wdXAoeyJtYXhXaWR0aCI6ICIxMDAlIn0pOwoKICAgICAgICAKICAgICAgICAgICAgdmFyIGh0bWxfZDZmZDNjZjliZTU2NGRkZThlMDcwYTYzODBiNGZhM2MgPSAkKGA8ZGl2IGlkPSJodG1sX2Q2ZmQzY2Y5YmU1NjRkZGU4ZTA3MGE2MzgwYjRmYTNjIiBzdHlsZT0id2lkdGg6IDEwMC4wJTsgaGVpZ2h0OiAxMDAuMCU7Ij5Vbml2ZXJzaXR5IG9mIE5vdHRpbmdoYW08L2Rpdj5gKVswXTsKICAgICAgICAgICAgcG9wdXBfYWE3MTFkZTdlZTNlNDYxZjhmNDI3M2EyMzE4OGZmMDQuc2V0Q29udGVudChodG1sX2Q2ZmQzY2Y5YmU1NjRkZGU4ZTA3MGE2MzgwYjRmYTNjKTsKICAgICAgICAKCiAgICAgICAgbWFya2VyXzY5ZmU2ZTkwNDM3NjRlMDliZDRhZTgzMjQ2ZDVkYzFjLmJpbmRQb3B1cChwb3B1cF9hYTcxMWRlN2VlM2U0NjFmOGY0MjczYTIzMTg4ZmYwNCkKICAgICAgICA7CgogICAgICAgIAogICAgCiAgICAKICAgICAgICAgICAgdmFyIG1hcmtlcl81N2MxMzhhMTQ5NDk0ZDMzYmJjODM4OGJlZjU3NmEyOSA9IEwubWFya2VyKAogICAgICAgICAgICAgICAgWzQ4LjM5MjkyNDQsIDkuOTg3MjEwNDMxNzE5NTQ2XSwKICAgICAgICAgICAgICAgIHt9CiAgICAgICAgICAgICkuYWRkVG8obWFwXzIzMjY2ZWNiYmU3MDQ0N2E4MGNiNzYwMzEzZjkwODA5KTsKICAgICAgICAKICAgIAogICAgICAgIHZhciBwb3B1cF9mZjczMmFkMjZhZjU0ZDdjYTZjZmM2ZWVkMzA5YWIyOSA9IEwucG9wdXAoeyJtYXhXaWR0aCI6ICIxMDAlIn0pOwoKICAgICAgICAKICAgICAgICAgICAgdmFyIGh0bWxfZDdjNjBhOWY2YWRhNGUwYjljOTg0NjhjMWU4MmY0MjUgPSAkKGA8ZGl2IGlkPSJodG1sX2Q3YzYwYTlmNmFkYTRlMGI5Yzk4NDY4YzFlODJmNDI1IiBzdHlsZT0id2lkdGg6IDEwMC4wJTsgaGVpZ2h0OiAxMDAuMCU7Ij5VbG0gVW5pdmVyc2l0eTwvZGl2PmApWzBdOwogICAgICAgICAgICBwb3B1cF9mZjczMmFkMjZhZjU0ZDdjYTZjZmM2ZWVkMzA5YWIyOS5zZXRDb250ZW50KGh0bWxfZDdjNjBhOWY2YWRhNGUwYjljOTg0NjhjMWU4MmY0MjUpOwogICAgICAgIAoKICAgICAgICBtYXJrZXJfNTdjMTM4YTE0OTQ5NGQzM2JiYzgzODhiZWY1NzZhMjkuYmluZFBvcHVwKHBvcHVwX2ZmNzMyYWQyNmFmNTRkN2NhNmNmYzZlZWQzMDlhYjI5KQogICAgICAgIDsKCiAgICAgICAgCiAgICAKICAgIAogICAgICAgICAgICB2YXIgbWFya2VyXzU1ZDNiZDMxYmE2NzRkZjdhZjU2ODQ3YTM1ZTdjODUzID0gTC5tYXJrZXIoCiAgICAgICAgICAgICAgICBbNTEuMDI4Mjc2NTAwMDAwMDA0LCAxMy43MzU5ODI3NTQ5MzUxNzZdLAogICAgICAgICAgICAgICAge30KICAgICAgICAgICAgKS5hZGRUbyhtYXBfMjMyNjZlY2JiZTcwNDQ3YTgwY2I3NjAzMTNmOTA4MDkpOwogICAgICAgIAogICAgCiAgICAgICAgdmFyIHBvcHVwXzQ2NmU0Yjg5ZTlhYzQ2MDk5OWM1ZjEwODExMDQ1Mjc3ID0gTC5wb3B1cCh7Im1heFdpZHRoIjogIjEwMCUifSk7CgogICAgICAgIAogICAgICAgICAgICB2YXIgaHRtbF9lNDE3MGZmMjQzYjc0Nzg1OTk1ZjhlYWRmMjY0ODE2NyA9ICQoYDxkaXYgaWQ9Imh0bWxfZTQxNzBmZjI0M2I3NDc4NTk5NWY4ZWFkZjI2NDgxNjciIHN0eWxlPSJ3aWR0aDogMTAwLjAlOyBoZWlnaHQ6IDEwMC4wJTsiPlRVIERyZXNkZW48L2Rpdj5gKVswXTsKICAgICAgICAgICAgcG9wdXBfNDY2ZTRiODllOWFjNDYwOTk5YzVmMTA4MTEwNDUyNzcuc2V0Q29udGVudChodG1sX2U0MTcwZmYyNDNiNzQ3ODU5OTVmOGVhZGYyNjQ4MTY3KTsKICAgICAgICAKCiAgICAgICAgbWFya2VyXzU1ZDNiZDMxYmE2NzRkZjdhZjU2ODQ3YTM1ZTdjODUzLmJpbmRQb3B1cChwb3B1cF80NjZlNGI4OWU5YWM0NjA5OTljNWYxMDgxMTA0NTI3NykKICAgICAgICA7CgogICAgICAgIAogICAgCiAgICAKICAgICAgICAgICAgdmFyIG1hcmtlcl8zNDUyM2ZmZjJhZDA0MDA1OWE5YTZhMWZiY2I5ODk2YyA9IEwubWFya2VyKAogICAgICAgICAgICAgICAgWzUzLjgwNjY4NDYsIC0xLjU1NjAzNzgzODA0MzU0NTFdLAogICAgICAgICAgICAgICAge30KICAgICAgICAgICAgKS5hZGRUbyhtYXBfMjMyNjZlY2JiZTcwNDQ3YTgwY2I3NjAzMTNmOTA4MDkpOwogICAgICAgIAogICAgCiAgICAgICAgdmFyIHBvcHVwXzdlNzNhYzBiZTdhYTRmYjM4ZWNhMGNmYmY4NzRhYzRmID0gTC5wb3B1cCh7Im1heFdpZHRoIjogIjEwMCUifSk7CgogICAgICAgIAogICAgICAgICAgICB2YXIgaHRtbF81NTYwNzlkMWRjMzI0MjNjOTExZWYxYzAyMTU3MDI0MyA9ICQoYDxkaXYgaWQ9Imh0bWxfNTU2MDc5ZDFkYzMyNDIzYzkxMWVmMWMwMjE1NzAyNDMiIHN0eWxlPSJ3aWR0aDogMTAwLjAlOyBoZWlnaHQ6IDEwMC4wJTsiPlVuaXZlcnNpdHkgb2YgTGVlZHM8L2Rpdj5gKVswXTsKICAgICAgICAgICAgcG9wdXBfN2U3M2FjMGJlN2FhNGZiMzhlY2EwY2ZiZjg3NGFjNGYuc2V0Q29udGVudChodG1sXzU1NjA3OWQxZGMzMjQyM2M5MTFlZjFjMDIxNTcwMjQzKTsKICAgICAgICAKCiAgICAgICAgbWFya2VyXzM0NTIzZmZmMmFkMDQwMDU5YTlhNmExZmJjYjk4OTZjLmJpbmRQb3B1cChwb3B1cF83ZTczYWMwYmU3YWE0ZmIzOGVjYTBjZmJmODc0YWM0ZikKICAgICAgICA7CgogICAgICAgIAogICAgCiAgICAKICAgICAgICAgICAgdmFyIG1hcmtlcl8wZGRjYzUwMjkyMTY0Mzc0ODNiMWI4YTZmMWIwZjI1MyA9IEwubWFya2VyKAogICAgICAgICAgICAgICAgWzQzLjcyMDYwNzgsIDEwLjQwMjY0NDRdLAogICAgICAgICAgICAgICAge30KICAgICAgICAgICAgKS5hZGRUbyhtYXBfMjMyNjZlY2JiZTcwNDQ3YTgwY2I3NjAzMTNmOTA4MDkpOwogICAgICAgIAogICAgCiAgICAgICAgdmFyIHBvcHVwX2UyMjAyMzMzZTcwZjQ0NWJiYmU0YmNjYTBmNWE1MGMxID0gTC5wb3B1cCh7Im1heFdpZHRoIjogIjEwMCUifSk7CgogICAgICAgIAogICAgICAgICAgICB2YXIgaHRtbF84NTA1NGUxYjc1NmU0NjIzODkzZTY3NWYxY2VlYWIyMSA9ICQoYDxkaXYgaWQ9Imh0bWxfODUwNTRlMWI3NTZlNDYyMzg5M2U2NzVmMWNlZWFiMjEiIHN0eWxlPSJ3aWR0aDogMTAwLjAlOyBoZWlnaHQ6IDEwMC4wJTsiPlNjdW9sYSBTdXBlcmlvcmUgU2FudOKAmUFubmE8L2Rpdj5gKVswXTsKICAgICAgICAgICAgcG9wdXBfZTIyMDIzMzNlNzBmNDQ1YmJiZTRiY2NhMGY1YTUwYzEuc2V0Q29udGVudChodG1sXzg1MDU0ZTFiNzU2ZTQ2MjM4OTNlNjc1ZjFjZWVhYjIxKTsKICAgICAgICAKCiAgICAgICAgbWFya2VyXzBkZGNjNTAyOTIxNjQzNzQ4M2IxYjhhNmYxYjBmMjUzLmJpbmRQb3B1cChwb3B1cF9lMjIwMjMzM2U3MGY0NDViYmJlNGJjY2EwZjVhNTBjMSkKICAgICAgICA7CgogICAgICAgIAogICAgCiAgICAKICAgICAgICAgICAgdmFyIG1hcmtlcl9jNWQ0MTA2ZWNmZWQ0OTUzYTgzM2NkNzRiYWFkYWJhOCA9IEwubWFya2VyKAogICAgICAgICAgICAgICAgWzU5LjM2NjE0MSwgMTguMDU5NTkyOTYwNTU5MzkyXSwKICAgICAgICAgICAgICAgIHt9CiAgICAgICAgICAgICkuYWRkVG8obWFwXzIzMjY2ZWNiYmU3MDQ0N2E4MGNiNzYwMzEzZjkwODA5KTsKICAgICAgICAKICAgIAogICAgICAgIHZhciBwb3B1cF9kYmQ2Mzk4YjQzZDY0NjlkYjYzMjdmYzA1MzFiNzZmMCA9IEwucG9wdXAoeyJtYXhXaWR0aCI6ICIxMDAlIn0pOwoKICAgICAgICAKICAgICAgICAgICAgdmFyIGh0bWxfY2YxYzQxNGNiZWFjNGY5OThjYzY2ODFlZDZlOWQ4YjUgPSAkKGA8ZGl2IGlkPSJodG1sX2NmMWM0MTRjYmVhYzRmOTk4Y2M2NjgxZWQ2ZTlkOGI1IiBzdHlsZT0id2lkdGg6IDEwMC4wJTsgaGVpZ2h0OiAxMDAuMCU7Ij5TdG9ja2hvbG0gVW5pdmVyc2l0eTwvZGl2PmApWzBdOwogICAgICAgICAgICBwb3B1cF9kYmQ2Mzk4YjQzZDY0NjlkYjYzMjdmYzA1MzFiNzZmMC5zZXRDb250ZW50KGh0bWxfY2YxYzQxNGNiZWFjNGY5OThjYzY2ODFlZDZlOWQ4YjUpOwogICAgICAgIAoKICAgICAgICBtYXJrZXJfYzVkNDEwNmVjZmVkNDk1M2E4MzNjZDc0YmFhZGFiYTguYmluZFBvcHVwKHBvcHVwX2RiZDYzOThiNDNkNjQ2OWRiNjMyN2ZjMDUzMWI3NmYwKQogICAgICAgIDsKCiAgICAgICAgCiAgICAKICAgIAogICAgICAgICAgICB2YXIgbWFya2VyXzc5MWVlYjdjYjMzNjRlOTk4MzkyZmQ1NzA3MmM0NGE5ID0gTC5tYXJrZXIoCiAgICAgICAgICAgICAgICBbNTcuMTY0NTg3OTk5OTk5OTk1LCAtMi4xMDE4NTM1NDQ4MzY4Ml0sCiAgICAgICAgICAgICAgICB7fQogICAgICAgICAgICApLmFkZFRvKG1hcF8yMzI2NmVjYmJlNzA0NDdhODBjYjc2MDMxM2Y5MDgwOSk7CiAgICAgICAgCiAgICAKICAgICAgICB2YXIgcG9wdXBfYWI5NDIzOTJiMzQ5NGE3MGFlOWVkYmU2MWUyNDg4NTIgPSBMLnBvcHVwKHsibWF4V2lkdGgiOiAiMTAwJSJ9KTsKCiAgICAgICAgCiAgICAgICAgICAgIHZhciBodG1sX2MyZDAwZmRkYWQ0ZTRkMTlhZDI0NTVkOWVhZDJhYTg5ID0gJChgPGRpdiBpZD0iaHRtbF9jMmQwMGZkZGFkNGU0ZDE5YWQyNDU1ZDllYWQyYWE4OSIgc3R5bGU9IndpZHRoOiAxMDAuMCU7IGhlaWdodDogMTAwLjAlOyI+VW5pdmVyc2l0eSBvZiBBYmVyZGVlbjwvZGl2PmApWzBdOwogICAgICAgICAgICBwb3B1cF9hYjk0MjM5MmIzNDk0YTcwYWU5ZWRiZTYxZTI0ODg1Mi5zZXRDb250ZW50KGh0bWxfYzJkMDBmZGRhZDRlNGQxOWFkMjQ1NWQ5ZWFkMmFhODkpOwogICAgICAgIAoKICAgICAgICBtYXJrZXJfNzkxZWViN2NiMzM2NGU5OTgzOTJmZDU3MDcyYzQ0YTkuYmluZFBvcHVwKHBvcHVwX2FiOTQyMzkyYjM0OTRhNzBhZTllZGJlNjFlMjQ4ODUyKQogICAgICAgIDsKCiAgICAgICAgCiAgICAKICAgIAogICAgICAgICAgICB2YXIgbWFya2VyX2YzNDI5NjgyN2M1ZDRkYjVhYzRlZjA0Y2ZhOTA4N2MxID0gTC5tYXJrZXIoCiAgICAgICAgICAgICAgICBbNDMuNzE5NjY4NjUsIDEwLjQwMDQyODQ1NTgyOTIwN10sCiAgICAgICAgICAgICAgICB7fQogICAgICAgICAgICApLmFkZFRvKG1hcF8yMzI2NmVjYmJlNzA0NDdhODBjYjc2MDMxM2Y5MDgwOSk7CiAgICAgICAgCiAgICAKICAgICAgICB2YXIgcG9wdXBfOGEwNTc4M2EwM2I5NGQzOGE1MzJjN2FiMWZjM2MwMmMgPSBMLnBvcHVwKHsibWF4V2lkdGgiOiAiMTAwJSJ9KTsKCiAgICAgICAgCiAgICAgICAgICAgIHZhciBodG1sXzc4ZWM3YWYzMTNjNTQ3NDM4MDcyMTJjOTlmNTkxNGVkID0gJChgPGRpdiBpZD0iaHRtbF83OGVjN2FmMzEzYzU0NzQzODA3MjEyYzk5ZjU5MTRlZCIgc3R5bGU9IndpZHRoOiAxMDAuMCU7IGhlaWdodDogMTAwLjAlOyI+U2N1b2xhIE5vcm1hbGUgU3VwZXJpb3JlIGRpIFBpc2E8L2Rpdj5gKVswXTsKICAgICAgICAgICAgcG9wdXBfOGEwNTc4M2EwM2I5NGQzOGE1MzJjN2FiMWZjM2MwMmMuc2V0Q29udGVudChodG1sXzc4ZWM3YWYzMTNjNTQ3NDM4MDcyMTJjOTlmNTkxNGVkKTsKICAgICAgICAKCiAgICAgICAgbWFya2VyX2YzNDI5NjgyN2M1ZDRkYjVhYzRlZjA0Y2ZhOTA4N2MxLmJpbmRQb3B1cChwb3B1cF84YTA1NzgzYTAzYjk0ZDM4YTUzMmM3YWIxZmMzYzAyYykKICAgICAgICA7CgogICAgICAgIAogICAgCiAgICAKICAgICAgICAgICAgdmFyIG1hcmtlcl85M2JlZGVjMTBiOGM0MGRhOWUyZjAxNDE3NDYzZjVmNCA9IEwubWFya2VyKAogICAgICAgICAgICAgICAgWzUwLjg2Nzk1NTY5OTk5OTk5NiwgLTAuMDg3Nzg1NjE2MjU0MzgxNDZdLAogICAgICAgICAgICAgICAge30KICAgICAgICAgICAgKS5hZGRUbyhtYXBfMjMyNjZlY2JiZTcwNDQ3YTgwY2I3NjAzMTNmOTA4MDkpOwogICAgICAgIAogICAgCiAgICAgICAgdmFyIHBvcHVwX2ZlZTEzYmI5ODQ1ODRjNGM5MmYxNWMxYWVlNGZhMThmID0gTC5wb3B1cCh7Im1heFdpZHRoIjogIjEwMCUifSk7CgogICAgICAgIAogICAgICAgICAgICB2YXIgaHRtbF84ODY4YTM4Njc4NzE0OTg0YmY1ZTI0NTk3Y2ZhMTQ2NiA9ICQoYDxkaXYgaWQ9Imh0bWxfODg2OGEzODY3ODcxNDk4NGJmNWUyNDU5N2NmYTE0NjYiIHN0eWxlPSJ3aWR0aDogMTAwLjAlOyBoZWlnaHQ6IDEwMC4wJTsiPlVuaXZlcnNpdHkgb2YgU3Vzc2V4PC9kaXY+YClbMF07CiAgICAgICAgICAgIHBvcHVwX2ZlZTEzYmI5ODQ1ODRjNGM5MmYxNWMxYWVlNGZhMThmLnNldENvbnRlbnQoaHRtbF84ODY4YTM4Njc4NzE0OTg0YmY1ZTI0NTk3Y2ZhMTQ2Nik7CiAgICAgICAgCgogICAgICAgIG1hcmtlcl85M2JlZGVjMTBiOGM0MGRhOWUyZjAxNDE3NDYzZjVmNC5iaW5kUG9wdXAocG9wdXBfZmVlMTNiYjk4NDU4NGM0YzkyZjE1YzFhZWU0ZmExOGYpCiAgICAgICAgOwoKICAgICAgICAKICAgIAogICAgCiAgICAgICAgICAgIHZhciBtYXJrZXJfODU5OWQ0YmM2OTNkNDI1ZTlhN2E4MDY5M2RjMTVlYzcgPSBMLm1hcmtlcigKICAgICAgICAgICAgICAgIFs1NS43ODU0MTQ0NTAwMDAwMDUsIDEyLjUyMDIxNTE0NDQ0MjA5NF0sCiAgICAgICAgICAgICAgICB7fQogICAgICAgICAgICApLmFkZFRvKG1hcF8yMzI2NmVjYmJlNzA0NDdhODBjYjc2MDMxM2Y5MDgwOSk7CiAgICAgICAgCiAgICAKICAgICAgICB2YXIgcG9wdXBfMmU3ZTA5ZDY0MGRhNGU4ZDhjYzQ4MTBiYzRhZjI3MjQgPSBMLnBvcHVwKHsibWF4V2lkdGgiOiAiMTAwJSJ9KTsKCiAgICAgICAgCiAgICAgICAgICAgIHZhciBodG1sX2RmYzZlNjcxODhmNTQzMTE5MWRlNDI4MDkzMjMzOWFjID0gJChgPGRpdiBpZD0iaHRtbF9kZmM2ZTY3MTg4ZjU0MzExOTFkZTQyODA5MzIzMzlhYyIgc3R5bGU9IndpZHRoOiAxMDAuMCU7IGhlaWdodDogMTAwLjAlOyI+VGVjaG5pY2FsIFVuaXZlcnNpdHkgb2YgRGVubWFyazwvZGl2PmApWzBdOwogICAgICAgICAgICBwb3B1cF8yZTdlMDlkNjQwZGE0ZThkOGNjNDgxMGJjNGFmMjcyNC5zZXRDb250ZW50KGh0bWxfZGZjNmU2NzE4OGY1NDMxMTkxZGU0MjgwOTMyMzM5YWMpOwogICAgICAgIAoKICAgICAgICBtYXJrZXJfODU5OWQ0YmM2OTNkNDI1ZTlhN2E4MDY5M2RjMTVlYzcuYmluZFBvcHVwKHBvcHVwXzJlN2UwOWQ2NDBkYTRlOGQ4Y2M0ODEwYmM0YWYyNzI0KQogICAgICAgIDsKCiAgICAgICAgCiAgICAKICAgIAogICAgICAgICAgICB2YXIgbWFya2VyX2FhMTA0NzBmNDQ3ZTRhNjE4NzQwMWU5NDlmNTMzMDJjID0gTC5tYXJrZXIoCiAgICAgICAgICAgICAgICBbNTYuMzQxMTk4NCwgLTIuNzkzMDkzOF0sCiAgICAgICAgICAgICAgICB7fQogICAgICAgICAgICApLmFkZFRvKG1hcF8yMzI2NmVjYmJlNzA0NDdhODBjYjc2MDMxM2Y5MDgwOSk7CiAgICAgICAgCiAgICAKICAgICAgICB2YXIgcG9wdXBfZjE3NGJlYTcwZmIzNGVjYjhkNGU2ZTAyZDc1YmMyMTQgPSBMLnBvcHVwKHsibWF4V2lkdGgiOiAiMTAwJSJ9KTsKCiAgICAgICAgCiAgICAgICAgICAgIHZhciBodG1sXzIwN2RiNTNjZTYzZjQ0ZDZhNTlhNTExY2U3YzczOWRjID0gJChgPGRpdiBpZD0iaHRtbF8yMDdkYjUzY2U2M2Y0NGQ2YTU5YTUxMWNlN2M3MzlkYyIgc3R5bGU9IndpZHRoOiAxMDAuMCU7IGhlaWdodDogMTAwLjAlOyI+VW5pdmVyc2l0eSBvZiBTdCBBbmRyZXdzPC9kaXY+YClbMF07CiAgICAgICAgICAgIHBvcHVwX2YxNzRiZWE3MGZiMzRlY2I4ZDRlNmUwMmQ3NWJjMjE0LnNldENvbnRlbnQoaHRtbF8yMDdkYjUzY2U2M2Y0NGQ2YTU5YTUxMWNlN2M3MzlkYyk7CiAgICAgICAgCgogICAgICAgIG1hcmtlcl9hYTEwNDcwZjQ0N2U0YTYxODc0MDFlOTQ5ZjUzMzAyYy5iaW5kUG9wdXAocG9wdXBfZjE3NGJlYTcwZmIzNGVjYjhkNGU2ZTAyZDc1YmMyMTQpCiAgICAgICAgOwoKICAgICAgICAKICAgIAogICAgCiAgICAgICAgICAgIHZhciBtYXJrZXJfMWIyNmZkYzA3YmYwNDU1N2IyNTdlYjI2Mzc5NzAxNjkgPSBMLm1hcmtlcigKICAgICAgICAgICAgICAgIFs1Mi4zMzQxODAwNSwgNC44NjY5MDA1NDk4NzExMjJdLAogICAgICAgICAgICAgICAge30KICAgICAgICAgICAgKS5hZGRUbyhtYXBfMjMyNjZlY2JiZTcwNDQ3YTgwY2I3NjAzMTNmOTA4MDkpOwogICAgICAgIAogICAgCiAgICAgICAgdmFyIHBvcHVwX2Q0MzBhZGM3MGZlZDQ5NzNhMDYzMjMzZTRlNGQ5OTVlID0gTC5wb3B1cCh7Im1heFdpZHRoIjogIjEwMCUifSk7CgogICAgICAgIAogICAgICAgICAgICB2YXIgaHRtbF9jZTc2MTc5ODdhNmY0MzlkOTdlYzA2Zjk2NjZkMTJhZCA9ICQoYDxkaXYgaWQ9Imh0bWxfY2U3NjE3OTg3YTZmNDM5ZDk3ZWMwNmY5NjY2ZDEyYWQiIHN0eWxlPSJ3aWR0aDogMTAwLjAlOyBoZWlnaHQ6IDEwMC4wJTsiPlZyaWplIFVuaXZlcnNpdGVpdCBBbXN0ZXJkYW08L2Rpdj5gKVswXTsKICAgICAgICAgICAgcG9wdXBfZDQzMGFkYzcwZmVkNDk3M2EwNjMyMzNlNGU0ZDk5NWUuc2V0Q29udGVudChodG1sX2NlNzYxNzk4N2E2ZjQzOWQ5N2VjMDZmOTY2NmQxMmFkKTsKICAgICAgICAKCiAgICAgICAgbWFya2VyXzFiMjZmZGMwN2JmMDQ1NTdiMjU3ZWIyNjM3OTcwMTY5LmJpbmRQb3B1cChwb3B1cF9kNDMwYWRjNzBmZWQ0OTczYTA2MzIzM2U0ZTRkOTk1ZSkKICAgICAgICA7CgogICAgICAgIAogICAgCiAgICAKICAgICAgICAgICAgdmFyIG1hcmtlcl84M2RiOGY1MWI1NTQ0YTY4YTZkMTU0YTU1NmQ0MjRhZiA9IEwubWFya2VyKAogICAgICAgICAgICAgICAgWzUxLjQ0ODY2MDIsIDUuNDkwMzk5NTY1NTA4MDQ3NV0sCiAgICAgICAgICAgICAgICB7fQogICAgICAgICAgICApLmFkZFRvKG1hcF8yMzI2NmVjYmJlNzA0NDdhODBjYjc2MDMxM2Y5MDgwOSk7CiAgICAgICAgCiAgICAKICAgICAgICB2YXIgcG9wdXBfNjZkOTQ3NzljNjQwNGZlNjllNGFlNDBiMmUxNmE0N2UgPSBMLnBvcHVwKHsibWF4V2lkdGgiOiAiMTAwJSJ9KTsKCiAgICAgICAgCiAgICAgICAgICAgIHZhciBodG1sXzhkNzM1YjYxMzExNTQwOTliODBmODQ1MzJkNWFlOTYyID0gJChgPGRpdiBpZD0iaHRtbF84ZDczNWI2MTMxMTU0MDk5YjgwZjg0NTMyZDVhZTk2MiIgc3R5bGU9IndpZHRoOiAxMDAuMCU7IGhlaWdodDogMTAwLjAlOyI+RWluZGhvdmVuIFVuaXZlcnNpdHkgb2YgVGVjaG5vbG9neTwvZGl2PmApWzBdOwogICAgICAgICAgICBwb3B1cF82NmQ5NDc3OWM2NDA0ZmU2OWU0YWU0MGIyZTE2YTQ3ZS5zZXRDb250ZW50KGh0bWxfOGQ3MzViNjEzMTE1NDA5OWI4MGY4NDUzMmQ1YWU5NjIpOwogICAgICAgIAoKICAgICAgICBtYXJrZXJfODNkYjhmNTFiNTU0NGE2OGE2ZDE1NGE1NTZkNDI0YWYuYmluZFBvcHVwKHBvcHVwXzY2ZDk0Nzc5YzY0MDRmZTY5ZTRhZTQwYjJlMTZhNDdlKQogICAgICAgIDsKCiAgICAgICAgCiAgICAKICAgIAogICAgICAgICAgICB2YXIgbWFya2VyX2ZiOTVmNzQyMjY0OTRlOTk4NTMxOTQzODZkZGZiYWNiID0gTC5tYXJrZXIoCiAgICAgICAgICAgICAgICBbNTIuNjI0NDYzNTUsIC0xLjEyNTczMDE0MzMzMzc5OF0sCiAgICAgICAgICAgICAgICB7fQogICAgICAgICAgICApLmFkZFRvKG1hcF8yMzI2NmVjYmJlNzA0NDdhODBjYjc2MDMxM2Y5MDgwOSk7CiAgICAgICAgCiAgICAKICAgICAgICB2YXIgcG9wdXBfYTZmOGJkOWIwMzdiNDVkYzgxNDVhNGE1NjRmYzAzZDEgPSBMLnBvcHVwKHsibWF4V2lkdGgiOiAiMTAwJSJ9KTsKCiAgICAgICAgCiAgICAgICAgICAgIHZhciBodG1sXzM3OWEyZjc3NGNlODQ0ZmVhNGRhNjgyMDQ5MmEwODRhID0gJChgPGRpdiBpZD0iaHRtbF8zNzlhMmY3NzRjZTg0NGZlYTRkYTY4MjA0OTJhMDg0YSIgc3R5bGU9IndpZHRoOiAxMDAuMCU7IGhlaWdodDogMTAwLjAlOyI+VW5pdmVyc2l0eSBvZiBMZWljZXN0ZXI8L2Rpdj5gKVswXTsKICAgICAgICAgICAgcG9wdXBfYTZmOGJkOWIwMzdiNDVkYzgxNDVhNGE1NjRmYzAzZDEuc2V0Q29udGVudChodG1sXzM3OWEyZjc3NGNlODQ0ZmVhNGRhNjgyMDQ5MmEwODRhKTsKICAgICAgICAKCiAgICAgICAgbWFya2VyX2ZiOTVmNzQyMjY0OTRlOTk4NTMxOTQzODZkZGZiYWNiLmJpbmRQb3B1cChwb3B1cF9hNmY4YmQ5YjAzN2I0NWRjODE0NWE0YTU2NGZjMDNkMSkKICAgICAgICA7CgogICAgICAgIAogICAgCiAgICAKICAgICAgICAgICAgdmFyIG1hcmtlcl8zYzJmYjcwYmNmZmQ0Yjg5ODBhZDkxNzBjNDBlMzIwZSA9IEwubWFya2VyKAogICAgICAgICAgICAgICAgWzU0Ljk4MDIxOTk1MDAwMDAwNiwgLTEuNjE0Njc2OTc0ODA1NjkwMl0sCiAgICAgICAgICAgICAgICB7fQogICAgICAgICAgICApLmFkZFRvKG1hcF8yMzI2NmVjYmJlNzA0NDdhODBjYjc2MDMxM2Y5MDgwOSk7CiAgICAgICAgCiAgICAKICAgICAgICB2YXIgcG9wdXBfZmE3OGYzZDM4YzNmNGFlZjg2M2RlZDA5NmViZWU2ZWYgPSBMLnBvcHVwKHsibWF4V2lkdGgiOiAiMTAwJSJ9KTsKCiAgICAgICAgCiAgICAgICAgICAgIHZhciBodG1sXzQ0ZGNkZTZkNDc5ZDRiOTg4OTlhZjI3OTc0MjhkMmE0ID0gJChgPGRpdiBpZD0iaHRtbF80NGRjZGU2ZDQ3OWQ0Yjk4ODk5YWYyNzk3NDI4ZDJhNCIgc3R5bGU9IndpZHRoOiAxMDAuMCU7IGhlaWdodDogMTAwLjAlOyI+TmV3Y2FzdGxlIFVuaXZlcnNpdHk8L2Rpdj5gKVswXTsKICAgICAgICAgICAgcG9wdXBfZmE3OGYzZDM4YzNmNGFlZjg2M2RlZDA5NmViZWU2ZWYuc2V0Q29udGVudChodG1sXzQ0ZGNkZTZkNDc5ZDRiOTg4OTlhZjI3OTc0MjhkMmE0KTsKICAgICAgICAKCiAgICAgICAgbWFya2VyXzNjMmZiNzBiY2ZmZDRiODk4MGFkOTE3MGM0MGUzMjBlLmJpbmRQb3B1cChwb3B1cF9mYTc4ZjNkMzhjM2Y0YWVmODYzZGVkMDk2ZWJlZTZlZikKICAgICAgICA7CgogICAgICAgIAogICAgCiAgICAKICAgICAgICAgICAgdmFyIG1hcmtlcl9mOWE1NzA3M2JiYzI0YTNiODM4NDJiMWNlNzM1NGMwYyA9IEwubWFya2VyKAogICAgICAgICAgICAgICAgWzQ2LjUyMjU2OTUsIDYuNTgwOTUwNDk3NjU0Mjk0XSwKICAgICAgICAgICAgICAgIHt9CiAgICAgICAgICAgICkuYWRkVG8obWFwXzIzMjY2ZWNiYmU3MDQ0N2E4MGNiNzYwMzEzZjkwODA5KTsKICAgICAgICAKICAgIAogICAgICAgIHZhciBwb3B1cF85MGExNzQ0MDgwMWE0MWZlODlhNDNlNzQwMTEyYWYwMyA9IEwucG9wdXAoeyJtYXhXaWR0aCI6ICIxMDAlIn0pOwoKICAgICAgICAKICAgICAgICAgICAgdmFyIGh0bWxfZjMxZTQ3ZDY3ODU1NGY3ZmE5NTcxNzVmZjVkMTJkNjIgPSAkKGA8ZGl2IGlkPSJodG1sX2YzMWU0N2Q2Nzg1NTRmN2ZhOTU3MTc1ZmY1ZDEyZDYyIiBzdHlsZT0id2lkdGg6IDEwMC4wJTsgaGVpZ2h0OiAxMDAuMCU7Ij5Vbml2ZXJzaXR5IG9mIExhdXNhbm5lPC9kaXY+YClbMF07CiAgICAgICAgICAgIHBvcHVwXzkwYTE3NDQwODAxYTQxZmU4OWE0M2U3NDAxMTJhZjAzLnNldENvbnRlbnQoaHRtbF9mMzFlNDdkNjc4NTU0ZjdmYTk1NzE3NWZmNWQxMmQ2Mik7CiAgICAgICAgCgogICAgICAgIG1hcmtlcl9mOWE1NzA3M2JiYzI0YTNiODM4NDJiMWNlNzM1NGMwYy5iaW5kUG9wdXAocG9wdXBfOTBhMTc0NDA4MDFhNDFmZTg5YTQzZTc0MDExMmFmMDMpCiAgICAgICAgOwoKICAgICAgICAKICAgIAogICAgCiAgICAgICAgICAgIHZhciBtYXJrZXJfMGUxMWE3NzRkNzFjNDNkNmI1Mjk2YmEwMmM3ZmMyMDAgPSBMLm1hcmtlcigKICAgICAgICAgICAgICAgIFs0NC40OTQ3NzAyLCAxMS4zNTU4OTY3XSwKICAgICAgICAgICAgICAgIHt9CiAgICAgICAgICAgICkuYWRkVG8obWFwXzIzMjY2ZWNiYmU3MDQ0N2E4MGNiNzYwMzEzZjkwODA5KTsKICAgICAgICAKICAgIAogICAgICAgIHZhciBwb3B1cF82NGIxYmUyYjRmOTE0OTRhYTJlN2RjZTQ3ZTM5ZDAwNiA9IEwucG9wdXAoeyJtYXhXaWR0aCI6ICIxMDAlIn0pOwoKICAgICAgICAKICAgICAgICAgICAgdmFyIGh0bWxfMGZlNzhlNWQ5NmY3NDdhYTg2MDUwZjU4YmI0NTBkYjIgPSAkKGA8ZGl2IGlkPSJodG1sXzBmZTc4ZTVkOTZmNzQ3YWE4NjA1MGY1OGJiNDUwZGIyIiBzdHlsZT0id2lkdGg6IDEwMC4wJTsgaGVpZ2h0OiAxMDAuMCU7Ij5Vbml2ZXJzaXR5IG9mIEJvbG9nbmE8L2Rpdj5gKVswXTsKICAgICAgICAgICAgcG9wdXBfNjRiMWJlMmI0ZjkxNDk0YWEyZTdkY2U0N2UzOWQwMDYuc2V0Q29udGVudChodG1sXzBmZTc4ZTVkOTZmNzQ3YWE4NjA1MGY1OGJiNDUwZGIyKTsKICAgICAgICAKCiAgICAgICAgbWFya2VyXzBlMTFhNzc0ZDcxYzQzZDZiNTI5NmJhMDJjN2ZjMjAwLmJpbmRQb3B1cChwb3B1cF82NGIxYmUyYjRmOTE0OTRhYTJlN2RjZTQ3ZTM5ZDAwNikKICAgICAgICA7CgogICAgICAgIAogICAgCiAgICAKICAgICAgICAgICAgdmFyIG1hcmtlcl82NDA3NTE3NjVkOGY0YjgzOGY3YzIyOTJiOTNhZjIyZSA9IEwubWFya2VyKAogICAgICAgICAgICAgICAgWzYwLjE4NTQ3NzM5OTk5OTk5NiwgMjQuODI4MDgxOTI0NzYyNDE1XSwKICAgICAgICAgICAgICAgIHt9CiAgICAgICAgICAgICkuYWRkVG8obWFwXzIzMjY2ZWNiYmU3MDQ0N2E4MGNiNzYwMzEzZjkwODA5KTsKICAgICAgICAKICAgIAogICAgICAgIHZhciBwb3B1cF81YzdjZDUzNDRlYzY0N2EwYWE2ZWMxYjMzMjEwM2M5NSA9IEwucG9wdXAoeyJtYXhXaWR0aCI6ICIxMDAlIn0pOwoKICAgICAgICAKICAgICAgICAgICAgdmFyIGh0bWxfMzM3NDc2NjdmNWQ3NDMxY2I0ZDFhZTEzY2E3MzI1NmQgPSAkKGA8ZGl2IGlkPSJodG1sXzMzNzQ3NjY3ZjVkNzQzMWNiNGQxYWUxM2NhNzMyNTZkIiBzdHlsZT0id2lkdGg6IDEwMC4wJTsgaGVpZ2h0OiAxMDAuMCU7Ij5BYWx0byBVbml2ZXJzaXR5PC9kaXY+YClbMF07CiAgICAgICAgICAgIHBvcHVwXzVjN2NkNTM0NGVjNjQ3YTBhYTZlYzFiMzMyMTAzYzk1LnNldENvbnRlbnQoaHRtbF8zMzc0NzY2N2Y1ZDc0MzFjYjRkMWFlMTNjYTczMjU2ZCk7CiAgICAgICAgCgogICAgICAgIG1hcmtlcl82NDA3NTE3NjVkOGY0YjgzOGY3YzIyOTJiOTNhZjIyZS5iaW5kUG9wdXAocG9wdXBfNWM3Y2Q1MzQ0ZWM2NDdhMGFhNmVjMWIzMzIxMDNjOTUpCiAgICAgICAgOwoKICAgICAgICAKICAgIAogICAgCiAgICAgICAgICAgIHZhciBtYXJrZXJfNmQyZDQ1ZGY0MDdkNDMwZTllNTM5ZGMzZWNlY2I5OTIgPSBMLm1hcmtlcigKICAgICAgICAgICAgICAgIFs1My40MDQ1ODU2NSwgLTIuOTY0NTYwNzc5NzEwNDA2XSwKICAgICAgICAgICAgICAgIHt9CiAgICAgICAgICAgICkuYWRkVG8obWFwXzIzMjY2ZWNiYmU3MDQ0N2E4MGNiNzYwMzEzZjkwODA5KTsKICAgICAgICAKICAgIAogICAgICAgIHZhciBwb3B1cF83ZmI1NjQxNjI0ZWI0M2RmYjc1ZjdjMjBkODY2ZDBlZSA9IEwucG9wdXAoeyJtYXhXaWR0aCI6ICIxMDAlIn0pOwoKICAgICAgICAKICAgICAgICAgICAgdmFyIGh0bWxfODVkNzNjYTJjMWMxNDNjNmIzNjQ2NDg3ZWIxOTc0OTUgPSAkKGA8ZGl2IGlkPSJodG1sXzg1ZDczY2EyYzFjMTQzYzZiMzY0NjQ4N2ViMTk3NDk1IiBzdHlsZT0id2lkdGg6IDEwMC4wJTsgaGVpZ2h0OiAxMDAuMCU7Ij5Vbml2ZXJzaXR5IG9mIExpdmVycG9vbDwvZGl2PmApWzBdOwogICAgICAgICAgICBwb3B1cF83ZmI1NjQxNjI0ZWI0M2RmYjc1ZjdjMjBkODY2ZDBlZS5zZXRDb250ZW50KGh0bWxfODVkNzNjYTJjMWMxNDNjNmIzNjQ2NDg3ZWIxOTc0OTUpOwogICAgICAgIAoKICAgICAgICBtYXJrZXJfNmQyZDQ1ZGY0MDdkNDMwZTllNTM5ZGMzZWNlY2I5OTIuYmluZFBvcHVwKHBvcHVwXzdmYjU2NDE2MjRlYjQzZGZiNzVmN2MyMGQ4NjZkMGVlKQogICAgICAgIDsKCiAgICAgICAgCiAgICAKICAgIAogICAgICAgICAgICB2YXIgbWFya2VyXzA3MTc2MzMxNWFkNTQxZjNiNTU4N2VhZTY2ZGYzMDIyID0gTC5tYXJrZXIoCiAgICAgICAgICAgICAgICBbNTEuOTY3MzQyMTUsIDcuNTk5MjQzMzI2MjcyMTU5XSwKICAgICAgICAgICAgICAgIHt9CiAgICAgICAgICAgICkuYWRkVG8obWFwXzIzMjY2ZWNiYmU3MDQ0N2E4MGNiNzYwMzEzZjkwODA5KTsKICAgICAgICAKICAgIAogICAgICAgIHZhciBwb3B1cF9iOGI1OTg1ZTM1OTc0NThkYjUwNWFkZDJlMTIyZjJmOSA9IEwucG9wdXAoeyJtYXhXaWR0aCI6ICIxMDAlIn0pOwoKICAgICAgICAKICAgICAgICAgICAgdmFyIGh0bWxfNDY3MzgwMThiOGE2NGRkZjk5YjVhYTFkZDNkZjA4Y2MgPSAkKGA8ZGl2IGlkPSJodG1sXzQ2NzM4MDE4YjhhNjRkZGY5OWI1YWExZGQzZGYwOGNjIiBzdHlsZT0id2lkdGg6IDEwMC4wJTsgaGVpZ2h0OiAxMDAuMCU7Ij5Vbml2ZXJzaXR5IG9mIE3DvG5zdGVyPC9kaXY+YClbMF07CiAgICAgICAgICAgIHBvcHVwX2I4YjU5ODVlMzU5NzQ1OGRiNTA1YWRkMmUxMjJmMmY5LnNldENvbnRlbnQoaHRtbF80NjczODAxOGI4YTY0ZGRmOTliNWFhMWRkM2RmMDhjYyk7CiAgICAgICAgCgogICAgICAgIG1hcmtlcl8wNzE3NjMzMTVhZDU0MWYzYjU1ODdlYWU2NmRmMzAyMi5iaW5kUG9wdXAocG9wdXBfYjhiNTk4NWUzNTk3NDU4ZGI1MDVhZGQyZTEyMmYyZjkpCiAgICAgICAgOwoKICAgICAgICAKICAgIAogICAgCiAgICAgICAgICAgIHZhciBtYXJrZXJfM2E5N2JkZGE4ZmE5NDg2NDkwMjljYWQ3OWIxMTNiY2QgPSBMLm1hcmtlcigKICAgICAgICAgICAgICAgIFs1Mi4yMjMzODYyLCA2Ljg4NTQyMzE1OTk3MTE2XSwKICAgICAgICAgICAgICAgIHt9CiAgICAgICAgICAgICkuYWRkVG8obWFwXzIzMjY2ZWNiYmU3MDQ0N2E4MGNiNzYwMzEzZjkwODA5KTsKICAgICAgICAKICAgIAogICAgICAgIHZhciBwb3B1cF8wZTA1OTQzMzdjMzU0ZDk5YTBlZDQ3ZmZhMDE4NTY2ZSA9IEwucG9wdXAoeyJtYXhXaWR0aCI6ICIxMDAlIn0pOwoKICAgICAgICAKICAgICAgICAgICAgdmFyIGh0bWxfNjhiY2Y4NzcxYzIxNDNkOGExNDVhNmEyMzVlOWQ5MjIgPSAkKGA8ZGl2IGlkPSJodG1sXzY4YmNmODc3MWMyMTQzZDhhMTQ1YTZhMjM1ZTlkOTIyIiBzdHlsZT0id2lkdGg6IDEwMC4wJTsgaGVpZ2h0OiAxMDAuMCU7Ij5Vbml2ZXJzaXR5IG9mIFR3ZW50ZTwvZGl2PmApWzBdOwogICAgICAgICAgICBwb3B1cF8wZTA1OTQzMzdjMzU0ZDk5YTBlZDQ3ZmZhMDE4NTY2ZS5zZXRDb250ZW50KGh0bWxfNjhiY2Y4NzcxYzIxNDNkOGExNDVhNmEyMzVlOWQ5MjIpOwogICAgICAgIAoKICAgICAgICBtYXJrZXJfM2E5N2JkZGE4ZmE5NDg2NDkwMjljYWQ3OWIxMTNiY2QuYmluZFBvcHVwKHBvcHVwXzBlMDU5NDMzN2MzNTRkOTlhMGVkNDdmZmEwMTg1NjZlKQogICAgICAgIDsKCiAgICAgICAgCiAgICAKICAgIAogICAgICAgICAgICB2YXIgbWFya2VyXzdjZmVjMTkxMWYwZDQ2NTc5MzYxNzIzYjFjMzgzMzY4ID0gTC5tYXJrZXIoCiAgICAgICAgICAgICAgICBbNTEuNDg3NjY0MSwgLTMuMTc5MTYyMDk1NjE1MTMzXSwKICAgICAgICAgICAgICAgIHt9CiAgICAgICAgICAgICkuYWRkVG8obWFwXzIzMjY2ZWNiYmU3MDQ0N2E4MGNiNzYwMzEzZjkwODA5KTsKICAgICAgICAKICAgIAogICAgICAgIHZhciBwb3B1cF84YjAzODUzMjIyZDU0NmZlODcxMjQyMmM3ZTBkOTRmZSA9IEwucG9wdXAoeyJtYXhXaWR0aCI6ICIxMDAlIn0pOwoKICAgICAgICAKICAgICAgICAgICAgdmFyIGh0bWxfY2Y3ZWM4ODJmZTNlNGMzODljNTg4MzhhODViOWNlMTQgPSAkKGA8ZGl2IGlkPSJodG1sX2NmN2VjODgyZmUzZTRjMzg5YzU4ODM4YTg1YjljZTE0IiBzdHlsZT0id2lkdGg6IDEwMC4wJTsgaGVpZ2h0OiAxMDAuMCU7Ij5DYXJkaWZmIFVuaXZlcnNpdHk8L2Rpdj5gKVswXTsKICAgICAgICAgICAgcG9wdXBfOGIwMzg1MzIyMmQ1NDZmZTg3MTI0MjJjN2UwZDk0ZmUuc2V0Q29udGVudChodG1sX2NmN2VjODgyZmUzZTRjMzg5YzU4ODM4YTg1YjljZTE0KTsKICAgICAgICAKCiAgICAgICAgbWFya2VyXzdjZmVjMTkxMWYwZDQ2NTc5MzYxNzIzYjFjMzgzMzY4LmJpbmRQb3B1cChwb3B1cF84YjAzODUzMjIyZDU0NmZlODcxMjQyMmM3ZTBkOTRmZSkKICAgICAgICA7CgogICAgICAgIAogICAgCiAgICAKICAgICAgICAgICAgdmFyIG1hcmtlcl9jOWI0OWRkZjY3Y2Q0ZWI5YTBmOTMxNGJlYzI2NTNjOSA9IEwubWFya2VyKAogICAgICAgICAgICAgICAgWzU5LjIwMTY3NTgsIDE3LjYyMDMyMDFdLAogICAgICAgICAgICAgICAge30KICAgICAgICAgICAgKS5hZGRUbyhtYXBfMjMyNjZlY2JiZTcwNDQ3YTgwY2I3NjAzMTNmOTA4MDkpOwogICAgICAgIAogICAgCiAgICAgICAgdmFyIHBvcHVwX2UwODMxNDBiMzU1NjRjODA5YTQzN2IyYmRmYjZiOTgyID0gTC5wb3B1cCh7Im1heFdpZHRoIjogIjEwMCUifSk7CgogICAgICAgIAogICAgICAgICAgICB2YXIgaHRtbF81YWMxMTI5NDUzZmY0NDBkOGNjMmEwOTQzNDc2NTkyOCA9ICQoYDxkaXYgaWQ9Imh0bWxfNWFjMTEyOTQ1M2ZmNDQwZDhjYzJhMDk0MzQ3NjU5MjgiIHN0eWxlPSJ3aWR0aDogMTAwLjAlOyBoZWlnaHQ6IDEwMC4wJTsiPktUSCBSb3lhbCBJbnN0aXR1dGUgb2YgVGVjaG5vbG9neTwvZGl2PmApWzBdOwogICAgICAgICAgICBwb3B1cF9lMDgzMTQwYjM1NTY0YzgwOWE0MzdiMmJkZmI2Yjk4Mi5zZXRDb250ZW50KGh0bWxfNWFjMTEyOTQ1M2ZmNDQwZDhjYzJhMDk0MzQ3NjU5MjgpOwogICAgICAgIAoKICAgICAgICBtYXJrZXJfYzliNDlkZGY2N2NkNGViOWEwZjkzMTRiZWMyNjUzYzkuYmluZFBvcHVwKHBvcHVwX2UwODMxNDBiMzU1NjRjODA5YTQzN2IyYmRmYjZiOTgyKQogICAgICAgIDsKCiAgICAgICAgCiAgICAKICAgIAogICAgICAgICAgICB2YXIgbWFya2VyX2JkZDM5YWViNjhkNDQ0MzY5NDA5MTVhMGQxYjZiYjFmID0gTC5tYXJrZXIoCiAgICAgICAgICAgICAgICBbNDcuNjkwMDg4NTk5OTk5OTk2LCA5LjE4ODI0Mzg3NjUwMDI1Ml0sCiAgICAgICAgICAgICAgICB7fQogICAgICAgICAgICApLmFkZFRvKG1hcF8yMzI2NmVjYmJlNzA0NDdhODBjYjc2MDMxM2Y5MDgwOSk7CiAgICAgICAgCiAgICAKICAgICAgICB2YXIgcG9wdXBfM2Y2ZGNiN2FjMDUzNGI4YmJkMjhhNTQ1MTk2YzQ3ZmQgPSBMLnBvcHVwKHsibWF4V2lkdGgiOiAiMTAwJSJ9KTsKCiAgICAgICAgCiAgICAgICAgICAgIHZhciBodG1sX2M5NWNkNmY0MjQ0ZjRmYTc5YThhNTY5NWE2NzlmZjIxID0gJChgPGRpdiBpZD0iaHRtbF9jOTVjZDZmNDI0NGY0ZmE3OWE4YTU2OTVhNjc5ZmYyMSIgc3R5bGU9IndpZHRoOiAxMDAuMCU7IGhlaWdodDogMTAwLjAlOyI+VW5pdmVyc2l0eSBvZiBLb25zdGFuejwvZGl2PmApWzBdOwogICAgICAgICAgICBwb3B1cF8zZjZkY2I3YWMwNTM0YjhiYmQyOGE1NDUxOTZjNDdmZC5zZXRDb250ZW50KGh0bWxfYzk1Y2Q2ZjQyNDRmNGZhNzlhOGE1Njk1YTY3OWZmMjEpOwogICAgICAgIAoKICAgICAgICBtYXJrZXJfYmRkMzlhZWI2OGQ0NDQzNjk0MDkxNWEwZDFiNmJiMWYuYmluZFBvcHVwKHBvcHVwXzNmNmRjYjdhYzA1MzRiOGJiZDI4YTU0NTE5NmM0N2ZkKQogICAgICAgIDsKCiAgICAgICAgCiAgICAKICAgIAogICAgICAgICAgICB2YXIgbWFya2VyX2IxZDkzNjYwOGYyODQ2NmVhY2I1ODA5ZGE2YWJhOGUwID0gTC5tYXJrZXIoCiAgICAgICAgICAgICAgICBbNTEuNDI5NjI3MTAwMDAwMDA1LCA2Ljc4NDcwNjk0MDEyOTU2Ml0sCiAgICAgICAgICAgICAgICB7fQogICAgICAgICAgICApLmFkZFRvKG1hcF8yMzI2NmVjYmJlNzA0NDdhODBjYjc2MDMxM2Y5MDgwOSk7CiAgICAgICAgCiAgICAKICAgICAgICB2YXIgcG9wdXBfODkzMzVjNTk5N2JkNDIxZjg5OWZmZjlmZjU3MDVlNGEgPSBMLnBvcHVwKHsibWF4V2lkdGgiOiAiMTAwJSJ9KTsKCiAgICAgICAgCiAgICAgICAgICAgIHZhciBodG1sXzQxMzZiMGViMDI0NTQ3ZGQ5NGVkY2UzNmNkNTU2OGUzID0gJChgPGRpdiBpZD0iaHRtbF80MTM2YjBlYjAyNDU0N2RkOTRlZGNlMzZjZDU1NjhlMyIgc3R5bGU9IndpZHRoOiAxMDAuMCU7IGhlaWdodDogMTAwLjAlOyI+VW5pdmVyc2l0eSBvZiBEdWlzYnVyZy1Fc3NlbjwvZGl2PmApWzBdOwogICAgICAgICAgICBwb3B1cF84OTMzNWM1OTk3YmQ0MjFmODk5ZmZmOWZmNTcwNWU0YS5zZXRDb250ZW50KGh0bWxfNDEzNmIwZWIwMjQ1NDdkZDk0ZWRjZTM2Y2Q1NTY4ZTMpOwogICAgICAgIAoKICAgICAgICBtYXJrZXJfYjFkOTM2NjA4ZjI4NDY2ZWFjYjU4MDlkYTZhYmE4ZTAuYmluZFBvcHVwKHBvcHVwXzg5MzM1YzU5OTdiZDQyMWY4OTlmZmY5ZmY1NzA1ZTRhKQogICAgICAgIDsKCiAgICAgICAgCiAgICAKICAgIAogICAgICAgICAgICB2YXIgbWFya2VyXzhhZTFhZWI3ZDM3NTRjMzQ5MWU3ZWExOWJmZTM2N2RjID0gTC5tYXJrZXIoCiAgICAgICAgICAgICAgICBbNTIuNjIxMDYyMjUsIDEuMjM1NjE4NzI0MjUyNTgzM10sCiAgICAgICAgICAgICAgICB7fQogICAgICAgICAgICApLmFkZFRvKG1hcF8yMzI2NmVjYmJlNzA0NDdhODBjYjc2MDMxM2Y5MDgwOSk7CiAgICAgICAgCiAgICAKICAgICAgICB2YXIgcG9wdXBfMWU3YzU5NjA4ZTMwNDdkMGFmOGNlYWU3ZGI2NTcyNWYgPSBMLnBvcHVwKHsibWF4V2lkdGgiOiAiMTAwJSJ9KTsKCiAgICAgICAgCiAgICAgICAgICAgIHZhciBodG1sXzhhYWIxZWUyZGI5YjQ4Zjc4ODk0NDliMTVlZTc5YTY3ID0gJChgPGRpdiBpZD0iaHRtbF84YWFiMWVlMmRiOWI0OGY3ODg5NDQ5YjE1ZWU3OWE2NyIgc3R5bGU9IndpZHRoOiAxMDAuMCU7IGhlaWdodDogMTAwLjAlOyI+VW5pdmVyc2l0eSBvZiBFYXN0IEFuZ2xpYTwvZGl2PmApWzBdOwogICAgICAgICAgICBwb3B1cF8xZTdjNTk2MDhlMzA0N2QwYWY4Y2VhZTdkYjY1NzI1Zi5zZXRDb250ZW50KGh0bWxfOGFhYjFlZTJkYjliNDhmNzg4OTQ0OWIxNWVlNzlhNjcpOwogICAgICAgIAoKICAgICAgICBtYXJrZXJfOGFlMWFlYjdkMzc1NGMzNDkxZTdlYTE5YmZlMzY3ZGMuYmluZFBvcHVwKHBvcHVwXzFlN2M1OTYwOGUzMDQ3ZDBhZjhjZWFlN2RiNjU3MjVmKQogICAgICAgIDsKCiAgICAgICAgCiAgICAKICAgIAogICAgICAgICAgICB2YXIgbWFya2VyXzE1MTQ2ZjRjYjFhMDQ0YjM4YmRlZDYwNzU3OTJmM2U0ID0gTC5tYXJrZXIoCiAgICAgICAgICAgICAgICBbNTcuMDE1OTAyNzUsIDkuOTc1MzI4MjY2NTg5OTA3XSwKICAgICAgICAgICAgICAgIHt9CiAgICAgICAgICAgICkuYWRkVG8obWFwXzIzMjY2ZWNiYmU3MDQ0N2E4MGNiNzYwMzEzZjkwODA5KTsKICAgICAgICAKICAgIAogICAgICAgIHZhciBwb3B1cF8yNjJmZTM0ZDAyOWU0MmQzYmMxMThiMjBlYmI2NzcwZSA9IEwucG9wdXAoeyJtYXhXaWR0aCI6ICIxMDAlIn0pOwoKICAgICAgICAKICAgICAgICAgICAgdmFyIGh0bWxfZTgwODc2MWQ1MzU5NDhiYzg0YjA2MDQ5ODE2OGRmNjggPSAkKGA8ZGl2IGlkPSJodG1sX2U4MDg3NjFkNTM1OTQ4YmM4NGIwNjA0OTgxNjhkZjY4IiBzdHlsZT0id2lkdGg6IDEwMC4wJTsgaGVpZ2h0OiAxMDAuMCU7Ij5BYWxib3JnIFVuaXZlcnNpdHk8L2Rpdj5gKVswXTsKICAgICAgICAgICAgcG9wdXBfMjYyZmUzNGQwMjllNDJkM2JjMTE4YjIwZWJiNjc3MGUuc2V0Q29udGVudChodG1sX2U4MDg3NjFkNTM1OTQ4YmM4NGIwNjA0OTgxNjhkZjY4KTsKICAgICAgICAKCiAgICAgICAgbWFya2VyXzE1MTQ2ZjRjYjFhMDQ0YjM4YmRlZDYwNzU3OTJmM2U0LmJpbmRQb3B1cChwb3B1cF8yNjJmZTM0ZDAyOWU0MmQzYmMxMThiMjBlYmI2NzcwZSkKICAgICAgICA7CgogICAgICAgIAogICAgCiAgICAKICAgICAgICAgICAgdmFyIG1hcmtlcl9hZjEwODlkZmQ0NjI0Y2UyYWQ5ODE0YTA4MzM2OTg5OSA9IEwubWFya2VyKAogICAgICAgICAgICAgICAgWzQwLjcyNzYyNDUwMDAwMDAwNSwgLTc0LjA3MjE2Nzg1MzcwMjk0XSwKICAgICAgICAgICAgICAgIHt9CiAgICAgICAgICAgICkuYWRkVG8obWFwXzIzMjY2ZWNiYmU3MDQ0N2E4MGNiNzYwMzEzZjkwODA5KTsKICAgICAgICAKICAgIAogICAgICAgIHZhciBwb3B1cF9iZDk4ODIwY2ExNGE0ZGUxODE2MjU3MmZjYTNiZmVmZiA9IEwucG9wdXAoeyJtYXhXaWR0aCI6ICIxMDAlIn0pOwoKICAgICAgICAKICAgICAgICAgICAgdmFyIGh0bWxfZjdiNDdiMzAyMTNjNDBhNThlOGM3MjVlNzk3MTljZGEgPSAkKGA8ZGl2IGlkPSJodG1sX2Y3YjQ3YjMwMjEzYzQwYTU4ZThjNzI1ZTc5NzE5Y2RhIiBzdHlsZT0id2lkdGg6IDEwMC4wJTsgaGVpZ2h0OiAxMDAuMCU7Ij5Vbml2ZXJzaXR5IG9mIEJlcmdlbjwvZGl2PmApWzBdOwogICAgICAgICAgICBwb3B1cF9iZDk4ODIwY2ExNGE0ZGUxODE2MjU3MmZjYTNiZmVmZi5zZXRDb250ZW50KGh0bWxfZjdiNDdiMzAyMTNjNDBhNThlOGM3MjVlNzk3MTljZGEpOwogICAgICAgIAoKICAgICAgICBtYXJrZXJfYWYxMDg5ZGZkNDYyNGNlMmFkOTgxNGEwODMzNjk4OTkuYmluZFBvcHVwKHBvcHVwX2JkOTg4MjBjYTE0YTRkZTE4MTYyNTcyZmNhM2JmZWZmKQogICAgICAgIDsKCiAgICAgICAgCiAgICAKICAgIAogICAgICAgICAgICB2YXIgbWFya2VyXzdjMDUyZTQ5ZmQwYTRiZjViN2Y4NmQ2ODA0ZDA0MDNiID0gTC5tYXJrZXIoCiAgICAgICAgICAgICAgICBbNTUuNzAyMjk3MTUsIDM3LjUzMTc5Nzc2OTQyOTEwNV0sCiAgICAgICAgICAgICAgICB7fQogICAgICAgICAgICApLmFkZFRvKG1hcF8yMzI2NmVjYmJlNzA0NDdhODBjYjc2MDMxM2Y5MDgwOSk7CiAgICAgICAgCiAgICAKICAgICAgICB2YXIgcG9wdXBfMWU5ZGVhNjA0ZDgzNDMwYmE4YzM1N2E2ZWRiZGZiMzMgPSBMLnBvcHVwKHsibWF4V2lkdGgiOiAiMTAwJSJ9KTsKCiAgICAgICAgCiAgICAgICAgICAgIHZhciBodG1sX2U1Njc0OTgyODA5YzQ3NTI5OGIxNzEwZTQ1MThmNDU4ID0gJChgPGRpdiBpZD0iaHRtbF9lNTY3NDk4MjgwOWM0NzUyOThiMTcxMGU0NTE4ZjQ1OCIgc3R5bGU9IndpZHRoOiAxMDAuMCU7IGhlaWdodDogMTAwLjAlOyI+TG9tb25vc292IE1vc2NvdyBTdGF0ZSBVbml2ZXJzaXR5PC9kaXY+YClbMF07CiAgICAgICAgICAgIHBvcHVwXzFlOWRlYTYwNGQ4MzQzMGJhOGMzNTdhNmVkYmRmYjMzLnNldENvbnRlbnQoaHRtbF9lNTY3NDk4MjgwOWM0NzUyOThiMTcxMGU0NTE4ZjQ1OCk7CiAgICAgICAgCgogICAgICAgIG1hcmtlcl83YzA1MmU0OWZkMGE0YmY1YjdmODZkNjgwNGQwNDAzYi5iaW5kUG9wdXAocG9wdXBfMWU5ZGVhNjA0ZDgzNDMwYmE4YzM1N2E2ZWRiZGZiMzMpCiAgICAgICAgOwoKICAgICAgICAKICAgIAogICAgCiAgICAgICAgICAgIHZhciBtYXJrZXJfYjdlM2M1ZjBhZWNmNGJkYmE0ZmFiOTUyMzgyODFkYmEgPSBMLm1hcmtlcigKICAgICAgICAgICAgICAgIFs1MS4xODQzODU2LCA0LjQxOTkzODY4Nzg2Mzc1MV0sCiAgICAgICAgICAgICAgICB7fQogICAgICAgICAgICApLmFkZFRvKG1hcF8yMzI2NmVjYmJlNzA0NDdhODBjYjc2MDMxM2Y5MDgwOSk7CiAgICAgICAgCiAgICAKICAgICAgICB2YXIgcG9wdXBfNzg4OWY4NWZjOWNkNDgzYjk2YzZmYmEyNTU0NzAyZDAgPSBMLnBvcHVwKHsibWF4V2lkdGgiOiAiMTAwJSJ9KTsKCiAgICAgICAgCiAgICAgICAgICAgIHZhciBodG1sX2NhNjBkZTdjNDM4ZTRjNmJhNjk5Yjk5OWUyNWY1MmQ5ID0gJChgPGRpdiBpZD0iaHRtbF9jYTYwZGU3YzQzOGU0YzZiYTY5OWI5OTllMjVmNTJkOSIgc3R5bGU9IndpZHRoOiAxMDAuMCU7IGhlaWdodDogMTAwLjAlOyI+VW5pdmVyc2l0eSBvZiBBbnR3ZXJwPC9kaXY+YClbMF07CiAgICAgICAgICAgIHBvcHVwXzc4ODlmODVmYzljZDQ4M2I5NmM2ZmJhMjU1NDcwMmQwLnNldENvbnRlbnQoaHRtbF9jYTYwZGU3YzQzOGU0YzZiYTY5OWI5OTllMjVmNTJkOSk7CiAgICAgICAgCgogICAgICAgIG1hcmtlcl9iN2UzYzVmMGFlY2Y0YmRiYTRmYWI5NTIzODI4MWRiYS5iaW5kUG9wdXAocG9wdXBfNzg4OWY4NWZjOWNkNDgzYjk2YzZmYmEyNTU0NzAyZDApCiAgICAgICAgOwoKICAgICAgICAKICAgIAogICAgCiAgICAgICAgICAgIHZhciBtYXJrZXJfNmVhMTJmYWM5OTQ5NDQ0ZTg5NDk2YTQ2ZDc0ODI4NmEgPSBMLm1hcmtlcigKICAgICAgICAgICAgICAgIFs1LjY0ODE2Njg1LCAtMC4xOTAyNzAwNTM3ODQ0MDM4XSwKICAgICAgICAgICAgICAgIHt9CiAgICAgICAgICAgICkuYWRkVG8obWFwXzIzMjY2ZWNiYmU3MDQ0N2E4MGNiNzYwMzEzZjkwODA5KTsKICAgICAgICAKICAgIAogICAgICAgIHZhciBwb3B1cF9iYmUzZjJlMDQ1ZmY0MWMwYjcyNjBjMjVkYTcxMDk5YyA9IEwucG9wdXAoeyJtYXhXaWR0aCI6ICIxMDAlIn0pOwoKICAgICAgICAKICAgICAgICAgICAgdmFyIGh0bWxfZDhhMDk2MjQ4NmFlNGI2MThmM2FkNTM4YjZlMTRiMGYgPSAkKGA8ZGl2IGlkPSJodG1sX2Q4YTA5NjI0ODZhZTRiNjE4ZjNhZDUzOGI2ZTE0YjBmIiBzdHlsZT0id2lkdGg6IDEwMC4wJTsgaGVpZ2h0OiAxMDAuMCU7Ij5Vbml2ZXJzaXR5IG9mIEdoYW5hPC9kaXY+YClbMF07CiAgICAgICAgICAgIHBvcHVwX2JiZTNmMmUwNDVmZjQxYzBiNzI2MGMyNWRhNzEwOTljLnNldENvbnRlbnQoaHRtbF9kOGEwOTYyNDg2YWU0YjYxOGYzYWQ1MzhiNmUxNGIwZik7CiAgICAgICAgCgogICAgICAgIG1hcmtlcl82ZWExMmZhYzk5NDk0NDRlODk0OTZhNDZkNzQ4Mjg2YS5iaW5kUG9wdXAocG9wdXBfYmJlM2YyZTA0NWZmNDFjMGI3MjYwYzI1ZGE3MTA5OWMpCiAgICAgICAgOwoKICAgICAgICAKICAgIAogICAgCiAgICAgICAgICAgIHZhciBtYXJrZXJfN2E1NTFhODU1OGYyNGMzY2JlN2VkYzE3YzQ0NDQ0NmEgPSBMLm1hcmtlcigKICAgICAgICAgICAgICAgIFstMjUuNzU0MjU1OSwgMjguMjMyMTA0M10sCiAgICAgICAgICAgICAgICB7fQogICAgICAgICAgICApLmFkZFRvKG1hcF8yMzI2NmVjYmJlNzA0NDdhODBjYjc2MDMxM2Y5MDgwOSk7CiAgICAgICAgCiAgICAKICAgICAgICB2YXIgcG9wdXBfYTE4NTJlYTUyZTQ5NDQ1Mzg2YWFhN2UzNzM4MzFmZTEgPSBMLnBvcHVwKHsibWF4V2lkdGgiOiAiMTAwJSJ9KTsKCiAgICAgICAgCiAgICAgICAgICAgIHZhciBodG1sX2RlMTQxYjlkMjY5YzRjMWY5ZWRlNDY0NGU1NzNjNTk0ID0gJChgPGRpdiBpZD0iaHRtbF9kZTE0MWI5ZDI2OWM0YzFmOWVkZTQ2NDRlNTczYzU5NCIgc3R5bGU9IndpZHRoOiAxMDAuMCU7IGhlaWdodDogMTAwLjAlOyI+VW5pdmVyc2l0eSBvZiBQcmV0b3JpYTwvZGl2PmApWzBdOwogICAgICAgICAgICBwb3B1cF9hMTg1MmVhNTJlNDk0NDUzODZhYWE3ZTM3MzgzMWZlMS5zZXRDb250ZW50KGh0bWxfZGUxNDFiOWQyNjljNGMxZjllZGU0NjQ0ZTU3M2M1OTQpOwogICAgICAgIAoKICAgICAgICBtYXJrZXJfN2E1NTFhODU1OGYyNGMzY2JlN2VkYzE3YzQ0NDQ0NmEuYmluZFBvcHVwKHBvcHVwX2ExODUyZWE1MmU0OTQ0NTM4NmFhYTdlMzczODMxZmUxKQogICAgICAgIDsKCiAgICAgICAgCiAgICAKICAgIAogICAgICAgICAgICB2YXIgbWFya2VyX2QzMDgxNDcwNGM4NzQyOTM4YjU0ZjcwMzZmOTA1MDVmID0gTC5tYXJrZXIoCiAgICAgICAgICAgICAgICBbNy40NDc3MjQ1LCAzLjg5NjcxMTZdLAogICAgICAgICAgICAgICAge30KICAgICAgICAgICAgKS5hZGRUbyhtYXBfMjMyNjZlY2JiZTcwNDQ3YTgwY2I3NjAzMTNmOTA4MDkpOwogICAgICAgIAogICAgCiAgICAgICAgdmFyIHBvcHVwXzg5MDI0NTU2NmE0NDQzNjVhNTZjYWZkNWQwMDlmZmFmID0gTC5wb3B1cCh7Im1heFdpZHRoIjogIjEwMCUifSk7CgogICAgICAgIAogICAgICAgICAgICB2YXIgaHRtbF9hZWQyNzc3YmFkYWM0YmU2OTdlMWNlMmY1ZDE2YjlkZiA9ICQoYDxkaXYgaWQ9Imh0bWxfYWVkMjc3N2JhZGFjNGJlNjk3ZTFjZTJmNWQxNmI5ZGYiIHN0eWxlPSJ3aWR0aDogMTAwLjAlOyBoZWlnaHQ6IDEwMC4wJTsiPlVuaXZlcnNpdHkgb2YgSWJhZGFuPC9kaXY+YClbMF07CiAgICAgICAgICAgIHBvcHVwXzg5MDI0NTU2NmE0NDQzNjVhNTZjYWZkNWQwMDlmZmFmLnNldENvbnRlbnQoaHRtbF9hZWQyNzc3YmFkYWM0YmU2OTdlMWNlMmY1ZDE2YjlkZik7CiAgICAgICAgCgogICAgICAgIG1hcmtlcl9kMzA4MTQ3MDRjODc0MjkzOGI1NGY3MDM2ZjkwNTA1Zi5iaW5kUG9wdXAocG9wdXBfODkwMjQ1NTY2YTQ0NDM2NWE1NmNhZmQ1ZDAwOWZmYWYpCiAgICAgICAgOwoKICAgICAgICAKICAgIAogICAgCiAgICAgICAgICAgIHZhciBtYXJrZXJfM2U1OWQ2MmU2Nzk1NGUzOTg1MDhmMGIyM2FmODIxOWUgPSBMLm1hcmtlcigKICAgICAgICAgICAgICAgIFstMS4yNTUxNjcyLCAzNi43MjQ4MDk3XSwKICAgICAgICAgICAgICAgIHt9CiAgICAgICAgICAgICkuYWRkVG8obWFwXzIzMjY2ZWNiYmU3MDQ0N2E4MGNiNzYwMzEzZjkwODA5KTsKICAgICAgICAKICAgIAogICAgICAgIHZhciBwb3B1cF85NWZkNzA0YjhiZWM0YjM1YWU0OTIzNTVmOWZiMTFlMSA9IEwucG9wdXAoeyJtYXhXaWR0aCI6ICIxMDAlIn0pOwoKICAgICAgICAKICAgICAgICAgICAgdmFyIGh0bWxfMTRhNzlhMmI4N2VhNDMyY2ExMmIyOWYwZTg1MDNkMTEgPSAkKGA8ZGl2IGlkPSJodG1sXzE0YTc5YTJiODdlYTQzMmNhMTJiMjlmMGU4NTAzZDExIiBzdHlsZT0id2lkdGg6IDEwMC4wJTsgaGVpZ2h0OiAxMDAuMCU7Ij5Vbml2ZXJzaXR5IG9mIE5haXJvYmk8L2Rpdj5gKVswXTsKICAgICAgICAgICAgcG9wdXBfOTVmZDcwNGI4YmVjNGIzNWFlNDkyMzU1ZjlmYjExZTEuc2V0Q29udGVudChodG1sXzE0YTc5YTJiODdlYTQzMmNhMTJiMjlmMGU4NTAzZDExKTsKICAgICAgICAKCiAgICAgICAgbWFya2VyXzNlNTlkNjJlNjc5NTRlMzk4NTA4ZjBiMjNhZjgyMTllLmJpbmRQb3B1cChwb3B1cF85NWZkNzA0YjhiZWM0YjM1YWU0OTIzNTVmOWZiMTFlMSkKICAgICAgICA7CgogICAgICAgIAogICAgCjwvc2NyaXB0Pg==\" style=\"position:absolute;width:100%;height:100%;left:0;top:0;border:none !important;\" allowfullscreen webkitallowfullscreen mozallowfullscreen></iframe></div></div>"
      ],
      "text/plain": [
       "<folium.folium.Map at 0x186dd711eb8>"
      ]
     },
     "execution_count": 11,
     "metadata": {},
     "output_type": "execute_result"
    }
   ],
   "source": [
    "#Map Europe\n",
    "map=folium.Map(location=[54,15], tiles='cartodbpositron',zoom_start=5)\n",
    "\n",
    "#Add universities\n",
    "for idx, row in univ.iterrows():\n",
    "    Marker([row['Latitude'], row['Longitude']], popup=row['Name']).add_to(map)\n",
    "map"
   ]
  },
  {
   "cell_type": "markdown",
   "metadata": {},
   "source": [
    "# Exercise"
   ]
  },
  {
   "cell_type": "markdown",
   "metadata": {},
   "source": [
    "## Introduction\n",
    "\n",
    "You are a Starbucks big data analyst ([that’s a real job!](https://www.forbes.com/sites/bernardmarr/2018/05/28/starbucks-using-big-data-analytics-and-artificial-intelligence-to-boost-performance/#130c7d765cdc)) looking to find the next store into a [Starbucks Reserve Roastery](https://www.businessinsider.com/starbucks-reserve-roastery-compared-regular-starbucks-2018-12#also-on-the-first-floor-was-the-main-coffee-bar-five-hourglass-like-units-hold-the-freshly-roasted-coffee-beans-that-are-used-in-each-order-the-selection-rotates-seasonally-5).  These roasteries are much larger than a typical Starbucks store and have several additional features, including various food and wine options, along with upscale lounge areas.  You'll investigate the demographics of various counties in the state of California, to determine potentially suitable locations.\n",
    "\n",
    "<center>\n",
    "<img src=\"https://i.imgur.com/BIyE6kR.png\" width=\"450\"><br/><br/>\n",
    "</center>\n",
    "\n",
    "Before you get started, set everything up."
   ]
  },
  {
   "cell_type": "markdown",
   "metadata": {},
   "source": [
    "All the libraries and dependencies have already been imported so I will get go ahead and import the data"
   ]
  },
  {
   "cell_type": "code",
   "execution_count": 12,
   "metadata": {},
   "outputs": [
    {
     "data": {
      "text/html": [
       "<div>\n",
       "<style scoped>\n",
       "    .dataframe tbody tr th:only-of-type {\n",
       "        vertical-align: middle;\n",
       "    }\n",
       "\n",
       "    .dataframe tbody tr th {\n",
       "        vertical-align: top;\n",
       "    }\n",
       "\n",
       "    .dataframe thead th {\n",
       "        text-align: right;\n",
       "    }\n",
       "</style>\n",
       "<table border=\"1\" class=\"dataframe\">\n",
       "  <thead>\n",
       "    <tr style=\"text-align: right;\">\n",
       "      <th></th>\n",
       "      <th>Store Number</th>\n",
       "      <th>Store Name</th>\n",
       "      <th>Address</th>\n",
       "      <th>City</th>\n",
       "      <th>Longitude</th>\n",
       "      <th>Latitude</th>\n",
       "    </tr>\n",
       "  </thead>\n",
       "  <tbody>\n",
       "    <tr>\n",
       "      <th>0</th>\n",
       "      <td>10429-100710</td>\n",
       "      <td>Palmdale &amp; Hwy 395</td>\n",
       "      <td>14136 US Hwy 395 Adelanto CA</td>\n",
       "      <td>Adelanto</td>\n",
       "      <td>-117.40</td>\n",
       "      <td>34.51</td>\n",
       "    </tr>\n",
       "    <tr>\n",
       "      <th>1</th>\n",
       "      <td>635-352</td>\n",
       "      <td>Kanan &amp; Thousand Oaks</td>\n",
       "      <td>5827 Kanan Road Agoura CA</td>\n",
       "      <td>Agoura</td>\n",
       "      <td>-118.76</td>\n",
       "      <td>34.16</td>\n",
       "    </tr>\n",
       "    <tr>\n",
       "      <th>2</th>\n",
       "      <td>74510-27669</td>\n",
       "      <td>Vons-Agoura Hills #2001</td>\n",
       "      <td>5671 Kanan Rd. Agoura Hills CA</td>\n",
       "      <td>Agoura Hills</td>\n",
       "      <td>-118.76</td>\n",
       "      <td>34.15</td>\n",
       "    </tr>\n",
       "    <tr>\n",
       "      <th>3</th>\n",
       "      <td>29839-255026</td>\n",
       "      <td>Target Anaheim T-0677</td>\n",
       "      <td>8148 E SANTA ANA CANYON ROAD AHAHEIM CA</td>\n",
       "      <td>AHAHEIM</td>\n",
       "      <td>-117.75</td>\n",
       "      <td>33.87</td>\n",
       "    </tr>\n",
       "    <tr>\n",
       "      <th>4</th>\n",
       "      <td>23463-230284</td>\n",
       "      <td>Safeway - Alameda 3281</td>\n",
       "      <td>2600 5th Street Alameda CA</td>\n",
       "      <td>Alameda</td>\n",
       "      <td>-122.28</td>\n",
       "      <td>37.79</td>\n",
       "    </tr>\n",
       "  </tbody>\n",
       "</table>\n",
       "</div>"
      ],
      "text/plain": [
       "   Store Number               Store Name  \\\n",
       "0  10429-100710       Palmdale & Hwy 395   \n",
       "1       635-352    Kanan & Thousand Oaks   \n",
       "2   74510-27669  Vons-Agoura Hills #2001   \n",
       "3  29839-255026    Target Anaheim T-0677   \n",
       "4  23463-230284   Safeway - Alameda 3281   \n",
       "\n",
       "                                   Address          City  Longitude  Latitude  \n",
       "0             14136 US Hwy 395 Adelanto CA      Adelanto    -117.40     34.51  \n",
       "1                5827 Kanan Road Agoura CA        Agoura    -118.76     34.16  \n",
       "2           5671 Kanan Rd. Agoura Hills CA  Agoura Hills    -118.76     34.15  \n",
       "3  8148 E SANTA ANA CANYON ROAD AHAHEIM CA       AHAHEIM    -117.75     33.87  \n",
       "4               2600 5th Street Alameda CA       Alameda    -122.28     37.79  "
      ]
     },
     "execution_count": 12,
     "metadata": {},
     "output_type": "execute_result"
    }
   ],
   "source": [
    "starbucks =pd.read_csv('starbucks_locations.csv')\n",
    "starbucks.head()"
   ]
  },
  {
   "cell_type": "markdown",
   "metadata": {},
   "source": [
    "Check with stores have missing values: Latitude and Longitude especially"
   ]
  },
  {
   "cell_type": "code",
   "execution_count": 13,
   "metadata": {},
   "outputs": [
    {
     "name": "stdout",
     "output_type": "stream",
     "text": [
      "Store Number    0\n",
      "Store Name      0\n",
      "Address         0\n",
      "City            0\n",
      "Longitude       5\n",
      "Latitude        5\n",
      "dtype: int64\n"
     ]
    }
   ],
   "source": [
    "print(starbucks.isnull().sum())"
   ]
  },
  {
   "cell_type": "markdown",
   "metadata": {},
   "source": [
    "So there are 5 cities that do not have longitude and Latitude coordinates"
   ]
  },
  {
   "cell_type": "code",
   "execution_count": 14,
   "metadata": {},
   "outputs": [
    {
     "data": {
      "text/html": [
       "<div>\n",
       "<style scoped>\n",
       "    .dataframe tbody tr th:only-of-type {\n",
       "        vertical-align: middle;\n",
       "    }\n",
       "\n",
       "    .dataframe tbody tr th {\n",
       "        vertical-align: top;\n",
       "    }\n",
       "\n",
       "    .dataframe thead th {\n",
       "        text-align: right;\n",
       "    }\n",
       "</style>\n",
       "<table border=\"1\" class=\"dataframe\">\n",
       "  <thead>\n",
       "    <tr style=\"text-align: right;\">\n",
       "      <th></th>\n",
       "      <th>Store Number</th>\n",
       "      <th>Store Name</th>\n",
       "      <th>Address</th>\n",
       "      <th>City</th>\n",
       "      <th>Longitude</th>\n",
       "      <th>Latitude</th>\n",
       "    </tr>\n",
       "  </thead>\n",
       "  <tbody>\n",
       "    <tr>\n",
       "      <th>153</th>\n",
       "      <td>5406-945</td>\n",
       "      <td>2224 Shattuck - Berkeley</td>\n",
       "      <td>2224 Shattuck Avenue Berkeley CA</td>\n",
       "      <td>Berkeley</td>\n",
       "      <td>NaN</td>\n",
       "      <td>NaN</td>\n",
       "    </tr>\n",
       "    <tr>\n",
       "      <th>154</th>\n",
       "      <td>570-512</td>\n",
       "      <td>Solano Ave</td>\n",
       "      <td>1799 Solano Avenue Berkeley CA</td>\n",
       "      <td>Berkeley</td>\n",
       "      <td>NaN</td>\n",
       "      <td>NaN</td>\n",
       "    </tr>\n",
       "    <tr>\n",
       "      <th>155</th>\n",
       "      <td>17877-164526</td>\n",
       "      <td>Safeway - Berkeley #691</td>\n",
       "      <td>1444 Shattuck Place Berkeley CA</td>\n",
       "      <td>Berkeley</td>\n",
       "      <td>NaN</td>\n",
       "      <td>NaN</td>\n",
       "    </tr>\n",
       "    <tr>\n",
       "      <th>156</th>\n",
       "      <td>19864-202264</td>\n",
       "      <td>Telegraph &amp; Ashby</td>\n",
       "      <td>3001 Telegraph Avenue Berkeley CA</td>\n",
       "      <td>Berkeley</td>\n",
       "      <td>NaN</td>\n",
       "      <td>NaN</td>\n",
       "    </tr>\n",
       "    <tr>\n",
       "      <th>157</th>\n",
       "      <td>9217-9253</td>\n",
       "      <td>2128 Oxford St.</td>\n",
       "      <td>2128 Oxford Street Berkeley CA</td>\n",
       "      <td>Berkeley</td>\n",
       "      <td>NaN</td>\n",
       "      <td>NaN</td>\n",
       "    </tr>\n",
       "  </tbody>\n",
       "</table>\n",
       "</div>"
      ],
      "text/plain": [
       "     Store Number                Store Name  \\\n",
       "153      5406-945  2224 Shattuck - Berkeley   \n",
       "154       570-512                Solano Ave   \n",
       "155  17877-164526   Safeway - Berkeley #691   \n",
       "156  19864-202264         Telegraph & Ashby   \n",
       "157     9217-9253           2128 Oxford St.   \n",
       "\n",
       "                               Address      City  Longitude  Latitude  \n",
       "153   2224 Shattuck Avenue Berkeley CA  Berkeley        NaN       NaN  \n",
       "154     1799 Solano Avenue Berkeley CA  Berkeley        NaN       NaN  \n",
       "155    1444 Shattuck Place Berkeley CA  Berkeley        NaN       NaN  \n",
       "156  3001 Telegraph Avenue Berkeley CA  Berkeley        NaN       NaN  \n",
       "157     2128 Oxford Street Berkeley CA  Berkeley        NaN       NaN  "
      ]
     },
     "execution_count": 14,
     "metadata": {},
     "output_type": "execute_result"
    }
   ],
   "source": [
    "rows_with_missing= starbucks[starbucks['Longitude'].isnull()]\n",
    "rows_with_missing.head()"
   ]
  },
  {
   "cell_type": "markdown",
   "metadata": {},
   "source": [
    "The 5 locations without Latitude and Longitude coordinates are all in Berkeley. \n",
    "\n",
    "We want to fill all the missing Longitude and Latitude values"
   ]
  },
  {
   "cell_type": "code",
   "execution_count": 18,
   "metadata": {},
   "outputs": [
    {
     "data": {
      "text/html": [
       "<div>\n",
       "<style scoped>\n",
       "    .dataframe tbody tr th:only-of-type {\n",
       "        vertical-align: middle;\n",
       "    }\n",
       "\n",
       "    .dataframe tbody tr th {\n",
       "        vertical-align: top;\n",
       "    }\n",
       "\n",
       "    .dataframe thead th {\n",
       "        text-align: right;\n",
       "    }\n",
       "</style>\n",
       "<table border=\"1\" class=\"dataframe\">\n",
       "  <thead>\n",
       "    <tr style=\"text-align: right;\">\n",
       "      <th></th>\n",
       "      <th>Longitude</th>\n",
       "      <th>Latitude</th>\n",
       "    </tr>\n",
       "  </thead>\n",
       "  <tbody>\n",
       "    <tr>\n",
       "      <th>153</th>\n",
       "      <td>-122.268230</td>\n",
       "      <td>37.868839</td>\n",
       "    </tr>\n",
       "    <tr>\n",
       "      <th>154</th>\n",
       "      <td>-122.280009</td>\n",
       "      <td>37.891471</td>\n",
       "    </tr>\n",
       "    <tr>\n",
       "      <th>155</th>\n",
       "      <td>-122.269869</td>\n",
       "      <td>37.881177</td>\n",
       "    </tr>\n",
       "    <tr>\n",
       "      <th>156</th>\n",
       "      <td>-122.259370</td>\n",
       "      <td>37.855947</td>\n",
       "    </tr>\n",
       "    <tr>\n",
       "      <th>157</th>\n",
       "      <td>-122.266079</td>\n",
       "      <td>37.870410</td>\n",
       "    </tr>\n",
       "  </tbody>\n",
       "</table>\n",
       "</div>"
      ],
      "text/plain": [
       "      Longitude   Latitude\n",
       "153 -122.268230  37.868839\n",
       "154 -122.280009  37.891471\n",
       "155 -122.269869  37.881177\n",
       "156 -122.259370  37.855947\n",
       "157 -122.266079  37.870410"
      ]
     },
     "execution_count": 18,
     "metadata": {},
     "output_type": "execute_result"
    }
   ],
   "source": [
    "def coder2(row):\n",
    "    points = geocode(row, provider='nominatim').geometry.iloc[0]\n",
    "    return pd.Series({'Longitude':points.x, 'Latitude':points.y})\n",
    "berkeley = rows_with_missing.apply(lambda x: coder2(x['Address']), axis=1)\n",
    "berkeley"
   ]
  },
  {
   "cell_type": "code",
   "execution_count": 19,
   "metadata": {},
   "outputs": [],
   "source": [
    "starbucks.update(berkeley, errors='ignore')\n"
   ]
  },
  {
   "cell_type": "code",
   "execution_count": 22,
   "metadata": {},
   "outputs": [
    {
     "data": {
      "text/html": [
       "<div>\n",
       "<style scoped>\n",
       "    .dataframe tbody tr th:only-of-type {\n",
       "        vertical-align: middle;\n",
       "    }\n",
       "\n",
       "    .dataframe tbody tr th {\n",
       "        vertical-align: top;\n",
       "    }\n",
       "\n",
       "    .dataframe thead th {\n",
       "        text-align: right;\n",
       "    }\n",
       "</style>\n",
       "<table border=\"1\" class=\"dataframe\">\n",
       "  <thead>\n",
       "    <tr style=\"text-align: right;\">\n",
       "      <th></th>\n",
       "      <th>Store Number</th>\n",
       "      <th>Store Name</th>\n",
       "      <th>Address</th>\n",
       "      <th>City</th>\n",
       "      <th>Longitude</th>\n",
       "      <th>Latitude</th>\n",
       "    </tr>\n",
       "  </thead>\n",
       "  <tbody>\n",
       "    <tr>\n",
       "      <th>0</th>\n",
       "      <td>10429-100710</td>\n",
       "      <td>Palmdale &amp; Hwy 395</td>\n",
       "      <td>14136 US Hwy 395 Adelanto CA</td>\n",
       "      <td>Adelanto</td>\n",
       "      <td>-117.40</td>\n",
       "      <td>34.51</td>\n",
       "    </tr>\n",
       "    <tr>\n",
       "      <th>1</th>\n",
       "      <td>635-352</td>\n",
       "      <td>Kanan &amp; Thousand Oaks</td>\n",
       "      <td>5827 Kanan Road Agoura CA</td>\n",
       "      <td>Agoura</td>\n",
       "      <td>-118.76</td>\n",
       "      <td>34.16</td>\n",
       "    </tr>\n",
       "    <tr>\n",
       "      <th>2</th>\n",
       "      <td>74510-27669</td>\n",
       "      <td>Vons-Agoura Hills #2001</td>\n",
       "      <td>5671 Kanan Rd. Agoura Hills CA</td>\n",
       "      <td>Agoura Hills</td>\n",
       "      <td>-118.76</td>\n",
       "      <td>34.15</td>\n",
       "    </tr>\n",
       "    <tr>\n",
       "      <th>3</th>\n",
       "      <td>29839-255026</td>\n",
       "      <td>Target Anaheim T-0677</td>\n",
       "      <td>8148 E SANTA ANA CANYON ROAD AHAHEIM CA</td>\n",
       "      <td>AHAHEIM</td>\n",
       "      <td>-117.75</td>\n",
       "      <td>33.87</td>\n",
       "    </tr>\n",
       "    <tr>\n",
       "      <th>4</th>\n",
       "      <td>23463-230284</td>\n",
       "      <td>Safeway - Alameda 3281</td>\n",
       "      <td>2600 5th Street Alameda CA</td>\n",
       "      <td>Alameda</td>\n",
       "      <td>-122.28</td>\n",
       "      <td>37.79</td>\n",
       "    </tr>\n",
       "    <tr>\n",
       "      <th>5</th>\n",
       "      <td>6479-62999</td>\n",
       "      <td>Park &amp; Central Alameda</td>\n",
       "      <td>1364 Park Street Alameda CA</td>\n",
       "      <td>Alameda</td>\n",
       "      <td>-122.24</td>\n",
       "      <td>37.76</td>\n",
       "    </tr>\n",
       "    <tr>\n",
       "      <th>6</th>\n",
       "      <td>5535-728</td>\n",
       "      <td>Webster &amp; Atlantic - Alameda</td>\n",
       "      <td>720 Atlantic Avenue Alameda CA</td>\n",
       "      <td>Alameda</td>\n",
       "      <td>-122.28</td>\n",
       "      <td>37.78</td>\n",
       "    </tr>\n",
       "    <tr>\n",
       "      <th>7</th>\n",
       "      <td>74877-100291</td>\n",
       "      <td>Safeway - Alameda #2708</td>\n",
       "      <td>2227 South Shore Center Alameda CA</td>\n",
       "      <td>Alameda</td>\n",
       "      <td>-122.25</td>\n",
       "      <td>37.76</td>\n",
       "    </tr>\n",
       "    <tr>\n",
       "      <th>8</th>\n",
       "      <td>11161-103516</td>\n",
       "      <td>Tilden &amp; Blanding</td>\n",
       "      <td>2671 Blanding Avene, D Alameda CA</td>\n",
       "      <td>Alameda</td>\n",
       "      <td>-122.23</td>\n",
       "      <td>37.77</td>\n",
       "    </tr>\n",
       "    <tr>\n",
       "      <th>9</th>\n",
       "      <td>19859-196187</td>\n",
       "      <td>Target Alameda T-2829</td>\n",
       "      <td>2700 Fifth St Alameda CA</td>\n",
       "      <td>Alameda</td>\n",
       "      <td>-122.28</td>\n",
       "      <td>37.78</td>\n",
       "    </tr>\n",
       "  </tbody>\n",
       "</table>\n",
       "</div>"
      ],
      "text/plain": [
       "   Store Number                    Store Name  \\\n",
       "0  10429-100710            Palmdale & Hwy 395   \n",
       "1       635-352         Kanan & Thousand Oaks   \n",
       "2   74510-27669       Vons-Agoura Hills #2001   \n",
       "3  29839-255026         Target Anaheim T-0677   \n",
       "4  23463-230284        Safeway - Alameda 3281   \n",
       "5    6479-62999        Park & Central Alameda   \n",
       "6      5535-728  Webster & Atlantic - Alameda   \n",
       "7  74877-100291       Safeway - Alameda #2708   \n",
       "8  11161-103516             Tilden & Blanding   \n",
       "9  19859-196187         Target Alameda T-2829   \n",
       "\n",
       "                                   Address          City  Longitude  Latitude  \n",
       "0             14136 US Hwy 395 Adelanto CA      Adelanto    -117.40     34.51  \n",
       "1                5827 Kanan Road Agoura CA        Agoura    -118.76     34.16  \n",
       "2           5671 Kanan Rd. Agoura Hills CA  Agoura Hills    -118.76     34.15  \n",
       "3  8148 E SANTA ANA CANYON ROAD AHAHEIM CA       AHAHEIM    -117.75     33.87  \n",
       "4               2600 5th Street Alameda CA       Alameda    -122.28     37.79  \n",
       "5              1364 Park Street Alameda CA       Alameda    -122.24     37.76  \n",
       "6           720 Atlantic Avenue Alameda CA       Alameda    -122.28     37.78  \n",
       "7       2227 South Shore Center Alameda CA       Alameda    -122.25     37.76  \n",
       "8        2671 Blanding Avene, D Alameda CA       Alameda    -122.23     37.77  \n",
       "9                 2700 Fifth St Alameda CA       Alameda    -122.28     37.78  "
      ]
     },
     "execution_count": 22,
     "metadata": {},
     "output_type": "execute_result"
    }
   ],
   "source": [
    "starbucks.head(10)\n"
   ]
  },
  {
   "cell_type": "markdown",
   "metadata": {},
   "source": [
    " View Berkeley locations.\n",
    "\n",
    "Let's take a look at the locations you just found.  Visualize the (latitude, longitude) locations in Berkeley in the OpenStreetMap style. "
   ]
  },
  {
   "cell_type": "code",
   "execution_count": 21,
   "metadata": {},
   "outputs": [
    {
     "data": {
      "text/html": [
       "\n",
       "        <iframe\n",
       "            width=\"100%\"\n",
       "            height=\"500px\"\n",
       "            src=\"q_2.html\"\n",
       "            frameborder=\"0\"\n",
       "            allowfullscreen\n",
       "        ></iframe>\n",
       "        "
      ],
      "text/plain": [
       "<IPython.lib.display.IFrame at 0x186ddb60630>"
      ]
     },
     "execution_count": 21,
     "metadata": {},
     "output_type": "execute_result"
    }
   ],
   "source": [
    "\n",
    "# Create a base map\n",
    "map1 = folium.Map(location=[37.88,-122.26], zoom_start=13)\n",
    "\n",
    "# Your code here: Add a marker for each Berkeley location\n",
    "for idx, row in berkeley.iterrows():\n",
    "    Marker([row['Longitude'], row['Latitude']], popup=row['Latitude']).add_to(map1)\n",
    "\n",
    "# Show the map\n",
    "embed_map(map1, 'q_2.html')"
   ]
  },
  {
   "cell_type": "markdown",
   "metadata": {},
   "source": [
    "# Consolidate your data.\n",
    "\n",
    "Run the code below to load a GeoDataFrame `CA_counties` containing the name, area (in square kilometers), and a unique id (in the \"GEOID\" column) for each county in the state of California.  The \"geometry\" column contains a polygon with county boundaries."
   ]
  },
  {
   "cell_type": "code",
   "execution_count": 30,
   "metadata": {},
   "outputs": [
    {
     "ename": "CPLE_OpenFailedError",
     "evalue": "Unable to open EPSG support file gcs.csv.  Try setting the GDAL_DATA environment variable to point to the directory containing EPSG csv files.",
     "output_type": "error",
     "traceback": [
      "\u001b[1;31m---------------------------------------------------------------------------\u001b[0m",
      "\u001b[1;31mCPLE_OpenFailedError\u001b[0m                      Traceback (most recent call last)",
      "\u001b[1;32m<ipython-input-30-6c9477f8d221>\u001b[0m in \u001b[0;36m<module>\u001b[1;34m\u001b[0m\n\u001b[1;32m----> 1\u001b[1;33m \u001b[0mca_boundary\u001b[0m \u001b[1;33m=\u001b[0m \u001b[0mgpd\u001b[0m\u001b[1;33m.\u001b[0m\u001b[0mread_file\u001b[0m\u001b[1;33m(\u001b[0m\u001b[1;34m\"CA_Counties_TIGER2016.shp\"\u001b[0m\u001b[1;33m)\u001b[0m\u001b[1;33m\u001b[0m\u001b[1;33m\u001b[0m\u001b[0m\n\u001b[0m\u001b[0;32m      2\u001b[0m \u001b[0mca_boundary\u001b[0m\u001b[1;33m.\u001b[0m\u001b[0mhead\u001b[0m\u001b[1;33m(\u001b[0m\u001b[1;33m)\u001b[0m\u001b[1;33m\u001b[0m\u001b[1;33m\u001b[0m\u001b[0m\n",
      "\u001b[1;32m~\\Anaconda3\\lib\\site-packages\\geopandas\\io\\file.py\u001b[0m in \u001b[0;36mread_file\u001b[1;34m(filename, bbox, **kwargs)\u001b[0m\n\u001b[0;32m     79\u001b[0m             \u001b[1;31m# no longer be a dict. The following code will be both forward\u001b[0m\u001b[1;33m\u001b[0m\u001b[1;33m\u001b[0m\u001b[1;33m\u001b[0m\u001b[0m\n\u001b[0;32m     80\u001b[0m             \u001b[1;31m# and backward compatible.\u001b[0m\u001b[1;33m\u001b[0m\u001b[1;33m\u001b[0m\u001b[1;33m\u001b[0m\u001b[0m\n\u001b[1;32m---> 81\u001b[1;33m             \u001b[1;32mif\u001b[0m \u001b[0mhasattr\u001b[0m\u001b[1;33m(\u001b[0m\u001b[0mfeatures\u001b[0m\u001b[1;33m.\u001b[0m\u001b[0mcrs\u001b[0m\u001b[1;33m,\u001b[0m \u001b[1;34m\"to_dict\"\u001b[0m\u001b[1;33m)\u001b[0m\u001b[1;33m:\u001b[0m\u001b[1;33m\u001b[0m\u001b[1;33m\u001b[0m\u001b[0m\n\u001b[0m\u001b[0;32m     82\u001b[0m                 \u001b[0mcrs\u001b[0m \u001b[1;33m=\u001b[0m \u001b[0mfeatures\u001b[0m\u001b[1;33m.\u001b[0m\u001b[0mcrs\u001b[0m\u001b[1;33m.\u001b[0m\u001b[0mto_dict\u001b[0m\u001b[1;33m(\u001b[0m\u001b[1;33m)\u001b[0m\u001b[1;33m\u001b[0m\u001b[1;33m\u001b[0m\u001b[0m\n\u001b[0;32m     83\u001b[0m             \u001b[1;32melse\u001b[0m\u001b[1;33m:\u001b[0m\u001b[1;33m\u001b[0m\u001b[1;33m\u001b[0m\u001b[0m\n",
      "\u001b[1;32m~\\Anaconda3\\lib\\site-packages\\fiona\\collection.py\u001b[0m in \u001b[0;36mcrs\u001b[1;34m(self)\u001b[0m\n\u001b[0;32m    212\u001b[0m         \u001b[1;34m\"\"\"Returns a Proj4 string.\"\"\"\u001b[0m\u001b[1;33m\u001b[0m\u001b[1;33m\u001b[0m\u001b[0m\n\u001b[0;32m    213\u001b[0m         \u001b[1;32mif\u001b[0m \u001b[0mself\u001b[0m\u001b[1;33m.\u001b[0m\u001b[0m_crs\u001b[0m \u001b[1;32mis\u001b[0m \u001b[1;32mNone\u001b[0m \u001b[1;32mand\u001b[0m \u001b[0mself\u001b[0m\u001b[1;33m.\u001b[0m\u001b[0msession\u001b[0m\u001b[1;33m:\u001b[0m\u001b[1;33m\u001b[0m\u001b[1;33m\u001b[0m\u001b[0m\n\u001b[1;32m--> 214\u001b[1;33m             \u001b[0mself\u001b[0m\u001b[1;33m.\u001b[0m\u001b[0m_crs\u001b[0m \u001b[1;33m=\u001b[0m \u001b[0mself\u001b[0m\u001b[1;33m.\u001b[0m\u001b[0msession\u001b[0m\u001b[1;33m.\u001b[0m\u001b[0mget_crs\u001b[0m\u001b[1;33m(\u001b[0m\u001b[1;33m)\u001b[0m\u001b[1;33m\u001b[0m\u001b[1;33m\u001b[0m\u001b[0m\n\u001b[0m\u001b[0;32m    215\u001b[0m         \u001b[1;32mreturn\u001b[0m \u001b[0mself\u001b[0m\u001b[1;33m.\u001b[0m\u001b[0m_crs\u001b[0m\u001b[1;33m\u001b[0m\u001b[1;33m\u001b[0m\u001b[0m\n\u001b[0;32m    216\u001b[0m \u001b[1;33m\u001b[0m\u001b[0m\n",
      "\u001b[1;32mfiona/ogrext.pyx\u001b[0m in \u001b[0;36mfiona.ogrext.Session.get_crs\u001b[1;34m()\u001b[0m\n",
      "\u001b[1;32mfiona/_err.pyx\u001b[0m in \u001b[0;36mfiona._err.exc_wrap_pointer\u001b[1;34m()\u001b[0m\n",
      "\u001b[1;31mCPLE_OpenFailedError\u001b[0m: Unable to open EPSG support file gcs.csv.  Try setting the GDAL_DATA environment variable to point to the directory containing EPSG csv files."
     ]
    }
   ],
   "source": [
    "ca_boundary = gpd.read_file(\"CA_Counties_TIGER2016.shp\")\n",
    "ca_boundary.head()"
   ]
  },
  {
   "cell_type": "code",
   "execution_count": null,
   "metadata": {},
   "outputs": [],
   "source": []
  }
 ],
 "metadata": {
  "kernelspec": {
   "display_name": "Python 3",
   "language": "python",
   "name": "python3"
  },
  "language_info": {
   "codemirror_mode": {
    "name": "ipython",
    "version": 3
   },
   "file_extension": ".py",
   "mimetype": "text/x-python",
   "name": "python",
   "nbconvert_exporter": "python",
   "pygments_lexer": "ipython3",
   "version": "3.7.3"
  },
  "toc": {
   "base_numbering": 1,
   "nav_menu": {},
   "number_sections": true,
   "sideBar": true,
   "skip_h1_title": false,
   "title_cell": "Table of Contents",
   "title_sidebar": "Contents",
   "toc_cell": false,
   "toc_position": {},
   "toc_section_display": true,
   "toc_window_display": false
  }
 },
 "nbformat": 4,
 "nbformat_minor": 4
}
